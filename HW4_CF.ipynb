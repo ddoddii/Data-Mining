{
  "nbformat": 4,
  "nbformat_minor": 0,
  "metadata": {
    "colab": {
      "name": "할수있조_HW4_CF.ipynb",
      "provenance": [],
      "include_colab_link": true
    },
    "kernelspec": {
      "name": "python3",
      "display_name": "Python 3"
    },
    "language_info": {
      "name": "python"
    }
  },
  "cells": [
    {
      "cell_type": "markdown",
      "metadata": {
        "id": "view-in-github",
        "colab_type": "text"
      },
      "source": [
        "<a href=\"https://colab.research.google.com/github/ddoddii/Mycolab/blob/master/HW4_CF.ipynb\" target=\"_parent\"><img src=\"https://colab.research.google.com/assets/colab-badge.svg\" alt=\"Open In Colab\"/></a>"
      ]
    },
    {
      "cell_type": "markdown",
      "source": [
        "# CBR(Case-based reasoning) & AR(Association Rules)"
      ],
      "metadata": {
        "id": "nM_2Kg_xKktj"
      }
    },
    {
      "cell_type": "code",
      "source": [
        "from google.colab import drive\n",
        "drive.mount('/content/drive')"
      ],
      "metadata": {
        "colab": {
          "base_uri": "https://localhost:8080/"
        },
        "id": "j0OzqfB2WVg9",
        "outputId": "68f327fe-0ef5-4c2a-c4a2-f1eab9532422"
      },
      "execution_count": null,
      "outputs": [
        {
          "output_type": "stream",
          "name": "stdout",
          "text": [
            "Mounted at /content/drive\n"
          ]
        }
      ]
    },
    {
      "cell_type": "markdown",
      "source": [
        "# CF 협업필터링"
      ],
      "metadata": {
        "id": "Ti5bsHgb7-_h"
      }
    },
    {
      "cell_type": "markdown",
      "source": [
        "애니메이션 시장은 2012년 한국 520억원에서 2019년 700억원으로 증가하였고 일본의 경우 2012년 1300억원에서 2019년 2500억원으로 증가하였고 계속 증가중이다. 또한 과거 TV에서 방영되던 애니메이션 시리즈들이 넷플릭스, 왓챠, 디즈니, 라프텔 등의 OTT로 넘어가면서 애니메이션 추천 알고리즘은 매우 중요해지고 있다. 이처럼 애니메이션 시장이 커지고 애니메이션의 OTT시장이 중요해짐에 따라 실습시간에 다루었던 Collaborative Filtering을 TV 애니메이션으로 적용하여 이용자들이 원하는 애니메이션을 추천 받을 수 있도록 하였다.\n",
        "\n",
        "데이터는 캐글에서 가져왔으며 각 유저는 애니메이션 별로 0~10까지 평점을 메겼다. \n",
        "\n",
        "anime.csv 에는 anime_id, name 등 애니메이션에 대한 정보가 담겨 있으며 \n",
        "\n",
        "rating.csv에는 user_id와 rating등 각 유저가 메긴 평점 데이터가 담겨 있다.\n",
        "\n",
        "\n",
        "https://www.kaggle.com/code/ajmichelutti/collaborative-filtering-on-anime-data/data"
      ],
      "metadata": {
        "id": "yoV9iV8noAPE"
      }
    },
    {
      "cell_type": "markdown",
      "source": [
        "## 전처리"
      ],
      "metadata": {
        "id": "c1xwpPBNAgMA"
      }
    },
    {
      "cell_type": "markdown",
      "source": [
        "* rating의 경우 각 유저는 애니메이션 별로 0~10까지의 평점을 메겼는데 메기지 않은 애니메이션이 있는경우 -1의 값으로 되어있다. \n",
        "추후에 평균 평점을 계산할때 평균이 왜곡될 수 있기 때문에 rating 열에 -1 로 되어 있는 경우 결측치 nan으로 바꾸어 주었다. \n",
        "\n",
        "* 데이터에 ova, 영화 등 다양한 형태의 애니메이션들이 있는데 해당 실습에선 애니메이션 TV 시리즈에 대한 분석을 하기로 했으므로 TV만 추출하여 협업필터링의 과정을 진행하였다. ova나 영화등에 대해 추천을 받고 싶은 경우 해당 데이터셋을 활용하여 추가적인 연구가 가능하다.\n",
        "\n",
        "    - ova나 영화의 경우에는 종류가 다양하고 데이터가 적어 콜드스타트 등의 문제가 발생할 수 있기에 추후 데이터가 쌓일경우 진행해보기로 하였다.\n",
        "\n",
        "\n",
        "* 해당 데이터셋은 anime.csv rating.csv로 분산되어 있는 데이터를 merge 함수를 통해 합쳐주었다.\n",
        "    - anime.csv 에는 anime_id, name 등 애니메이션에 대한 정보가 담겨 있으며 \n",
        "\n",
        "    - rating.csv에는 user_id와 rating등 각 유저가 메긴 평점 데이터가 담겨 있다.\n",
        "\n",
        "* 마지막으로 user들은 애니메이션에 대해 0~10으로 평점을 메길수 있지만 사람마다 많이 주는 평점과 그 범위가 다르기 때문에 평균에서 최대와 최소를 나누어주는 scale로 scaling하여 조정해주었다."
      ],
      "metadata": {
        "id": "Rtvv5CfCAlPX"
      }
    },
    {
      "cell_type": "code",
      "source": [
        "import pandas as pd\n",
        "import numpy as np\n",
        "import scipy as sp\n",
        "from sklearn.metrics.pairwise import cosine_similarity\n",
        "import operator\n",
        "%matplotlib inline"
      ],
      "metadata": {
        "id": "6O3tWlce86HN"
      },
      "execution_count": null,
      "outputs": []
    },
    {
      "cell_type": "code",
      "source": [
        "import pandas as pd\n",
        "anime=pd.read_csv('/content/drive/Shareddrives/데마 팀플/할수있조_HW3/anime.csv')   #데이터셋 불러오기\n",
        "rating=pd.read_csv('/content/drive/Shareddrives/데마 팀플/할수있조_HW3/rating.csv')   #데이터셋 불러오기"
      ],
      "metadata": {
        "id": "KnefFojB79X5"
      },
      "execution_count": null,
      "outputs": []
    },
    {
      "cell_type": "code",
      "source": [
        "anime.head()"
      ],
      "metadata": {
        "colab": {
          "base_uri": "https://localhost:8080/",
          "height": 206
        },
        "id": "oie-Q1N18MM3",
        "outputId": "ff75b66c-f82e-42fe-f488-f1db1f678eb7"
      },
      "execution_count": null,
      "outputs": [
        {
          "output_type": "execute_result",
          "data": {
            "text/plain": [
              "   anime_id                              name  \\\n",
              "0     32281                    Kimi no Na wa.   \n",
              "1      5114  Fullmetal Alchemist: Brotherhood   \n",
              "2     28977                          Gintama°   \n",
              "3      9253                       Steins;Gate   \n",
              "4      9969                     Gintama&#039;   \n",
              "\n",
              "                                               genre   type episodes  rating  \\\n",
              "0               Drama, Romance, School, Supernatural  Movie        1    9.37   \n",
              "1  Action, Adventure, Drama, Fantasy, Magic, Mili...     TV       64    9.26   \n",
              "2  Action, Comedy, Historical, Parody, Samurai, S...     TV       51    9.25   \n",
              "3                                   Sci-Fi, Thriller     TV       24    9.17   \n",
              "4  Action, Comedy, Historical, Parody, Samurai, S...     TV       51    9.16   \n",
              "\n",
              "   members  \n",
              "0   200630  \n",
              "1   793665  \n",
              "2   114262  \n",
              "3   673572  \n",
              "4   151266  "
            ],
            "text/html": [
              "\n",
              "  <div id=\"df-211df92a-5a66-48d1-969c-423e4547c116\">\n",
              "    <div class=\"colab-df-container\">\n",
              "      <div>\n",
              "<style scoped>\n",
              "    .dataframe tbody tr th:only-of-type {\n",
              "        vertical-align: middle;\n",
              "    }\n",
              "\n",
              "    .dataframe tbody tr th {\n",
              "        vertical-align: top;\n",
              "    }\n",
              "\n",
              "    .dataframe thead th {\n",
              "        text-align: right;\n",
              "    }\n",
              "</style>\n",
              "<table border=\"1\" class=\"dataframe\">\n",
              "  <thead>\n",
              "    <tr style=\"text-align: right;\">\n",
              "      <th></th>\n",
              "      <th>anime_id</th>\n",
              "      <th>name</th>\n",
              "      <th>genre</th>\n",
              "      <th>type</th>\n",
              "      <th>episodes</th>\n",
              "      <th>rating</th>\n",
              "      <th>members</th>\n",
              "    </tr>\n",
              "  </thead>\n",
              "  <tbody>\n",
              "    <tr>\n",
              "      <th>0</th>\n",
              "      <td>32281</td>\n",
              "      <td>Kimi no Na wa.</td>\n",
              "      <td>Drama, Romance, School, Supernatural</td>\n",
              "      <td>Movie</td>\n",
              "      <td>1</td>\n",
              "      <td>9.37</td>\n",
              "      <td>200630</td>\n",
              "    </tr>\n",
              "    <tr>\n",
              "      <th>1</th>\n",
              "      <td>5114</td>\n",
              "      <td>Fullmetal Alchemist: Brotherhood</td>\n",
              "      <td>Action, Adventure, Drama, Fantasy, Magic, Mili...</td>\n",
              "      <td>TV</td>\n",
              "      <td>64</td>\n",
              "      <td>9.26</td>\n",
              "      <td>793665</td>\n",
              "    </tr>\n",
              "    <tr>\n",
              "      <th>2</th>\n",
              "      <td>28977</td>\n",
              "      <td>Gintama°</td>\n",
              "      <td>Action, Comedy, Historical, Parody, Samurai, S...</td>\n",
              "      <td>TV</td>\n",
              "      <td>51</td>\n",
              "      <td>9.25</td>\n",
              "      <td>114262</td>\n",
              "    </tr>\n",
              "    <tr>\n",
              "      <th>3</th>\n",
              "      <td>9253</td>\n",
              "      <td>Steins;Gate</td>\n",
              "      <td>Sci-Fi, Thriller</td>\n",
              "      <td>TV</td>\n",
              "      <td>24</td>\n",
              "      <td>9.17</td>\n",
              "      <td>673572</td>\n",
              "    </tr>\n",
              "    <tr>\n",
              "      <th>4</th>\n",
              "      <td>9969</td>\n",
              "      <td>Gintama&amp;#039;</td>\n",
              "      <td>Action, Comedy, Historical, Parody, Samurai, S...</td>\n",
              "      <td>TV</td>\n",
              "      <td>51</td>\n",
              "      <td>9.16</td>\n",
              "      <td>151266</td>\n",
              "    </tr>\n",
              "  </tbody>\n",
              "</table>\n",
              "</div>\n",
              "      <button class=\"colab-df-convert\" onclick=\"convertToInteractive('df-211df92a-5a66-48d1-969c-423e4547c116')\"\n",
              "              title=\"Convert this dataframe to an interactive table.\"\n",
              "              style=\"display:none;\">\n",
              "        \n",
              "  <svg xmlns=\"http://www.w3.org/2000/svg\" height=\"24px\"viewBox=\"0 0 24 24\"\n",
              "       width=\"24px\">\n",
              "    <path d=\"M0 0h24v24H0V0z\" fill=\"none\"/>\n",
              "    <path d=\"M18.56 5.44l.94 2.06.94-2.06 2.06-.94-2.06-.94-.94-2.06-.94 2.06-2.06.94zm-11 1L8.5 8.5l.94-2.06 2.06-.94-2.06-.94L8.5 2.5l-.94 2.06-2.06.94zm10 10l.94 2.06.94-2.06 2.06-.94-2.06-.94-.94-2.06-.94 2.06-2.06.94z\"/><path d=\"M17.41 7.96l-1.37-1.37c-.4-.4-.92-.59-1.43-.59-.52 0-1.04.2-1.43.59L10.3 9.45l-7.72 7.72c-.78.78-.78 2.05 0 2.83L4 21.41c.39.39.9.59 1.41.59.51 0 1.02-.2 1.41-.59l7.78-7.78 2.81-2.81c.8-.78.8-2.07 0-2.86zM5.41 20L4 18.59l7.72-7.72 1.47 1.35L5.41 20z\"/>\n",
              "  </svg>\n",
              "      </button>\n",
              "      \n",
              "  <style>\n",
              "    .colab-df-container {\n",
              "      display:flex;\n",
              "      flex-wrap:wrap;\n",
              "      gap: 12px;\n",
              "    }\n",
              "\n",
              "    .colab-df-convert {\n",
              "      background-color: #E8F0FE;\n",
              "      border: none;\n",
              "      border-radius: 50%;\n",
              "      cursor: pointer;\n",
              "      display: none;\n",
              "      fill: #1967D2;\n",
              "      height: 32px;\n",
              "      padding: 0 0 0 0;\n",
              "      width: 32px;\n",
              "    }\n",
              "\n",
              "    .colab-df-convert:hover {\n",
              "      background-color: #E2EBFA;\n",
              "      box-shadow: 0px 1px 2px rgba(60, 64, 67, 0.3), 0px 1px 3px 1px rgba(60, 64, 67, 0.15);\n",
              "      fill: #174EA6;\n",
              "    }\n",
              "\n",
              "    [theme=dark] .colab-df-convert {\n",
              "      background-color: #3B4455;\n",
              "      fill: #D2E3FC;\n",
              "    }\n",
              "\n",
              "    [theme=dark] .colab-df-convert:hover {\n",
              "      background-color: #434B5C;\n",
              "      box-shadow: 0px 1px 3px 1px rgba(0, 0, 0, 0.15);\n",
              "      filter: drop-shadow(0px 1px 2px rgba(0, 0, 0, 0.3));\n",
              "      fill: #FFFFFF;\n",
              "    }\n",
              "  </style>\n",
              "\n",
              "      <script>\n",
              "        const buttonEl =\n",
              "          document.querySelector('#df-211df92a-5a66-48d1-969c-423e4547c116 button.colab-df-convert');\n",
              "        buttonEl.style.display =\n",
              "          google.colab.kernel.accessAllowed ? 'block' : 'none';\n",
              "\n",
              "        async function convertToInteractive(key) {\n",
              "          const element = document.querySelector('#df-211df92a-5a66-48d1-969c-423e4547c116');\n",
              "          const dataTable =\n",
              "            await google.colab.kernel.invokeFunction('convertToInteractive',\n",
              "                                                     [key], {});\n",
              "          if (!dataTable) return;\n",
              "\n",
              "          const docLinkHtml = 'Like what you see? Visit the ' +\n",
              "            '<a target=\"_blank\" href=https://colab.research.google.com/notebooks/data_table.ipynb>data table notebook</a>'\n",
              "            + ' to learn more about interactive tables.';\n",
              "          element.innerHTML = '';\n",
              "          dataTable['output_type'] = 'display_data';\n",
              "          await google.colab.output.renderOutput(dataTable, element);\n",
              "          const docLink = document.createElement('div');\n",
              "          docLink.innerHTML = docLinkHtml;\n",
              "          element.appendChild(docLink);\n",
              "        }\n",
              "      </script>\n",
              "    </div>\n",
              "  </div>\n",
              "  "
            ]
          },
          "metadata": {},
          "execution_count": 4
        }
      ]
    },
    {
      "cell_type": "code",
      "source": [
        "rating.head()"
      ],
      "metadata": {
        "colab": {
          "base_uri": "https://localhost:8080/",
          "height": 206
        },
        "id": "nuYkSqOW8eBB",
        "outputId": "c9cf9a49-4d4d-4120-810e-5b1b37d266fd"
      },
      "execution_count": null,
      "outputs": [
        {
          "output_type": "execute_result",
          "data": {
            "text/plain": [
              "   user_id  anime_id  rating\n",
              "0        1        20      -1\n",
              "1        1        24      -1\n",
              "2        1        79      -1\n",
              "3        1       226      -1\n",
              "4        1       241      -1"
            ],
            "text/html": [
              "\n",
              "  <div id=\"df-65339a20-1fbd-4e39-b0f4-365509a9c797\">\n",
              "    <div class=\"colab-df-container\">\n",
              "      <div>\n",
              "<style scoped>\n",
              "    .dataframe tbody tr th:only-of-type {\n",
              "        vertical-align: middle;\n",
              "    }\n",
              "\n",
              "    .dataframe tbody tr th {\n",
              "        vertical-align: top;\n",
              "    }\n",
              "\n",
              "    .dataframe thead th {\n",
              "        text-align: right;\n",
              "    }\n",
              "</style>\n",
              "<table border=\"1\" class=\"dataframe\">\n",
              "  <thead>\n",
              "    <tr style=\"text-align: right;\">\n",
              "      <th></th>\n",
              "      <th>user_id</th>\n",
              "      <th>anime_id</th>\n",
              "      <th>rating</th>\n",
              "    </tr>\n",
              "  </thead>\n",
              "  <tbody>\n",
              "    <tr>\n",
              "      <th>0</th>\n",
              "      <td>1</td>\n",
              "      <td>20</td>\n",
              "      <td>-1</td>\n",
              "    </tr>\n",
              "    <tr>\n",
              "      <th>1</th>\n",
              "      <td>1</td>\n",
              "      <td>24</td>\n",
              "      <td>-1</td>\n",
              "    </tr>\n",
              "    <tr>\n",
              "      <th>2</th>\n",
              "      <td>1</td>\n",
              "      <td>79</td>\n",
              "      <td>-1</td>\n",
              "    </tr>\n",
              "    <tr>\n",
              "      <th>3</th>\n",
              "      <td>1</td>\n",
              "      <td>226</td>\n",
              "      <td>-1</td>\n",
              "    </tr>\n",
              "    <tr>\n",
              "      <th>4</th>\n",
              "      <td>1</td>\n",
              "      <td>241</td>\n",
              "      <td>-1</td>\n",
              "    </tr>\n",
              "  </tbody>\n",
              "</table>\n",
              "</div>\n",
              "      <button class=\"colab-df-convert\" onclick=\"convertToInteractive('df-65339a20-1fbd-4e39-b0f4-365509a9c797')\"\n",
              "              title=\"Convert this dataframe to an interactive table.\"\n",
              "              style=\"display:none;\">\n",
              "        \n",
              "  <svg xmlns=\"http://www.w3.org/2000/svg\" height=\"24px\"viewBox=\"0 0 24 24\"\n",
              "       width=\"24px\">\n",
              "    <path d=\"M0 0h24v24H0V0z\" fill=\"none\"/>\n",
              "    <path d=\"M18.56 5.44l.94 2.06.94-2.06 2.06-.94-2.06-.94-.94-2.06-.94 2.06-2.06.94zm-11 1L8.5 8.5l.94-2.06 2.06-.94-2.06-.94L8.5 2.5l-.94 2.06-2.06.94zm10 10l.94 2.06.94-2.06 2.06-.94-2.06-.94-.94-2.06-.94 2.06-2.06.94z\"/><path d=\"M17.41 7.96l-1.37-1.37c-.4-.4-.92-.59-1.43-.59-.52 0-1.04.2-1.43.59L10.3 9.45l-7.72 7.72c-.78.78-.78 2.05 0 2.83L4 21.41c.39.39.9.59 1.41.59.51 0 1.02-.2 1.41-.59l7.78-7.78 2.81-2.81c.8-.78.8-2.07 0-2.86zM5.41 20L4 18.59l7.72-7.72 1.47 1.35L5.41 20z\"/>\n",
              "  </svg>\n",
              "      </button>\n",
              "      \n",
              "  <style>\n",
              "    .colab-df-container {\n",
              "      display:flex;\n",
              "      flex-wrap:wrap;\n",
              "      gap: 12px;\n",
              "    }\n",
              "\n",
              "    .colab-df-convert {\n",
              "      background-color: #E8F0FE;\n",
              "      border: none;\n",
              "      border-radius: 50%;\n",
              "      cursor: pointer;\n",
              "      display: none;\n",
              "      fill: #1967D2;\n",
              "      height: 32px;\n",
              "      padding: 0 0 0 0;\n",
              "      width: 32px;\n",
              "    }\n",
              "\n",
              "    .colab-df-convert:hover {\n",
              "      background-color: #E2EBFA;\n",
              "      box-shadow: 0px 1px 2px rgba(60, 64, 67, 0.3), 0px 1px 3px 1px rgba(60, 64, 67, 0.15);\n",
              "      fill: #174EA6;\n",
              "    }\n",
              "\n",
              "    [theme=dark] .colab-df-convert {\n",
              "      background-color: #3B4455;\n",
              "      fill: #D2E3FC;\n",
              "    }\n",
              "\n",
              "    [theme=dark] .colab-df-convert:hover {\n",
              "      background-color: #434B5C;\n",
              "      box-shadow: 0px 1px 3px 1px rgba(0, 0, 0, 0.15);\n",
              "      filter: drop-shadow(0px 1px 2px rgba(0, 0, 0, 0.3));\n",
              "      fill: #FFFFFF;\n",
              "    }\n",
              "  </style>\n",
              "\n",
              "      <script>\n",
              "        const buttonEl =\n",
              "          document.querySelector('#df-65339a20-1fbd-4e39-b0f4-365509a9c797 button.colab-df-convert');\n",
              "        buttonEl.style.display =\n",
              "          google.colab.kernel.accessAllowed ? 'block' : 'none';\n",
              "\n",
              "        async function convertToInteractive(key) {\n",
              "          const element = document.querySelector('#df-65339a20-1fbd-4e39-b0f4-365509a9c797');\n",
              "          const dataTable =\n",
              "            await google.colab.kernel.invokeFunction('convertToInteractive',\n",
              "                                                     [key], {});\n",
              "          if (!dataTable) return;\n",
              "\n",
              "          const docLinkHtml = 'Like what you see? Visit the ' +\n",
              "            '<a target=\"_blank\" href=https://colab.research.google.com/notebooks/data_table.ipynb>data table notebook</a>'\n",
              "            + ' to learn more about interactive tables.';\n",
              "          element.innerHTML = '';\n",
              "          dataTable['output_type'] = 'display_data';\n",
              "          await google.colab.output.renderOutput(dataTable, element);\n",
              "          const docLink = document.createElement('div');\n",
              "          docLink.innerHTML = docLinkHtml;\n",
              "          element.appendChild(docLink);\n",
              "        }\n",
              "      </script>\n",
              "    </div>\n",
              "  </div>\n",
              "  "
            ]
          },
          "metadata": {},
          "execution_count": 5
        }
      ]
    },
    {
      "cell_type": "markdown",
      "source": [
        "추후에 평균 평점을 계산할때 평균이 왜곡될 수 있기 때문에 rating 열에 -1 로 되어 있는 경우 결측치 nan으로 바꾸어 주었다. "
      ],
      "metadata": {
        "id": "N26GUgjCua0K"
      }
    },
    {
      "cell_type": "code",
      "source": [
        "rating.rating.replace({-1: np.nan}, regex=True, inplace = True)\n",
        "rating.head()"
      ],
      "metadata": {
        "colab": {
          "base_uri": "https://localhost:8080/",
          "height": 206
        },
        "id": "SUz3Tyjt820Y",
        "outputId": "c0fa841a-65d2-4dc7-d683-e2fd9a6673a2"
      },
      "execution_count": null,
      "outputs": [
        {
          "output_type": "execute_result",
          "data": {
            "text/plain": [
              "   user_id  anime_id  rating\n",
              "0        1        20     NaN\n",
              "1        1        24     NaN\n",
              "2        1        79     NaN\n",
              "3        1       226     NaN\n",
              "4        1       241     NaN"
            ],
            "text/html": [
              "\n",
              "  <div id=\"df-381ffecb-7e6b-489a-a6f7-28ceaf60c8e5\">\n",
              "    <div class=\"colab-df-container\">\n",
              "      <div>\n",
              "<style scoped>\n",
              "    .dataframe tbody tr th:only-of-type {\n",
              "        vertical-align: middle;\n",
              "    }\n",
              "\n",
              "    .dataframe tbody tr th {\n",
              "        vertical-align: top;\n",
              "    }\n",
              "\n",
              "    .dataframe thead th {\n",
              "        text-align: right;\n",
              "    }\n",
              "</style>\n",
              "<table border=\"1\" class=\"dataframe\">\n",
              "  <thead>\n",
              "    <tr style=\"text-align: right;\">\n",
              "      <th></th>\n",
              "      <th>user_id</th>\n",
              "      <th>anime_id</th>\n",
              "      <th>rating</th>\n",
              "    </tr>\n",
              "  </thead>\n",
              "  <tbody>\n",
              "    <tr>\n",
              "      <th>0</th>\n",
              "      <td>1</td>\n",
              "      <td>20</td>\n",
              "      <td>NaN</td>\n",
              "    </tr>\n",
              "    <tr>\n",
              "      <th>1</th>\n",
              "      <td>1</td>\n",
              "      <td>24</td>\n",
              "      <td>NaN</td>\n",
              "    </tr>\n",
              "    <tr>\n",
              "      <th>2</th>\n",
              "      <td>1</td>\n",
              "      <td>79</td>\n",
              "      <td>NaN</td>\n",
              "    </tr>\n",
              "    <tr>\n",
              "      <th>3</th>\n",
              "      <td>1</td>\n",
              "      <td>226</td>\n",
              "      <td>NaN</td>\n",
              "    </tr>\n",
              "    <tr>\n",
              "      <th>4</th>\n",
              "      <td>1</td>\n",
              "      <td>241</td>\n",
              "      <td>NaN</td>\n",
              "    </tr>\n",
              "  </tbody>\n",
              "</table>\n",
              "</div>\n",
              "      <button class=\"colab-df-convert\" onclick=\"convertToInteractive('df-381ffecb-7e6b-489a-a6f7-28ceaf60c8e5')\"\n",
              "              title=\"Convert this dataframe to an interactive table.\"\n",
              "              style=\"display:none;\">\n",
              "        \n",
              "  <svg xmlns=\"http://www.w3.org/2000/svg\" height=\"24px\"viewBox=\"0 0 24 24\"\n",
              "       width=\"24px\">\n",
              "    <path d=\"M0 0h24v24H0V0z\" fill=\"none\"/>\n",
              "    <path d=\"M18.56 5.44l.94 2.06.94-2.06 2.06-.94-2.06-.94-.94-2.06-.94 2.06-2.06.94zm-11 1L8.5 8.5l.94-2.06 2.06-.94-2.06-.94L8.5 2.5l-.94 2.06-2.06.94zm10 10l.94 2.06.94-2.06 2.06-.94-2.06-.94-.94-2.06-.94 2.06-2.06.94z\"/><path d=\"M17.41 7.96l-1.37-1.37c-.4-.4-.92-.59-1.43-.59-.52 0-1.04.2-1.43.59L10.3 9.45l-7.72 7.72c-.78.78-.78 2.05 0 2.83L4 21.41c.39.39.9.59 1.41.59.51 0 1.02-.2 1.41-.59l7.78-7.78 2.81-2.81c.8-.78.8-2.07 0-2.86zM5.41 20L4 18.59l7.72-7.72 1.47 1.35L5.41 20z\"/>\n",
              "  </svg>\n",
              "      </button>\n",
              "      \n",
              "  <style>\n",
              "    .colab-df-container {\n",
              "      display:flex;\n",
              "      flex-wrap:wrap;\n",
              "      gap: 12px;\n",
              "    }\n",
              "\n",
              "    .colab-df-convert {\n",
              "      background-color: #E8F0FE;\n",
              "      border: none;\n",
              "      border-radius: 50%;\n",
              "      cursor: pointer;\n",
              "      display: none;\n",
              "      fill: #1967D2;\n",
              "      height: 32px;\n",
              "      padding: 0 0 0 0;\n",
              "      width: 32px;\n",
              "    }\n",
              "\n",
              "    .colab-df-convert:hover {\n",
              "      background-color: #E2EBFA;\n",
              "      box-shadow: 0px 1px 2px rgba(60, 64, 67, 0.3), 0px 1px 3px 1px rgba(60, 64, 67, 0.15);\n",
              "      fill: #174EA6;\n",
              "    }\n",
              "\n",
              "    [theme=dark] .colab-df-convert {\n",
              "      background-color: #3B4455;\n",
              "      fill: #D2E3FC;\n",
              "    }\n",
              "\n",
              "    [theme=dark] .colab-df-convert:hover {\n",
              "      background-color: #434B5C;\n",
              "      box-shadow: 0px 1px 3px 1px rgba(0, 0, 0, 0.15);\n",
              "      filter: drop-shadow(0px 1px 2px rgba(0, 0, 0, 0.3));\n",
              "      fill: #FFFFFF;\n",
              "    }\n",
              "  </style>\n",
              "\n",
              "      <script>\n",
              "        const buttonEl =\n",
              "          document.querySelector('#df-381ffecb-7e6b-489a-a6f7-28ceaf60c8e5 button.colab-df-convert');\n",
              "        buttonEl.style.display =\n",
              "          google.colab.kernel.accessAllowed ? 'block' : 'none';\n",
              "\n",
              "        async function convertToInteractive(key) {\n",
              "          const element = document.querySelector('#df-381ffecb-7e6b-489a-a6f7-28ceaf60c8e5');\n",
              "          const dataTable =\n",
              "            await google.colab.kernel.invokeFunction('convertToInteractive',\n",
              "                                                     [key], {});\n",
              "          if (!dataTable) return;\n",
              "\n",
              "          const docLinkHtml = 'Like what you see? Visit the ' +\n",
              "            '<a target=\"_blank\" href=https://colab.research.google.com/notebooks/data_table.ipynb>data table notebook</a>'\n",
              "            + ' to learn more about interactive tables.';\n",
              "          element.innerHTML = '';\n",
              "          dataTable['output_type'] = 'display_data';\n",
              "          await google.colab.output.renderOutput(dataTable, element);\n",
              "          const docLink = document.createElement('div');\n",
              "          docLink.innerHTML = docLinkHtml;\n",
              "          element.appendChild(docLink);\n",
              "        }\n",
              "      </script>\n",
              "    </div>\n",
              "  </div>\n",
              "  "
            ]
          },
          "metadata": {},
          "execution_count": 6
        }
      ]
    },
    {
      "cell_type": "markdown",
      "source": [
        "데이터에 ova, 영화 등 다양한 형태의 애니메이션들이 있는데 해당 실습에선 애니메이션 TV 시리즈에 대한 분석을 하기로 했으므로 TV만 추출하였다. 영화나 ova에 대한 분석을 원할 경우 다음과 같은 코드로 추가적인 분석이 가능하다. \n",
        "\n",
        "\n",
        "\n",
        "```\n",
        "anime_ova = anime[anime['type']=='ova']\n",
        "anime_ova.head()\n",
        "```\n",
        "\n",
        "\n",
        "\n",
        "ova나 영화의 경우에는 종류가 다양하고 데이터가 적어 콜드스타트 등의 문제가 발생할 수 있기에 추후 데이터가 쌓일경우 진행해보기로 하였다. \n",
        "콜드스타느는 새로운 유저들에 대한 충분한 정보가 수집된 상태가 아니라서 해당 유저들에게 적절한 제품을 추천해주지 못하는 문제를 말한다. 콜드스타트가 발생하는 3가지 원인은 New Community (새로운 서비스로 자료가 없을때), New item(신제품 자료가 없음), New user(신규 유저에 대한 히스토리가 없음).해당 사례는 ova나 movie의 경우에는 New Community로 자료가 부족할때에 해당된다. \n",
        "\n",
        "https://techblog-history-younghunjo1.tistory.com/166"
      ],
      "metadata": {
        "id": "QZinJrmKuxfa"
      }
    },
    {
      "cell_type": "code",
      "source": [
        "# TV데이터만 사용\n",
        "\n",
        "anime_tv = anime[anime['type']=='TV']\n",
        "anime_tv.head()"
      ],
      "metadata": {
        "colab": {
          "base_uri": "https://localhost:8080/",
          "height": 206
        },
        "id": "I338f5O_9I-6",
        "outputId": "20abf18a-a20b-49ba-bc3d-ff4880a920e0"
      },
      "execution_count": null,
      "outputs": [
        {
          "output_type": "execute_result",
          "data": {
            "text/plain": [
              "   anime_id                                               name  \\\n",
              "1      5114                   Fullmetal Alchemist: Brotherhood   \n",
              "2     28977                                           Gintama°   \n",
              "3      9253                                        Steins;Gate   \n",
              "4      9969                                      Gintama&#039;   \n",
              "5     32935  Haikyuu!!: Karasuno Koukou VS Shiratorizawa Ga...   \n",
              "\n",
              "                                               genre type episodes  rating  \\\n",
              "1  Action, Adventure, Drama, Fantasy, Magic, Mili...   TV       64    9.26   \n",
              "2  Action, Comedy, Historical, Parody, Samurai, S...   TV       51    9.25   \n",
              "3                                   Sci-Fi, Thriller   TV       24    9.17   \n",
              "4  Action, Comedy, Historical, Parody, Samurai, S...   TV       51    9.16   \n",
              "5             Comedy, Drama, School, Shounen, Sports   TV       10    9.15   \n",
              "\n",
              "   members  \n",
              "1   793665  \n",
              "2   114262  \n",
              "3   673572  \n",
              "4   151266  \n",
              "5    93351  "
            ],
            "text/html": [
              "\n",
              "  <div id=\"df-b044a73c-597c-4299-a059-413b45450c77\">\n",
              "    <div class=\"colab-df-container\">\n",
              "      <div>\n",
              "<style scoped>\n",
              "    .dataframe tbody tr th:only-of-type {\n",
              "        vertical-align: middle;\n",
              "    }\n",
              "\n",
              "    .dataframe tbody tr th {\n",
              "        vertical-align: top;\n",
              "    }\n",
              "\n",
              "    .dataframe thead th {\n",
              "        text-align: right;\n",
              "    }\n",
              "</style>\n",
              "<table border=\"1\" class=\"dataframe\">\n",
              "  <thead>\n",
              "    <tr style=\"text-align: right;\">\n",
              "      <th></th>\n",
              "      <th>anime_id</th>\n",
              "      <th>name</th>\n",
              "      <th>genre</th>\n",
              "      <th>type</th>\n",
              "      <th>episodes</th>\n",
              "      <th>rating</th>\n",
              "      <th>members</th>\n",
              "    </tr>\n",
              "  </thead>\n",
              "  <tbody>\n",
              "    <tr>\n",
              "      <th>1</th>\n",
              "      <td>5114</td>\n",
              "      <td>Fullmetal Alchemist: Brotherhood</td>\n",
              "      <td>Action, Adventure, Drama, Fantasy, Magic, Mili...</td>\n",
              "      <td>TV</td>\n",
              "      <td>64</td>\n",
              "      <td>9.26</td>\n",
              "      <td>793665</td>\n",
              "    </tr>\n",
              "    <tr>\n",
              "      <th>2</th>\n",
              "      <td>28977</td>\n",
              "      <td>Gintama°</td>\n",
              "      <td>Action, Comedy, Historical, Parody, Samurai, S...</td>\n",
              "      <td>TV</td>\n",
              "      <td>51</td>\n",
              "      <td>9.25</td>\n",
              "      <td>114262</td>\n",
              "    </tr>\n",
              "    <tr>\n",
              "      <th>3</th>\n",
              "      <td>9253</td>\n",
              "      <td>Steins;Gate</td>\n",
              "      <td>Sci-Fi, Thriller</td>\n",
              "      <td>TV</td>\n",
              "      <td>24</td>\n",
              "      <td>9.17</td>\n",
              "      <td>673572</td>\n",
              "    </tr>\n",
              "    <tr>\n",
              "      <th>4</th>\n",
              "      <td>9969</td>\n",
              "      <td>Gintama&amp;#039;</td>\n",
              "      <td>Action, Comedy, Historical, Parody, Samurai, S...</td>\n",
              "      <td>TV</td>\n",
              "      <td>51</td>\n",
              "      <td>9.16</td>\n",
              "      <td>151266</td>\n",
              "    </tr>\n",
              "    <tr>\n",
              "      <th>5</th>\n",
              "      <td>32935</td>\n",
              "      <td>Haikyuu!!: Karasuno Koukou VS Shiratorizawa Ga...</td>\n",
              "      <td>Comedy, Drama, School, Shounen, Sports</td>\n",
              "      <td>TV</td>\n",
              "      <td>10</td>\n",
              "      <td>9.15</td>\n",
              "      <td>93351</td>\n",
              "    </tr>\n",
              "  </tbody>\n",
              "</table>\n",
              "</div>\n",
              "      <button class=\"colab-df-convert\" onclick=\"convertToInteractive('df-b044a73c-597c-4299-a059-413b45450c77')\"\n",
              "              title=\"Convert this dataframe to an interactive table.\"\n",
              "              style=\"display:none;\">\n",
              "        \n",
              "  <svg xmlns=\"http://www.w3.org/2000/svg\" height=\"24px\"viewBox=\"0 0 24 24\"\n",
              "       width=\"24px\">\n",
              "    <path d=\"M0 0h24v24H0V0z\" fill=\"none\"/>\n",
              "    <path d=\"M18.56 5.44l.94 2.06.94-2.06 2.06-.94-2.06-.94-.94-2.06-.94 2.06-2.06.94zm-11 1L8.5 8.5l.94-2.06 2.06-.94-2.06-.94L8.5 2.5l-.94 2.06-2.06.94zm10 10l.94 2.06.94-2.06 2.06-.94-2.06-.94-.94-2.06-.94 2.06-2.06.94z\"/><path d=\"M17.41 7.96l-1.37-1.37c-.4-.4-.92-.59-1.43-.59-.52 0-1.04.2-1.43.59L10.3 9.45l-7.72 7.72c-.78.78-.78 2.05 0 2.83L4 21.41c.39.39.9.59 1.41.59.51 0 1.02-.2 1.41-.59l7.78-7.78 2.81-2.81c.8-.78.8-2.07 0-2.86zM5.41 20L4 18.59l7.72-7.72 1.47 1.35L5.41 20z\"/>\n",
              "  </svg>\n",
              "      </button>\n",
              "      \n",
              "  <style>\n",
              "    .colab-df-container {\n",
              "      display:flex;\n",
              "      flex-wrap:wrap;\n",
              "      gap: 12px;\n",
              "    }\n",
              "\n",
              "    .colab-df-convert {\n",
              "      background-color: #E8F0FE;\n",
              "      border: none;\n",
              "      border-radius: 50%;\n",
              "      cursor: pointer;\n",
              "      display: none;\n",
              "      fill: #1967D2;\n",
              "      height: 32px;\n",
              "      padding: 0 0 0 0;\n",
              "      width: 32px;\n",
              "    }\n",
              "\n",
              "    .colab-df-convert:hover {\n",
              "      background-color: #E2EBFA;\n",
              "      box-shadow: 0px 1px 2px rgba(60, 64, 67, 0.3), 0px 1px 3px 1px rgba(60, 64, 67, 0.15);\n",
              "      fill: #174EA6;\n",
              "    }\n",
              "\n",
              "    [theme=dark] .colab-df-convert {\n",
              "      background-color: #3B4455;\n",
              "      fill: #D2E3FC;\n",
              "    }\n",
              "\n",
              "    [theme=dark] .colab-df-convert:hover {\n",
              "      background-color: #434B5C;\n",
              "      box-shadow: 0px 1px 3px 1px rgba(0, 0, 0, 0.15);\n",
              "      filter: drop-shadow(0px 1px 2px rgba(0, 0, 0, 0.3));\n",
              "      fill: #FFFFFF;\n",
              "    }\n",
              "  </style>\n",
              "\n",
              "      <script>\n",
              "        const buttonEl =\n",
              "          document.querySelector('#df-b044a73c-597c-4299-a059-413b45450c77 button.colab-df-convert');\n",
              "        buttonEl.style.display =\n",
              "          google.colab.kernel.accessAllowed ? 'block' : 'none';\n",
              "\n",
              "        async function convertToInteractive(key) {\n",
              "          const element = document.querySelector('#df-b044a73c-597c-4299-a059-413b45450c77');\n",
              "          const dataTable =\n",
              "            await google.colab.kernel.invokeFunction('convertToInteractive',\n",
              "                                                     [key], {});\n",
              "          if (!dataTable) return;\n",
              "\n",
              "          const docLinkHtml = 'Like what you see? Visit the ' +\n",
              "            '<a target=\"_blank\" href=https://colab.research.google.com/notebooks/data_table.ipynb>data table notebook</a>'\n",
              "            + ' to learn more about interactive tables.';\n",
              "          element.innerHTML = '';\n",
              "          dataTable['output_type'] = 'display_data';\n",
              "          await google.colab.output.renderOutput(dataTable, element);\n",
              "          const docLink = document.createElement('div');\n",
              "          docLink.innerHTML = docLinkHtml;\n",
              "          element.appendChild(docLink);\n",
              "        }\n",
              "      </script>\n",
              "    </div>\n",
              "  </div>\n",
              "  "
            ]
          },
          "metadata": {},
          "execution_count": 7
        }
      ]
    },
    {
      "cell_type": "markdown",
      "source": [
        "anime.csv rating.csv로 분산되어 있는 데이터를 merge 함수를 통해 합쳐주었다."
      ],
      "metadata": {
        "id": "qvoR5MW7vvKs"
      }
    },
    {
      "cell_type": "code",
      "source": [
        "# Join the two dataframes on the anime_id columns\n",
        "\n",
        "merged = rating.merge(anime_tv, left_on = 'anime_id', right_on = 'anime_id', suffixes= ['_user', ''])\n",
        "merged.rename(columns = {'rating_user':'user_rating'}, inplace = True)"
      ],
      "metadata": {
        "id": "umgoFVM19K2d"
      },
      "execution_count": null,
      "outputs": []
    },
    {
      "cell_type": "code",
      "source": [
        "merged=merged[['user_id', 'name', 'user_rating']]\n",
        "merged.head()"
      ],
      "metadata": {
        "colab": {
          "base_uri": "https://localhost:8080/",
          "height": 206
        },
        "id": "STkvgAZ29OGG",
        "outputId": "40f6e715-327d-4609-80bb-bd90d0c62ddd"
      },
      "execution_count": null,
      "outputs": [
        {
          "output_type": "execute_result",
          "data": {
            "text/plain": [
              "   user_id    name  user_rating\n",
              "0        1  Naruto          NaN\n",
              "1        3  Naruto          8.0\n",
              "2        5  Naruto          6.0\n",
              "3        6  Naruto          NaN\n",
              "4       10  Naruto          NaN"
            ],
            "text/html": [
              "\n",
              "  <div id=\"df-1882b002-918d-4086-a04d-806812da4553\">\n",
              "    <div class=\"colab-df-container\">\n",
              "      <div>\n",
              "<style scoped>\n",
              "    .dataframe tbody tr th:only-of-type {\n",
              "        vertical-align: middle;\n",
              "    }\n",
              "\n",
              "    .dataframe tbody tr th {\n",
              "        vertical-align: top;\n",
              "    }\n",
              "\n",
              "    .dataframe thead th {\n",
              "        text-align: right;\n",
              "    }\n",
              "</style>\n",
              "<table border=\"1\" class=\"dataframe\">\n",
              "  <thead>\n",
              "    <tr style=\"text-align: right;\">\n",
              "      <th></th>\n",
              "      <th>user_id</th>\n",
              "      <th>name</th>\n",
              "      <th>user_rating</th>\n",
              "    </tr>\n",
              "  </thead>\n",
              "  <tbody>\n",
              "    <tr>\n",
              "      <th>0</th>\n",
              "      <td>1</td>\n",
              "      <td>Naruto</td>\n",
              "      <td>NaN</td>\n",
              "    </tr>\n",
              "    <tr>\n",
              "      <th>1</th>\n",
              "      <td>3</td>\n",
              "      <td>Naruto</td>\n",
              "      <td>8.0</td>\n",
              "    </tr>\n",
              "    <tr>\n",
              "      <th>2</th>\n",
              "      <td>5</td>\n",
              "      <td>Naruto</td>\n",
              "      <td>6.0</td>\n",
              "    </tr>\n",
              "    <tr>\n",
              "      <th>3</th>\n",
              "      <td>6</td>\n",
              "      <td>Naruto</td>\n",
              "      <td>NaN</td>\n",
              "    </tr>\n",
              "    <tr>\n",
              "      <th>4</th>\n",
              "      <td>10</td>\n",
              "      <td>Naruto</td>\n",
              "      <td>NaN</td>\n",
              "    </tr>\n",
              "  </tbody>\n",
              "</table>\n",
              "</div>\n",
              "      <button class=\"colab-df-convert\" onclick=\"convertToInteractive('df-1882b002-918d-4086-a04d-806812da4553')\"\n",
              "              title=\"Convert this dataframe to an interactive table.\"\n",
              "              style=\"display:none;\">\n",
              "        \n",
              "  <svg xmlns=\"http://www.w3.org/2000/svg\" height=\"24px\"viewBox=\"0 0 24 24\"\n",
              "       width=\"24px\">\n",
              "    <path d=\"M0 0h24v24H0V0z\" fill=\"none\"/>\n",
              "    <path d=\"M18.56 5.44l.94 2.06.94-2.06 2.06-.94-2.06-.94-.94-2.06-.94 2.06-2.06.94zm-11 1L8.5 8.5l.94-2.06 2.06-.94-2.06-.94L8.5 2.5l-.94 2.06-2.06.94zm10 10l.94 2.06.94-2.06 2.06-.94-2.06-.94-.94-2.06-.94 2.06-2.06.94z\"/><path d=\"M17.41 7.96l-1.37-1.37c-.4-.4-.92-.59-1.43-.59-.52 0-1.04.2-1.43.59L10.3 9.45l-7.72 7.72c-.78.78-.78 2.05 0 2.83L4 21.41c.39.39.9.59 1.41.59.51 0 1.02-.2 1.41-.59l7.78-7.78 2.81-2.81c.8-.78.8-2.07 0-2.86zM5.41 20L4 18.59l7.72-7.72 1.47 1.35L5.41 20z\"/>\n",
              "  </svg>\n",
              "      </button>\n",
              "      \n",
              "  <style>\n",
              "    .colab-df-container {\n",
              "      display:flex;\n",
              "      flex-wrap:wrap;\n",
              "      gap: 12px;\n",
              "    }\n",
              "\n",
              "    .colab-df-convert {\n",
              "      background-color: #E8F0FE;\n",
              "      border: none;\n",
              "      border-radius: 50%;\n",
              "      cursor: pointer;\n",
              "      display: none;\n",
              "      fill: #1967D2;\n",
              "      height: 32px;\n",
              "      padding: 0 0 0 0;\n",
              "      width: 32px;\n",
              "    }\n",
              "\n",
              "    .colab-df-convert:hover {\n",
              "      background-color: #E2EBFA;\n",
              "      box-shadow: 0px 1px 2px rgba(60, 64, 67, 0.3), 0px 1px 3px 1px rgba(60, 64, 67, 0.15);\n",
              "      fill: #174EA6;\n",
              "    }\n",
              "\n",
              "    [theme=dark] .colab-df-convert {\n",
              "      background-color: #3B4455;\n",
              "      fill: #D2E3FC;\n",
              "    }\n",
              "\n",
              "    [theme=dark] .colab-df-convert:hover {\n",
              "      background-color: #434B5C;\n",
              "      box-shadow: 0px 1px 3px 1px rgba(0, 0, 0, 0.15);\n",
              "      filter: drop-shadow(0px 1px 2px rgba(0, 0, 0, 0.3));\n",
              "      fill: #FFFFFF;\n",
              "    }\n",
              "  </style>\n",
              "\n",
              "      <script>\n",
              "        const buttonEl =\n",
              "          document.querySelector('#df-1882b002-918d-4086-a04d-806812da4553 button.colab-df-convert');\n",
              "        buttonEl.style.display =\n",
              "          google.colab.kernel.accessAllowed ? 'block' : 'none';\n",
              "\n",
              "        async function convertToInteractive(key) {\n",
              "          const element = document.querySelector('#df-1882b002-918d-4086-a04d-806812da4553');\n",
              "          const dataTable =\n",
              "            await google.colab.kernel.invokeFunction('convertToInteractive',\n",
              "                                                     [key], {});\n",
              "          if (!dataTable) return;\n",
              "\n",
              "          const docLinkHtml = 'Like what you see? Visit the ' +\n",
              "            '<a target=\"_blank\" href=https://colab.research.google.com/notebooks/data_table.ipynb>data table notebook</a>'\n",
              "            + ' to learn more about interactive tables.';\n",
              "          element.innerHTML = '';\n",
              "          dataTable['output_type'] = 'display_data';\n",
              "          await google.colab.output.renderOutput(dataTable, element);\n",
              "          const docLink = document.createElement('div');\n",
              "          docLink.innerHTML = docLinkHtml;\n",
              "          element.appendChild(docLink);\n",
              "        }\n",
              "      </script>\n",
              "    </div>\n",
              "  </div>\n",
              "  "
            ]
          },
          "metadata": {},
          "execution_count": 9
        }
      ]
    },
    {
      "cell_type": "code",
      "source": [
        "df = merged.pivot_table('user_rating', index = 'user_id', columns = 'name')\n",
        "df.head()"
      ],
      "metadata": {
        "colab": {
          "base_uri": "https://localhost:8080/",
          "height": 398
        },
        "id": "XMmbv9B99ao3",
        "outputId": "a3964ea2-e6cf-4f15-eff4-02a83513d38b"
      },
      "execution_count": null,
      "outputs": [
        {
          "output_type": "execute_result",
          "data": {
            "text/plain": [
              "name     .hack//Roots  .hack//Sign  .hack//Tasogare no Udewa Densetsu  009-1  \\\n",
              "user_id                                                                        \n",
              "1                 NaN          NaN                                NaN    NaN   \n",
              "2                 NaN          NaN                                NaN    NaN   \n",
              "3                 NaN          NaN                                NaN    NaN   \n",
              "5                 NaN          NaN                                NaN    NaN   \n",
              "7                 NaN          NaN                                NaN    NaN   \n",
              "\n",
              "name     07-Ghost  11eyes  12-sai.: Chicchana Mune no Tokimeki  \\\n",
              "user_id                                                          \n",
              "1             NaN     NaN                                  NaN   \n",
              "2             NaN     NaN                                  NaN   \n",
              "3             NaN     NaN                                  NaN   \n",
              "5             NaN     NaN                                  NaN   \n",
              "7             NaN     NaN                                  NaN   \n",
              "\n",
              "name     12-sai.: Chicchana Mune no Tokimeki 2nd Season  \\\n",
              "user_id                                                   \n",
              "1                                                   NaN   \n",
              "2                                                   NaN   \n",
              "3                                                   NaN   \n",
              "5                                                   NaN   \n",
              "7                                                   NaN   \n",
              "\n",
              "name     2020 Nyeon Ujuui Wonder Kiddy  21 Emon  ...  \\\n",
              "user_id                                          ...   \n",
              "1                                  NaN      NaN  ...   \n",
              "2                                  NaN      NaN  ...   \n",
              "3                                  NaN      NaN  ...   \n",
              "5                                  NaN      NaN  ...   \n",
              "7                                  NaN      NaN  ...   \n",
              "\n",
              "name     Zone of the Enders: Dolores, I  Zukkoke Knight: Don De La Mancha  \\\n",
              "user_id                                                                     \n",
              "1                                   NaN                               NaN   \n",
              "2                                   NaN                               NaN   \n",
              "3                                   NaN                               NaN   \n",
              "5                                   NaN                               NaN   \n",
              "7                                   NaN                               NaN   \n",
              "\n",
              "name     ef: A Tale of Melodies.  ef: A Tale of Memories.  gdgd Fairies  \\\n",
              "user_id                                                                   \n",
              "1                            NaN                      NaN           NaN   \n",
              "2                            NaN                      NaN           NaN   \n",
              "3                            NaN                      NaN           NaN   \n",
              "5                            NaN                      NaN           NaN   \n",
              "7                            NaN                      NaN           NaN   \n",
              "\n",
              "name     gdgd Fairies 2  iDOLM@STER Xenoglossia  s.CRY.ed  xxxHOLiC  \\\n",
              "user_id                                                               \n",
              "1                   NaN                     NaN       NaN       NaN   \n",
              "2                   NaN                     NaN       NaN       NaN   \n",
              "3                   NaN                     NaN       NaN       NaN   \n",
              "5                   NaN                     NaN       NaN       2.0   \n",
              "7                   NaN                     NaN       NaN       NaN   \n",
              "\n",
              "name     xxxHOLiC Kei  \n",
              "user_id                \n",
              "1                 NaN  \n",
              "2                 NaN  \n",
              "3                 NaN  \n",
              "5                 NaN  \n",
              "7                 NaN  \n",
              "\n",
              "[5 rows x 3069 columns]"
            ],
            "text/html": [
              "\n",
              "  <div id=\"df-0303b46d-17f1-4ead-9860-9a5bd7687773\">\n",
              "    <div class=\"colab-df-container\">\n",
              "      <div>\n",
              "<style scoped>\n",
              "    .dataframe tbody tr th:only-of-type {\n",
              "        vertical-align: middle;\n",
              "    }\n",
              "\n",
              "    .dataframe tbody tr th {\n",
              "        vertical-align: top;\n",
              "    }\n",
              "\n",
              "    .dataframe thead th {\n",
              "        text-align: right;\n",
              "    }\n",
              "</style>\n",
              "<table border=\"1\" class=\"dataframe\">\n",
              "  <thead>\n",
              "    <tr style=\"text-align: right;\">\n",
              "      <th>name</th>\n",
              "      <th>.hack//Roots</th>\n",
              "      <th>.hack//Sign</th>\n",
              "      <th>.hack//Tasogare no Udewa Densetsu</th>\n",
              "      <th>009-1</th>\n",
              "      <th>07-Ghost</th>\n",
              "      <th>11eyes</th>\n",
              "      <th>12-sai.: Chicchana Mune no Tokimeki</th>\n",
              "      <th>12-sai.: Chicchana Mune no Tokimeki 2nd Season</th>\n",
              "      <th>2020 Nyeon Ujuui Wonder Kiddy</th>\n",
              "      <th>21 Emon</th>\n",
              "      <th>...</th>\n",
              "      <th>Zone of the Enders: Dolores, I</th>\n",
              "      <th>Zukkoke Knight: Don De La Mancha</th>\n",
              "      <th>ef: A Tale of Melodies.</th>\n",
              "      <th>ef: A Tale of Memories.</th>\n",
              "      <th>gdgd Fairies</th>\n",
              "      <th>gdgd Fairies 2</th>\n",
              "      <th>iDOLM@STER Xenoglossia</th>\n",
              "      <th>s.CRY.ed</th>\n",
              "      <th>xxxHOLiC</th>\n",
              "      <th>xxxHOLiC Kei</th>\n",
              "    </tr>\n",
              "    <tr>\n",
              "      <th>user_id</th>\n",
              "      <th></th>\n",
              "      <th></th>\n",
              "      <th></th>\n",
              "      <th></th>\n",
              "      <th></th>\n",
              "      <th></th>\n",
              "      <th></th>\n",
              "      <th></th>\n",
              "      <th></th>\n",
              "      <th></th>\n",
              "      <th></th>\n",
              "      <th></th>\n",
              "      <th></th>\n",
              "      <th></th>\n",
              "      <th></th>\n",
              "      <th></th>\n",
              "      <th></th>\n",
              "      <th></th>\n",
              "      <th></th>\n",
              "      <th></th>\n",
              "      <th></th>\n",
              "    </tr>\n",
              "  </thead>\n",
              "  <tbody>\n",
              "    <tr>\n",
              "      <th>1</th>\n",
              "      <td>NaN</td>\n",
              "      <td>NaN</td>\n",
              "      <td>NaN</td>\n",
              "      <td>NaN</td>\n",
              "      <td>NaN</td>\n",
              "      <td>NaN</td>\n",
              "      <td>NaN</td>\n",
              "      <td>NaN</td>\n",
              "      <td>NaN</td>\n",
              "      <td>NaN</td>\n",
              "      <td>...</td>\n",
              "      <td>NaN</td>\n",
              "      <td>NaN</td>\n",
              "      <td>NaN</td>\n",
              "      <td>NaN</td>\n",
              "      <td>NaN</td>\n",
              "      <td>NaN</td>\n",
              "      <td>NaN</td>\n",
              "      <td>NaN</td>\n",
              "      <td>NaN</td>\n",
              "      <td>NaN</td>\n",
              "    </tr>\n",
              "    <tr>\n",
              "      <th>2</th>\n",
              "      <td>NaN</td>\n",
              "      <td>NaN</td>\n",
              "      <td>NaN</td>\n",
              "      <td>NaN</td>\n",
              "      <td>NaN</td>\n",
              "      <td>NaN</td>\n",
              "      <td>NaN</td>\n",
              "      <td>NaN</td>\n",
              "      <td>NaN</td>\n",
              "      <td>NaN</td>\n",
              "      <td>...</td>\n",
              "      <td>NaN</td>\n",
              "      <td>NaN</td>\n",
              "      <td>NaN</td>\n",
              "      <td>NaN</td>\n",
              "      <td>NaN</td>\n",
              "      <td>NaN</td>\n",
              "      <td>NaN</td>\n",
              "      <td>NaN</td>\n",
              "      <td>NaN</td>\n",
              "      <td>NaN</td>\n",
              "    </tr>\n",
              "    <tr>\n",
              "      <th>3</th>\n",
              "      <td>NaN</td>\n",
              "      <td>NaN</td>\n",
              "      <td>NaN</td>\n",
              "      <td>NaN</td>\n",
              "      <td>NaN</td>\n",
              "      <td>NaN</td>\n",
              "      <td>NaN</td>\n",
              "      <td>NaN</td>\n",
              "      <td>NaN</td>\n",
              "      <td>NaN</td>\n",
              "      <td>...</td>\n",
              "      <td>NaN</td>\n",
              "      <td>NaN</td>\n",
              "      <td>NaN</td>\n",
              "      <td>NaN</td>\n",
              "      <td>NaN</td>\n",
              "      <td>NaN</td>\n",
              "      <td>NaN</td>\n",
              "      <td>NaN</td>\n",
              "      <td>NaN</td>\n",
              "      <td>NaN</td>\n",
              "    </tr>\n",
              "    <tr>\n",
              "      <th>5</th>\n",
              "      <td>NaN</td>\n",
              "      <td>NaN</td>\n",
              "      <td>NaN</td>\n",
              "      <td>NaN</td>\n",
              "      <td>NaN</td>\n",
              "      <td>NaN</td>\n",
              "      <td>NaN</td>\n",
              "      <td>NaN</td>\n",
              "      <td>NaN</td>\n",
              "      <td>NaN</td>\n",
              "      <td>...</td>\n",
              "      <td>NaN</td>\n",
              "      <td>NaN</td>\n",
              "      <td>NaN</td>\n",
              "      <td>NaN</td>\n",
              "      <td>NaN</td>\n",
              "      <td>NaN</td>\n",
              "      <td>NaN</td>\n",
              "      <td>NaN</td>\n",
              "      <td>2.0</td>\n",
              "      <td>NaN</td>\n",
              "    </tr>\n",
              "    <tr>\n",
              "      <th>7</th>\n",
              "      <td>NaN</td>\n",
              "      <td>NaN</td>\n",
              "      <td>NaN</td>\n",
              "      <td>NaN</td>\n",
              "      <td>NaN</td>\n",
              "      <td>NaN</td>\n",
              "      <td>NaN</td>\n",
              "      <td>NaN</td>\n",
              "      <td>NaN</td>\n",
              "      <td>NaN</td>\n",
              "      <td>...</td>\n",
              "      <td>NaN</td>\n",
              "      <td>NaN</td>\n",
              "      <td>NaN</td>\n",
              "      <td>NaN</td>\n",
              "      <td>NaN</td>\n",
              "      <td>NaN</td>\n",
              "      <td>NaN</td>\n",
              "      <td>NaN</td>\n",
              "      <td>NaN</td>\n",
              "      <td>NaN</td>\n",
              "    </tr>\n",
              "  </tbody>\n",
              "</table>\n",
              "<p>5 rows × 3069 columns</p>\n",
              "</div>\n",
              "      <button class=\"colab-df-convert\" onclick=\"convertToInteractive('df-0303b46d-17f1-4ead-9860-9a5bd7687773')\"\n",
              "              title=\"Convert this dataframe to an interactive table.\"\n",
              "              style=\"display:none;\">\n",
              "        \n",
              "  <svg xmlns=\"http://www.w3.org/2000/svg\" height=\"24px\"viewBox=\"0 0 24 24\"\n",
              "       width=\"24px\">\n",
              "    <path d=\"M0 0h24v24H0V0z\" fill=\"none\"/>\n",
              "    <path d=\"M18.56 5.44l.94 2.06.94-2.06 2.06-.94-2.06-.94-.94-2.06-.94 2.06-2.06.94zm-11 1L8.5 8.5l.94-2.06 2.06-.94-2.06-.94L8.5 2.5l-.94 2.06-2.06.94zm10 10l.94 2.06.94-2.06 2.06-.94-2.06-.94-.94-2.06-.94 2.06-2.06.94z\"/><path d=\"M17.41 7.96l-1.37-1.37c-.4-.4-.92-.59-1.43-.59-.52 0-1.04.2-1.43.59L10.3 9.45l-7.72 7.72c-.78.78-.78 2.05 0 2.83L4 21.41c.39.39.9.59 1.41.59.51 0 1.02-.2 1.41-.59l7.78-7.78 2.81-2.81c.8-.78.8-2.07 0-2.86zM5.41 20L4 18.59l7.72-7.72 1.47 1.35L5.41 20z\"/>\n",
              "  </svg>\n",
              "      </button>\n",
              "      \n",
              "  <style>\n",
              "    .colab-df-container {\n",
              "      display:flex;\n",
              "      flex-wrap:wrap;\n",
              "      gap: 12px;\n",
              "    }\n",
              "\n",
              "    .colab-df-convert {\n",
              "      background-color: #E8F0FE;\n",
              "      border: none;\n",
              "      border-radius: 50%;\n",
              "      cursor: pointer;\n",
              "      display: none;\n",
              "      fill: #1967D2;\n",
              "      height: 32px;\n",
              "      padding: 0 0 0 0;\n",
              "      width: 32px;\n",
              "    }\n",
              "\n",
              "    .colab-df-convert:hover {\n",
              "      background-color: #E2EBFA;\n",
              "      box-shadow: 0px 1px 2px rgba(60, 64, 67, 0.3), 0px 1px 3px 1px rgba(60, 64, 67, 0.15);\n",
              "      fill: #174EA6;\n",
              "    }\n",
              "\n",
              "    [theme=dark] .colab-df-convert {\n",
              "      background-color: #3B4455;\n",
              "      fill: #D2E3FC;\n",
              "    }\n",
              "\n",
              "    [theme=dark] .colab-df-convert:hover {\n",
              "      background-color: #434B5C;\n",
              "      box-shadow: 0px 1px 3px 1px rgba(0, 0, 0, 0.15);\n",
              "      filter: drop-shadow(0px 1px 2px rgba(0, 0, 0, 0.3));\n",
              "      fill: #FFFFFF;\n",
              "    }\n",
              "  </style>\n",
              "\n",
              "      <script>\n",
              "        const buttonEl =\n",
              "          document.querySelector('#df-0303b46d-17f1-4ead-9860-9a5bd7687773 button.colab-df-convert');\n",
              "        buttonEl.style.display =\n",
              "          google.colab.kernel.accessAllowed ? 'block' : 'none';\n",
              "\n",
              "        async function convertToInteractive(key) {\n",
              "          const element = document.querySelector('#df-0303b46d-17f1-4ead-9860-9a5bd7687773');\n",
              "          const dataTable =\n",
              "            await google.colab.kernel.invokeFunction('convertToInteractive',\n",
              "                                                     [key], {});\n",
              "          if (!dataTable) return;\n",
              "\n",
              "          const docLinkHtml = 'Like what you see? Visit the ' +\n",
              "            '<a target=\"_blank\" href=https://colab.research.google.com/notebooks/data_table.ipynb>data table notebook</a>'\n",
              "            + ' to learn more about interactive tables.';\n",
              "          element.innerHTML = '';\n",
              "          dataTable['output_type'] = 'display_data';\n",
              "          await google.colab.output.renderOutput(dataTable, element);\n",
              "          const docLink = document.createElement('div');\n",
              "          docLink.innerHTML = docLinkHtml;\n",
              "          element.appendChild(docLink);\n",
              "        }\n",
              "      </script>\n",
              "    </div>\n",
              "  </div>\n",
              "  "
            ]
          },
          "metadata": {},
          "execution_count": 10
        }
      ]
    },
    {
      "cell_type": "code",
      "source": [
        "df.shape"
      ],
      "metadata": {
        "colab": {
          "base_uri": "https://localhost:8080/"
        },
        "id": "fsZhBgdo9kuy",
        "outputId": "ad5720f1-c945-447b-dc0a-1ad40ab947d2"
      },
      "execution_count": null,
      "outputs": [
        {
          "output_type": "execute_result",
          "data": {
            "text/plain": [
              "(68929, 3069)"
            ]
          },
          "metadata": {},
          "execution_count": 11
        }
      ]
    },
    {
      "cell_type": "markdown",
      "source": [
        "user들별로 평점을 주는 범위가 다르기 때문에 scaling하여 조정"
      ],
      "metadata": {
        "id": "E9ckXxqyAIdR"
      }
    },
    {
      "cell_type": "code",
      "source": [
        "import numpy as np\n",
        "df_scaled = df.apply(lambda x: (x-np.mean(x))/(np.max(x)-np.min(x)), axis=1)"
      ],
      "metadata": {
        "id": "8KEWFnPq9pws"
      },
      "execution_count": null,
      "outputs": []
    },
    {
      "cell_type": "markdown",
      "source": [
        "## Item-based collaborative filtering\n"
      ],
      "metadata": {
        "id": "7lSpQh9N9sBR"
      }
    },
    {
      "cell_type": "markdown",
      "source": [
        "Item-based collaborative filtering은 Item*user으로 구성된 matrix를 사용하여 유사도 측정하는 방식으로 item간 similarity를 기반으로 추천을 해준다. User-based collaborative filtering의 경우에는 user간 similarity를 기반으로 추천해주는데 성능이 다른 방식에 비해 떨어지고 다음과 같은 이유들 때문에 User-based 대신  Item-based collaborative filtering을 사용해 주었다.\n",
        "\n",
        "* 아마존과 넷플릭스 등의 서비스에서는 대부분 아이템 기반을 활용한다. 유저가 아이템을 평가하는 순간 다른 아이템을 추천해주어야 하는데 사용자 기반 CF의 경우에는 매 평가시마다 유사도 정보를 업데이트 해주어야 하므로 현실적으로 어렵다. 반면 아이템 기반에서는 일정 기간마다 유사도 정보를 업데이트 하는 것으로도 충분히 적절한 서비스를 제공할 수 있다. \n",
        "\n",
        "* 또 대부분의 경우는 사용자에 비해 아이템 수가 적기 때문에, 아이템 간의 관계 데이터가 발생할 확률이 높다. 따라서 데이터가 누적될수록 추천의 정확도가 높아질 가능성이 더 높다\n",
        "\n",
        "https://scvgoe.github.io/2017-02-01-%ED%98%91%EC%97%85-%ED%95%84%ED%84%B0%EB%A7%81-%EC%B6%94%EC%B2%9C-%EC%8B%9C%EC%8A%A4%ED%85%9C-(Collaborative-Filtering-Recommendation-System)/"
      ],
      "metadata": {
        "id": "tVDoitYlCfMF"
      }
    },
    {
      "cell_type": "code",
      "source": [
        "df_scaled = df_scaled.transpose().fillna(0)\n",
        "df_scaled.head(5)"
      ],
      "metadata": {
        "colab": {
          "base_uri": "https://localhost:8080/",
          "height": 267
        },
        "id": "9cq80yXY9tKP",
        "outputId": "b81611c3-ae1f-4611-f023-3dc7ade4f42a"
      },
      "execution_count": null,
      "outputs": [
        {
          "output_type": "execute_result",
          "data": {
            "text/plain": [
              "user_id                            1      2      3      5      7      8      \\\n",
              "name                                                                          \n",
              ".hack//Roots                         0.0    0.0    0.0    0.0    0.0    0.0   \n",
              ".hack//Sign                          0.0    0.0    0.0    0.0    0.0    0.0   \n",
              ".hack//Tasogare no Udewa Densetsu    0.0    0.0    0.0    0.0    0.0    0.0   \n",
              "009-1                                0.0    0.0    0.0    0.0    0.0    0.0   \n",
              "07-Ghost                             0.0    0.0    0.0    0.0    0.0    0.0   \n",
              "\n",
              "user_id                            9      10     11     12     ...  73505  \\\n",
              "name                                                           ...          \n",
              ".hack//Roots                         0.0    0.0    0.0    0.0  ...    0.0   \n",
              ".hack//Sign                          0.0    0.0    0.0    0.0  ...    0.0   \n",
              ".hack//Tasogare no Udewa Densetsu    0.0    0.0    0.0    0.0  ...    0.0   \n",
              "009-1                                0.0    0.0    0.0    0.0  ...    0.0   \n",
              "07-Ghost                             0.0    0.0    0.0    0.0  ...    0.0   \n",
              "\n",
              "user_id                            73506  73507  73508  73510  73511  73512  \\\n",
              "name                                                                          \n",
              ".hack//Roots                         0.0    0.0    0.0    0.0    0.0    0.0   \n",
              ".hack//Sign                          0.0    0.0    0.0    0.0    0.0    0.0   \n",
              ".hack//Tasogare no Udewa Densetsu    0.0    0.0    0.0    0.0    0.0    0.0   \n",
              "009-1                                0.0    0.0    0.0    0.0    0.0    0.0   \n",
              "07-Ghost                             0.0    0.0    0.0    0.0    0.0    0.0   \n",
              "\n",
              "user_id                            73513  73515  73516  \n",
              "name                                                    \n",
              ".hack//Roots                         0.0    0.0    0.0  \n",
              ".hack//Sign                          0.0    0.0    0.0  \n",
              ".hack//Tasogare no Udewa Densetsu    0.0    0.0    0.0  \n",
              "009-1                                0.0    0.0    0.0  \n",
              "07-Ghost                             0.0    0.0    0.0  \n",
              "\n",
              "[5 rows x 68929 columns]"
            ],
            "text/html": [
              "\n",
              "  <div id=\"df-8b0f60be-f572-402e-a6ea-4c305631cfae\">\n",
              "    <div class=\"colab-df-container\">\n",
              "      <div>\n",
              "<style scoped>\n",
              "    .dataframe tbody tr th:only-of-type {\n",
              "        vertical-align: middle;\n",
              "    }\n",
              "\n",
              "    .dataframe tbody tr th {\n",
              "        vertical-align: top;\n",
              "    }\n",
              "\n",
              "    .dataframe thead th {\n",
              "        text-align: right;\n",
              "    }\n",
              "</style>\n",
              "<table border=\"1\" class=\"dataframe\">\n",
              "  <thead>\n",
              "    <tr style=\"text-align: right;\">\n",
              "      <th>user_id</th>\n",
              "      <th>1</th>\n",
              "      <th>2</th>\n",
              "      <th>3</th>\n",
              "      <th>5</th>\n",
              "      <th>7</th>\n",
              "      <th>8</th>\n",
              "      <th>9</th>\n",
              "      <th>10</th>\n",
              "      <th>11</th>\n",
              "      <th>12</th>\n",
              "      <th>...</th>\n",
              "      <th>73505</th>\n",
              "      <th>73506</th>\n",
              "      <th>73507</th>\n",
              "      <th>73508</th>\n",
              "      <th>73510</th>\n",
              "      <th>73511</th>\n",
              "      <th>73512</th>\n",
              "      <th>73513</th>\n",
              "      <th>73515</th>\n",
              "      <th>73516</th>\n",
              "    </tr>\n",
              "    <tr>\n",
              "      <th>name</th>\n",
              "      <th></th>\n",
              "      <th></th>\n",
              "      <th></th>\n",
              "      <th></th>\n",
              "      <th></th>\n",
              "      <th></th>\n",
              "      <th></th>\n",
              "      <th></th>\n",
              "      <th></th>\n",
              "      <th></th>\n",
              "      <th></th>\n",
              "      <th></th>\n",
              "      <th></th>\n",
              "      <th></th>\n",
              "      <th></th>\n",
              "      <th></th>\n",
              "      <th></th>\n",
              "      <th></th>\n",
              "      <th></th>\n",
              "      <th></th>\n",
              "      <th></th>\n",
              "    </tr>\n",
              "  </thead>\n",
              "  <tbody>\n",
              "    <tr>\n",
              "      <th>.hack//Roots</th>\n",
              "      <td>0.0</td>\n",
              "      <td>0.0</td>\n",
              "      <td>0.0</td>\n",
              "      <td>0.0</td>\n",
              "      <td>0.0</td>\n",
              "      <td>0.0</td>\n",
              "      <td>0.0</td>\n",
              "      <td>0.0</td>\n",
              "      <td>0.0</td>\n",
              "      <td>0.0</td>\n",
              "      <td>...</td>\n",
              "      <td>0.0</td>\n",
              "      <td>0.0</td>\n",
              "      <td>0.0</td>\n",
              "      <td>0.0</td>\n",
              "      <td>0.0</td>\n",
              "      <td>0.0</td>\n",
              "      <td>0.0</td>\n",
              "      <td>0.0</td>\n",
              "      <td>0.0</td>\n",
              "      <td>0.0</td>\n",
              "    </tr>\n",
              "    <tr>\n",
              "      <th>.hack//Sign</th>\n",
              "      <td>0.0</td>\n",
              "      <td>0.0</td>\n",
              "      <td>0.0</td>\n",
              "      <td>0.0</td>\n",
              "      <td>0.0</td>\n",
              "      <td>0.0</td>\n",
              "      <td>0.0</td>\n",
              "      <td>0.0</td>\n",
              "      <td>0.0</td>\n",
              "      <td>0.0</td>\n",
              "      <td>...</td>\n",
              "      <td>0.0</td>\n",
              "      <td>0.0</td>\n",
              "      <td>0.0</td>\n",
              "      <td>0.0</td>\n",
              "      <td>0.0</td>\n",
              "      <td>0.0</td>\n",
              "      <td>0.0</td>\n",
              "      <td>0.0</td>\n",
              "      <td>0.0</td>\n",
              "      <td>0.0</td>\n",
              "    </tr>\n",
              "    <tr>\n",
              "      <th>.hack//Tasogare no Udewa Densetsu</th>\n",
              "      <td>0.0</td>\n",
              "      <td>0.0</td>\n",
              "      <td>0.0</td>\n",
              "      <td>0.0</td>\n",
              "      <td>0.0</td>\n",
              "      <td>0.0</td>\n",
              "      <td>0.0</td>\n",
              "      <td>0.0</td>\n",
              "      <td>0.0</td>\n",
              "      <td>0.0</td>\n",
              "      <td>...</td>\n",
              "      <td>0.0</td>\n",
              "      <td>0.0</td>\n",
              "      <td>0.0</td>\n",
              "      <td>0.0</td>\n",
              "      <td>0.0</td>\n",
              "      <td>0.0</td>\n",
              "      <td>0.0</td>\n",
              "      <td>0.0</td>\n",
              "      <td>0.0</td>\n",
              "      <td>0.0</td>\n",
              "    </tr>\n",
              "    <tr>\n",
              "      <th>009-1</th>\n",
              "      <td>0.0</td>\n",
              "      <td>0.0</td>\n",
              "      <td>0.0</td>\n",
              "      <td>0.0</td>\n",
              "      <td>0.0</td>\n",
              "      <td>0.0</td>\n",
              "      <td>0.0</td>\n",
              "      <td>0.0</td>\n",
              "      <td>0.0</td>\n",
              "      <td>0.0</td>\n",
              "      <td>...</td>\n",
              "      <td>0.0</td>\n",
              "      <td>0.0</td>\n",
              "      <td>0.0</td>\n",
              "      <td>0.0</td>\n",
              "      <td>0.0</td>\n",
              "      <td>0.0</td>\n",
              "      <td>0.0</td>\n",
              "      <td>0.0</td>\n",
              "      <td>0.0</td>\n",
              "      <td>0.0</td>\n",
              "    </tr>\n",
              "    <tr>\n",
              "      <th>07-Ghost</th>\n",
              "      <td>0.0</td>\n",
              "      <td>0.0</td>\n",
              "      <td>0.0</td>\n",
              "      <td>0.0</td>\n",
              "      <td>0.0</td>\n",
              "      <td>0.0</td>\n",
              "      <td>0.0</td>\n",
              "      <td>0.0</td>\n",
              "      <td>0.0</td>\n",
              "      <td>0.0</td>\n",
              "      <td>...</td>\n",
              "      <td>0.0</td>\n",
              "      <td>0.0</td>\n",
              "      <td>0.0</td>\n",
              "      <td>0.0</td>\n",
              "      <td>0.0</td>\n",
              "      <td>0.0</td>\n",
              "      <td>0.0</td>\n",
              "      <td>0.0</td>\n",
              "      <td>0.0</td>\n",
              "      <td>0.0</td>\n",
              "    </tr>\n",
              "  </tbody>\n",
              "</table>\n",
              "<p>5 rows × 68929 columns</p>\n",
              "</div>\n",
              "      <button class=\"colab-df-convert\" onclick=\"convertToInteractive('df-8b0f60be-f572-402e-a6ea-4c305631cfae')\"\n",
              "              title=\"Convert this dataframe to an interactive table.\"\n",
              "              style=\"display:none;\">\n",
              "        \n",
              "  <svg xmlns=\"http://www.w3.org/2000/svg\" height=\"24px\"viewBox=\"0 0 24 24\"\n",
              "       width=\"24px\">\n",
              "    <path d=\"M0 0h24v24H0V0z\" fill=\"none\"/>\n",
              "    <path d=\"M18.56 5.44l.94 2.06.94-2.06 2.06-.94-2.06-.94-.94-2.06-.94 2.06-2.06.94zm-11 1L8.5 8.5l.94-2.06 2.06-.94-2.06-.94L8.5 2.5l-.94 2.06-2.06.94zm10 10l.94 2.06.94-2.06 2.06-.94-2.06-.94-.94-2.06-.94 2.06-2.06.94z\"/><path d=\"M17.41 7.96l-1.37-1.37c-.4-.4-.92-.59-1.43-.59-.52 0-1.04.2-1.43.59L10.3 9.45l-7.72 7.72c-.78.78-.78 2.05 0 2.83L4 21.41c.39.39.9.59 1.41.59.51 0 1.02-.2 1.41-.59l7.78-7.78 2.81-2.81c.8-.78.8-2.07 0-2.86zM5.41 20L4 18.59l7.72-7.72 1.47 1.35L5.41 20z\"/>\n",
              "  </svg>\n",
              "      </button>\n",
              "      \n",
              "  <style>\n",
              "    .colab-df-container {\n",
              "      display:flex;\n",
              "      flex-wrap:wrap;\n",
              "      gap: 12px;\n",
              "    }\n",
              "\n",
              "    .colab-df-convert {\n",
              "      background-color: #E8F0FE;\n",
              "      border: none;\n",
              "      border-radius: 50%;\n",
              "      cursor: pointer;\n",
              "      display: none;\n",
              "      fill: #1967D2;\n",
              "      height: 32px;\n",
              "      padding: 0 0 0 0;\n",
              "      width: 32px;\n",
              "    }\n",
              "\n",
              "    .colab-df-convert:hover {\n",
              "      background-color: #E2EBFA;\n",
              "      box-shadow: 0px 1px 2px rgba(60, 64, 67, 0.3), 0px 1px 3px 1px rgba(60, 64, 67, 0.15);\n",
              "      fill: #174EA6;\n",
              "    }\n",
              "\n",
              "    [theme=dark] .colab-df-convert {\n",
              "      background-color: #3B4455;\n",
              "      fill: #D2E3FC;\n",
              "    }\n",
              "\n",
              "    [theme=dark] .colab-df-convert:hover {\n",
              "      background-color: #434B5C;\n",
              "      box-shadow: 0px 1px 3px 1px rgba(0, 0, 0, 0.15);\n",
              "      filter: drop-shadow(0px 1px 2px rgba(0, 0, 0, 0.3));\n",
              "      fill: #FFFFFF;\n",
              "    }\n",
              "  </style>\n",
              "\n",
              "      <script>\n",
              "        const buttonEl =\n",
              "          document.querySelector('#df-8b0f60be-f572-402e-a6ea-4c305631cfae button.colab-df-convert');\n",
              "        buttonEl.style.display =\n",
              "          google.colab.kernel.accessAllowed ? 'block' : 'none';\n",
              "\n",
              "        async function convertToInteractive(key) {\n",
              "          const element = document.querySelector('#df-8b0f60be-f572-402e-a6ea-4c305631cfae');\n",
              "          const dataTable =\n",
              "            await google.colab.kernel.invokeFunction('convertToInteractive',\n",
              "                                                     [key], {});\n",
              "          if (!dataTable) return;\n",
              "\n",
              "          const docLinkHtml = 'Like what you see? Visit the ' +\n",
              "            '<a target=\"_blank\" href=https://colab.research.google.com/notebooks/data_table.ipynb>data table notebook</a>'\n",
              "            + ' to learn more about interactive tables.';\n",
              "          element.innerHTML = '';\n",
              "          dataTable['output_type'] = 'display_data';\n",
              "          await google.colab.output.renderOutput(dataTable, element);\n",
              "          const docLink = document.createElement('div');\n",
              "          docLink.innerHTML = docLinkHtml;\n",
              "          element.appendChild(docLink);\n",
              "        }\n",
              "      </script>\n",
              "    </div>\n",
              "  </div>\n",
              "  "
            ]
          },
          "metadata": {},
          "execution_count": 13
        }
      ]
    },
    {
      "cell_type": "markdown",
      "source": [
        "- user들 간 평점이 비슷한 정도를 기반으로 영화들의 유사도 평가"
      ],
      "metadata": {
        "id": "t455WE2g91iD"
      }
    },
    {
      "cell_type": "markdown",
      "source": [
        "코사인 유사도는 두 벡터의 코사인 각도를 계산하여 유사성을 측정한다. 코사인 함수의 경우 0도에서 값이1, 180도에서 값이 -1이다. 두 벡터가 서로 가까우면 각도가 작아서 값이 1에 가까워져 유사하다고 하고 두 벡터가 서로 대척되면 각도가 커져서 값이 -1에 가까워져 유사하지 않다고 한다. 벡터 길이가 1이 되도록 정규화시킨 후 단위 벡터간의 내적을 통해 구한다. 정규화를 수정했기 때문에 두 벡터의 스케일 차이가 클 때 유용하다. \n",
        "\n",
        "https://abluesnake.tistory.com/100"
      ],
      "metadata": {
        "id": "PGkoiB8SJeds"
      }
    },
    {
      "cell_type": "markdown",
      "source": [
        "![image.png](data:image/png;base64,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)"
      ],
      "metadata": {
        "id": "_HI7K_P5Kc20"
      }
    },
    {
      "cell_type": "markdown",
      "source": [
        "코사인 유사도는 벡터의 크기가 아닌 방향에 대해서만 유사한 정도를 측정하는 목적으로 사용한다. 차원이 많아도 손쉽게 유사도를 계산할 수 있다는 장점 때문에 많은 분야에서 활용된다. 따라서 해당 CF에서도 차원이 많지만 손쉽게 할 수 있기에 코사인 유사도를 사용해주었다. \n",
        "\n",
        "https://hasu.tistory.com/20"
      ],
      "metadata": {
        "id": "7N7dC2-hKllp"
      }
    },
    {
      "cell_type": "code",
      "source": [
        "from sklearn.metrics.pairwise import cosine_similarity\n",
        "anime_sim = cosine_similarity(df_scaled, df_scaled)\n",
        "print(anime_sim.shape)"
      ],
      "metadata": {
        "colab": {
          "base_uri": "https://localhost:8080/"
        },
        "id": "Pk6czY0M9wR9",
        "outputId": "dd1bb4c8-c94e-4659-ea87-3eba9b2ab766"
      },
      "execution_count": null,
      "outputs": [
        {
          "output_type": "stream",
          "name": "stdout",
          "text": [
            "(3069, 3069)\n"
          ]
        }
      ]
    },
    {
      "cell_type": "code",
      "source": [
        "anime_sim = pd.DataFrame(anime_sim, index = df_scaled.index, columns = df_scaled.index)"
      ],
      "metadata": {
        "id": "ka-ehMq09xWm"
      },
      "execution_count": null,
      "outputs": []
    },
    {
      "cell_type": "markdown",
      "source": [
        "몇가지 애니메이션들의 제목을 입력해보면서 어떤 유사점이 있는지 파악해보았다. 협업필터링의 경우 비지도 학습으로 해당 모델의 성능을 평가할 수 있는 metric이 따로 없기 때문에, 분석가가 해석을 할때 다른 item인데 높은 similarity가 나온다면 해당 모델이 잘못 구성된 것으로 파악할 수 있다. \n",
        "\n",
        "하지만 아래의 결과를 종합적으로 분석해본 결과 유사한 애니메이션을 추천해주므로 해당 모델이 적절히 구성됨을 확인할 수 있었다. "
      ],
      "metadata": {
        "id": "XfU0JeoxYaoa"
      }
    },
    {
      "cell_type": "code",
      "source": [
        "anime_sim['Haikyuu!!'].sort_values(ascending=False)[:10]"
      ],
      "metadata": {
        "colab": {
          "base_uri": "https://localhost:8080/"
        },
        "id": "Y_0M-O7wX_xy",
        "outputId": "a80ca7aa-122b-4efd-f44b-9cdce263d31a"
      },
      "execution_count": null,
      "outputs": [
        {
          "output_type": "execute_result",
          "data": {
            "text/plain": [
              "name\n",
              "Haikyuu!!                                                    1.000000\n",
              "Haikyuu!! Second Season                                      0.565184\n",
              "Haikyuu!!: Karasuno Koukou VS Shiratorizawa Gakuen Koukou    0.313548\n",
              "Kuroko no Basket 2nd Season                                  0.255204\n",
              "Kuroko no Basket 3rd Season                                  0.231307\n",
              "Barakamon                                                    0.227004\n",
              "Kuroko no Basket                                             0.209339\n",
              "Shokugeki no Souma                                           0.208175\n",
              "Hunter x Hunter (2011)                                       0.204603\n",
              "One Punch Man                                                0.202245\n",
              "Name: Haikyuu!!, dtype: float64"
            ]
          },
          "metadata": {},
          "execution_count": 25
        }
      ]
    },
    {
      "cell_type": "markdown",
      "source": [
        "Haikyuu!!는 스포츠, 고등학생, 성장을 기반으로 하는 애니메이션이다. Haikyuu!!와 유사한 애니메이션 추천을 받았을시 동일한 Haikyuu!!: 1을 제외하고 Haikyuu!! 시즌2, Haikyuu!!: Karasuno Koukou VS Shiratorizawa Gakuen Koukou 등의 다른 시즌이 각 0.5651과 0.3135라는 코사인 유사도로 추천해주었다. 이어지는 내용의 다른 시즌이다보니 추천해준 것으로 보인다. \n",
        "\n",
        "그외에도 농구 기반의 고등학생 성장물인 쿠로코의 농구 시즌1,2,3과 바라카몬, 식극의 소마, 원펀치맨, 헌터헌터 등 청소년의 성장을 담고 있는 유사한 애니메이션을 추천해주었다. \n",
        "\n",
        "일반적으로 코사인 유사도에서는 0.5를 넘을 때 어느 정도 유사도가 있다고 이야기를 하지만 해당 CF에서는 0.5를 넘지 않아도 CF를 통해서 추천해준 애니메이션들이 일정 부분 유사도가 있는 것으로 확인되어 순위를 중심으로 분석을 하였다. "
      ],
      "metadata": {
        "id": "cxlL7tU5YYCJ"
      }
    },
    {
      "cell_type": "code",
      "source": [
        "anime_sim['Naruto'].sort_values(ascending=False)[:10]"
      ],
      "metadata": {
        "colab": {
          "base_uri": "https://localhost:8080/"
        },
        "id": "c9qdk6tk9ySC",
        "outputId": "1d3b2646-b9b5-47fd-bc02-3cd72aef6a9d"
      },
      "execution_count": null,
      "outputs": [
        {
          "output_type": "execute_result",
          "data": {
            "text/plain": [
              "name\n",
              "Naruto                     1.000000\n",
              "Bleach                     0.117322\n",
              "Dragon Ball GT             0.065411\n",
              "Dragon Ball Z              0.058663\n",
              "Fairy Tail                 0.057457\n",
              "Dragon Ball                0.052570\n",
              "InuYasha                   0.052372\n",
              "Pokemon                    0.047623\n",
              "Shaman King                0.044931\n",
              "Yu☆Gi☆Oh! Duel Monsters    0.042738\n",
              "Name: Naruto, dtype: float64"
            ]
          },
          "metadata": {},
          "execution_count": 16
        }
      ]
    },
    {
      "cell_type": "markdown",
      "source": [
        "나루토 역시 액션, 청소년 성장물이라고 할 수 있는데 코사인 유사도는 낮지만 비슷한 스토리를 지닌 애니메이션들을 다음과 같은 순위로 추천해주었다: 블리치, 드래곤볼, 페어리테일, 이누야샤, 포켓몬, 유희왕. 청소년, 액션, 성장물이며 다음 애니메이션 들이 유사한 스토리라인과 비슷한 시기에 방영되어 꾸준히 비교되어 왔다는 점에서 괜찮은 CF 추천기능을 보여준다. "
      ],
      "metadata": {
        "id": "Y4jW7HjrGZhG"
      }
    },
    {
      "cell_type": "code",
      "source": [
        "anime_sim['Dragon Ball'].sort_values(ascending=False)[:10]"
      ],
      "metadata": {
        "colab": {
          "base_uri": "https://localhost:8080/"
        },
        "id": "vs3M9ACL_N7Q",
        "outputId": "f6247258-92d8-4f77-c254-7f8dc3108afc"
      },
      "execution_count": null,
      "outputs": [
        {
          "output_type": "execute_result",
          "data": {
            "text/plain": [
              "name\n",
              "Dragon Ball                                1.000000\n",
              "Dragon Ball Z                              0.397930\n",
              "Dragon Ball Kai                            0.110825\n",
              "Dragon Ball GT                             0.091942\n",
              "Yuu☆Yuu☆Hakusho                            0.087538\n",
              "Saint Seiya                                0.074724\n",
              "Rurouni Kenshin: Meiji Kenkaku Romantan    0.064708\n",
              "Hajime no Ippo                             0.059836\n",
              "Digimon Adventure                          0.054946\n",
              "Naruto                                     0.052570\n",
              "Name: Dragon Ball, dtype: float64"
            ]
          },
          "metadata": {},
          "execution_count": 21
        }
      ]
    },
    {
      "cell_type": "markdown",
      "source": [
        "드래곤볼 역시 액션 성장물로 볼 수 있는데 드래곤볼 다른 시즌들을 높은 순위로 추천해주었고 비슷한 시기에 유사한 내용의 유유백서, 세인트 세이야 등을 추천해주었다는 점에서 괜찮은 CF 추천 기능을 보여준다.\n",
        "\n",
        "나루토 역시 드래곤볼에서 마지막으로 추천해주는데 나루토의 경우 2000년대 초반 인기를 끌었던 애니메이션들이 우선 순위로 추천되었고 드래곤 볼의 경우에는 1990년대 애니메이션들이 우선 순위로 추천되었다는 점에서 비슷한 스토리나 유형의 애니메이션이라도 방영된 시기가 유저들의 평점과 애니메이션 사이 유사도에 영향을 미친다는 것을 알 수 있다. \n",
        "\n",
        "\n"
      ],
      "metadata": {
        "id": "U8tB3UXRHSrE"
      }
    },
    {
      "cell_type": "code",
      "source": [
        "anime_sim['Pokemon'].sort_values(ascending=False)[:10]"
      ],
      "metadata": {
        "colab": {
          "base_uri": "https://localhost:8080/"
        },
        "id": "BMiNlvXYXz-e",
        "outputId": "8dfe1b12-20d4-4657-8e0a-b1625dd5590f"
      },
      "execution_count": null,
      "outputs": [
        {
          "output_type": "execute_result",
          "data": {
            "text/plain": [
              "name\n",
              "Pokemon                        1.000000\n",
              "Pokemon Advanced Generation    0.291214\n",
              "Yu☆Gi☆Oh! Duel Monsters        0.138370\n",
              "Digimon Adventure              0.132153\n",
              "Pokemon Diamond &amp; Pearl    0.128834\n",
              "Digimon Adventure 02           0.116708\n",
              "Yu☆Gi☆Oh!                      0.109902\n",
              "Bakuten Shoot Beyblade         0.100643\n",
              "Dragon Ball GT                 0.099129\n",
              "Pokemon Housoukyoku            0.075419\n",
              "Name: Pokemon, dtype: float64"
            ]
          },
          "metadata": {},
          "execution_count": 24
        }
      ]
    },
    {
      "cell_type": "markdown",
      "source": [
        "포켓몬의 경우에도 같은 포켓몬 시리즈이거나 \n",
        "\n",
        "- 비슷한 시기에 방영했고 \n",
        "- 청소년이 성장하는 스토리이며 \n",
        "- 포켓몬, 디지몬, 유희왕 카드 캐릭터와 같이 가상의 생물과 함께 성장한다는 \n",
        "\n",
        "유사한 애니메이션들을 추천해주었다. "
      ],
      "metadata": {
        "id": "gpPjMuRlIJJr"
      }
    },
    {
      "cell_type": "code",
      "source": [
        "anime_sim['Uta no☆Prince-sama♪ Maji Love 2000%'].sort_values(ascending=False)[:10]"
      ],
      "metadata": {
        "colab": {
          "base_uri": "https://localhost:8080/"
        },
        "id": "JX02t_rpYxyw",
        "outputId": "77a17e71-5992-4349-e7b5-3069d27481c8"
      },
      "execution_count": null,
      "outputs": [
        {
          "output_type": "execute_result",
          "data": {
            "text/plain": [
              "name\n",
              "Uta no☆Prince-sama♪ Maji Love 2000%          1.000000\n",
              "Uta no☆Prince-sama♪ Maji Love 1000%          0.466198\n",
              "Uta no☆Prince-sama♪ Maji Love Revolutions    0.202427\n",
              "Brothers Conflict                            0.147483\n",
              "Kamigami no Asobi                            0.127944\n",
              "Diabolik Lovers                              0.082126\n",
              "2020 Nyeon Ujuui Wonder Kiddy                0.077350\n",
              "Amnesia                                      0.077339\n",
              "Makai Ouji: Devils and Realist               0.065901\n",
              "DRAMAtical Murder                            0.063051\n",
              "Name: Uta no☆Prince-sama♪ Maji Love 2000%, dtype: float64"
            ]
          },
          "metadata": {},
          "execution_count": 27
        }
      ]
    },
    {
      "cell_type": "markdown",
      "source": [
        "노래의 왕자님은 아이돌 성장, 로맨스 관련 애니메이션으로 여성들의 취향을 반영한 애니메이션이다. 따라서 해당 애니메이션과 관련된 추천을 받은 결과 브라더스 컨플릭트, 카미가미노 아소비와 같이 남성 꽃미남 캐릭터들이 많이 나오는 애니메이션을 추천해준다. 따라서 유사한 애니메이션을 추천해주는 것을 알 수 있다. "
      ],
      "metadata": {
        "id": "SB7IvI6PIwnm"
      }
    },
    {
      "cell_type": "markdown",
      "source": [
        "## SVD"
      ],
      "metadata": {
        "id": "ttmIBJrYbznr"
      }
    },
    {
      "cell_type": "markdown",
      "source": [
        "코사인 유사도를 활용한 아이템기반의 협업필터링을 통해서도 분석을 통해 유사한 아이템들을 추천받을 수 있었다. 하지만 코사인 유사도가 낮아서 matrix factorization method, SVD를 활용한 추가적인 연구를 진행해주었다. \n",
        "\n",
        "복잡한 문제를 행렬로 바꾸어 행렬문제를 풀고 다시 그 행렬을 처음 문제의 상황에 적용하여 해석하는 경험을 자주 한다. 그러나 행렬계산에 있어서 가장 큰 문제는 행렬의 크기가 커짐에 따라 곱셈 등 여러 가지 경우에 그 계산이 복잡하여 컴퓨터를 이용하더라도 효율성에 대한 문제가 제기된다. 이에 주어진 행렬을 좀더 간단하고 다루기 쉬운 행렬들로 분해하면 계산에 있어서 속도와 효율성을 높일 수 있다. 또한 주어진 행렬을 여러 가지 방법으로 분해했을 때, 각각의 분해된 행렬들의 성질을 연구하여 처음 행렬의 정보를 크게 변화시키지 않으면서도 계산 속도와 크기를 조절하여 원래 의도했던 해를 구하는 것과 또 그 과정에서 얻어지는 수학적 이론은 그 이외의 문제의 해결에도 이용할 수 있다. 따라서 SVD를 사용하여 대용량의 자료를 처리하는데 빠른 속도를 보이며 자료의 손실이 발생할 수 있으나 영향이 크지 않다면 효율성을 높일 수 있다. \n",
        "\n",
        "http://matrix.skku.ac.kr/sglee/03-Note/IP/ImageProcessing.htm"
      ],
      "metadata": {
        "id": "LejXEGmpLNTL"
      }
    },
    {
      "cell_type": "markdown",
      "source": [
        "SVD와 관련된 실습코드는 아래 사이트를 참고하였다.\n",
        "\n",
        "https://github.com/lsjsj92/recommender_system_with_Python/blob/master/004.%20recommender%20system%20basic%20with%20Python%20-%203%20Matrix%20Factorization.ipynb"
      ],
      "metadata": {
        "id": "daYeLgOvcL32"
      }
    },
    {
      "cell_type": "markdown",
      "source": [
        "위에서 전처리된 데이터를 사용하여 SVD를 활용한 협업필터링을 진행했다. \n",
        "SVD 특이값 분해란 m x n 크기의 데이터 행렬 A를 아래와 같이 분해하는 것을 말한다.\n"
      ],
      "metadata": {
        "id": "G7yK4XDPNBTz"
      }
    },
    {
      "cell_type": "markdown",
      "source": [
        "![image.png](data:image/png;base64,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)"
      ],
      "metadata": {
        "id": "-RKMLE1HNM00"
      }
    },
    {
      "cell_type": "code",
      "source": [
        "from sklearn.decomposition import TruncatedSVD\n",
        "from scipy.sparse.linalg import svds\n",
        "\n",
        "import matplotlib.pyplot as plt\n",
        "import seaborn as sns\n",
        "import pandas as pd\n",
        "import numpy as np\n",
        "import warnings\n",
        "warnings.filterwarnings(\"ignore\")"
      ],
      "metadata": {
        "id": "qToebGh9cFaa"
      },
      "execution_count": null,
      "outputs": []
    },
    {
      "cell_type": "code",
      "source": [
        "df = df.fillna(0)"
      ],
      "metadata": {
        "id": "WVXsL0CAcXzm"
      },
      "execution_count": null,
      "outputs": []
    },
    {
      "cell_type": "code",
      "source": [
        "df.head()"
      ],
      "metadata": {
        "colab": {
          "base_uri": "https://localhost:8080/",
          "height": 418
        },
        "id": "N2w1FGzDckZ_",
        "outputId": "f63f2461-43ab-4c51-f640-02511b0e5a68"
      },
      "execution_count": null,
      "outputs": [
        {
          "output_type": "execute_result",
          "data": {
            "text/plain": [
              "name     .hack//Roots  .hack//Sign  .hack//Tasogare no Udewa Densetsu  009-1  \\\n",
              "user_id                                                                        \n",
              "1                 0.0          0.0                                0.0    0.0   \n",
              "2                 0.0          0.0                                0.0    0.0   \n",
              "3                 0.0          0.0                                0.0    0.0   \n",
              "5                 0.0          0.0                                0.0    0.0   \n",
              "7                 0.0          0.0                                0.0    0.0   \n",
              "\n",
              "name     07-Ghost  11eyes  12-sai.: Chicchana Mune no Tokimeki  \\\n",
              "user_id                                                          \n",
              "1             0.0     0.0                                  0.0   \n",
              "2             0.0     0.0                                  0.0   \n",
              "3             0.0     0.0                                  0.0   \n",
              "5             0.0     0.0                                  0.0   \n",
              "7             0.0     0.0                                  0.0   \n",
              "\n",
              "name     12-sai.: Chicchana Mune no Tokimeki 2nd Season  \\\n",
              "user_id                                                   \n",
              "1                                                   0.0   \n",
              "2                                                   0.0   \n",
              "3                                                   0.0   \n",
              "5                                                   0.0   \n",
              "7                                                   0.0   \n",
              "\n",
              "name     2020 Nyeon Ujuui Wonder Kiddy  21 Emon  ...  \\\n",
              "user_id                                          ...   \n",
              "1                                  0.0      0.0  ...   \n",
              "2                                  0.0      0.0  ...   \n",
              "3                                  0.0      0.0  ...   \n",
              "5                                  0.0      0.0  ...   \n",
              "7                                  0.0      0.0  ...   \n",
              "\n",
              "name     Zone of the Enders: Dolores, I  Zukkoke Knight: Don De La Mancha  \\\n",
              "user_id                                                                     \n",
              "1                                   0.0                               0.0   \n",
              "2                                   0.0                               0.0   \n",
              "3                                   0.0                               0.0   \n",
              "5                                   0.0                               0.0   \n",
              "7                                   0.0                               0.0   \n",
              "\n",
              "name     ef: A Tale of Melodies.  ef: A Tale of Memories.  gdgd Fairies  \\\n",
              "user_id                                                                   \n",
              "1                            0.0                      0.0           0.0   \n",
              "2                            0.0                      0.0           0.0   \n",
              "3                            0.0                      0.0           0.0   \n",
              "5                            0.0                      0.0           0.0   \n",
              "7                            0.0                      0.0           0.0   \n",
              "\n",
              "name     gdgd Fairies 2  iDOLM@STER Xenoglossia  s.CRY.ed  xxxHOLiC  \\\n",
              "user_id                                                               \n",
              "1                   0.0                     0.0       0.0       0.0   \n",
              "2                   0.0                     0.0       0.0       0.0   \n",
              "3                   0.0                     0.0       0.0       0.0   \n",
              "5                   0.0                     0.0       0.0       2.0   \n",
              "7                   0.0                     0.0       0.0       0.0   \n",
              "\n",
              "name     xxxHOLiC Kei  \n",
              "user_id                \n",
              "1                 0.0  \n",
              "2                 0.0  \n",
              "3                 0.0  \n",
              "5                 0.0  \n",
              "7                 0.0  \n",
              "\n",
              "[5 rows x 3069 columns]"
            ],
            "text/html": [
              "\n",
              "  <div id=\"df-6ad8c4cb-d661-43ff-bc21-ed4a26d7f4d0\">\n",
              "    <div class=\"colab-df-container\">\n",
              "      <div>\n",
              "<style scoped>\n",
              "    .dataframe tbody tr th:only-of-type {\n",
              "        vertical-align: middle;\n",
              "    }\n",
              "\n",
              "    .dataframe tbody tr th {\n",
              "        vertical-align: top;\n",
              "    }\n",
              "\n",
              "    .dataframe thead th {\n",
              "        text-align: right;\n",
              "    }\n",
              "</style>\n",
              "<table border=\"1\" class=\"dataframe\">\n",
              "  <thead>\n",
              "    <tr style=\"text-align: right;\">\n",
              "      <th>name</th>\n",
              "      <th>.hack//Roots</th>\n",
              "      <th>.hack//Sign</th>\n",
              "      <th>.hack//Tasogare no Udewa Densetsu</th>\n",
              "      <th>009-1</th>\n",
              "      <th>07-Ghost</th>\n",
              "      <th>11eyes</th>\n",
              "      <th>12-sai.: Chicchana Mune no Tokimeki</th>\n",
              "      <th>12-sai.: Chicchana Mune no Tokimeki 2nd Season</th>\n",
              "      <th>2020 Nyeon Ujuui Wonder Kiddy</th>\n",
              "      <th>21 Emon</th>\n",
              "      <th>...</th>\n",
              "      <th>Zone of the Enders: Dolores, I</th>\n",
              "      <th>Zukkoke Knight: Don De La Mancha</th>\n",
              "      <th>ef: A Tale of Melodies.</th>\n",
              "      <th>ef: A Tale of Memories.</th>\n",
              "      <th>gdgd Fairies</th>\n",
              "      <th>gdgd Fairies 2</th>\n",
              "      <th>iDOLM@STER Xenoglossia</th>\n",
              "      <th>s.CRY.ed</th>\n",
              "      <th>xxxHOLiC</th>\n",
              "      <th>xxxHOLiC Kei</th>\n",
              "    </tr>\n",
              "    <tr>\n",
              "      <th>user_id</th>\n",
              "      <th></th>\n",
              "      <th></th>\n",
              "      <th></th>\n",
              "      <th></th>\n",
              "      <th></th>\n",
              "      <th></th>\n",
              "      <th></th>\n",
              "      <th></th>\n",
              "      <th></th>\n",
              "      <th></th>\n",
              "      <th></th>\n",
              "      <th></th>\n",
              "      <th></th>\n",
              "      <th></th>\n",
              "      <th></th>\n",
              "      <th></th>\n",
              "      <th></th>\n",
              "      <th></th>\n",
              "      <th></th>\n",
              "      <th></th>\n",
              "      <th></th>\n",
              "    </tr>\n",
              "  </thead>\n",
              "  <tbody>\n",
              "    <tr>\n",
              "      <th>1</th>\n",
              "      <td>0.0</td>\n",
              "      <td>0.0</td>\n",
              "      <td>0.0</td>\n",
              "      <td>0.0</td>\n",
              "      <td>0.0</td>\n",
              "      <td>0.0</td>\n",
              "      <td>0.0</td>\n",
              "      <td>0.0</td>\n",
              "      <td>0.0</td>\n",
              "      <td>0.0</td>\n",
              "      <td>...</td>\n",
              "      <td>0.0</td>\n",
              "      <td>0.0</td>\n",
              "      <td>0.0</td>\n",
              "      <td>0.0</td>\n",
              "      <td>0.0</td>\n",
              "      <td>0.0</td>\n",
              "      <td>0.0</td>\n",
              "      <td>0.0</td>\n",
              "      <td>0.0</td>\n",
              "      <td>0.0</td>\n",
              "    </tr>\n",
              "    <tr>\n",
              "      <th>2</th>\n",
              "      <td>0.0</td>\n",
              "      <td>0.0</td>\n",
              "      <td>0.0</td>\n",
              "      <td>0.0</td>\n",
              "      <td>0.0</td>\n",
              "      <td>0.0</td>\n",
              "      <td>0.0</td>\n",
              "      <td>0.0</td>\n",
              "      <td>0.0</td>\n",
              "      <td>0.0</td>\n",
              "      <td>...</td>\n",
              "      <td>0.0</td>\n",
              "      <td>0.0</td>\n",
              "      <td>0.0</td>\n",
              "      <td>0.0</td>\n",
              "      <td>0.0</td>\n",
              "      <td>0.0</td>\n",
              "      <td>0.0</td>\n",
              "      <td>0.0</td>\n",
              "      <td>0.0</td>\n",
              "      <td>0.0</td>\n",
              "    </tr>\n",
              "    <tr>\n",
              "      <th>3</th>\n",
              "      <td>0.0</td>\n",
              "      <td>0.0</td>\n",
              "      <td>0.0</td>\n",
              "      <td>0.0</td>\n",
              "      <td>0.0</td>\n",
              "      <td>0.0</td>\n",
              "      <td>0.0</td>\n",
              "      <td>0.0</td>\n",
              "      <td>0.0</td>\n",
              "      <td>0.0</td>\n",
              "      <td>...</td>\n",
              "      <td>0.0</td>\n",
              "      <td>0.0</td>\n",
              "      <td>0.0</td>\n",
              "      <td>0.0</td>\n",
              "      <td>0.0</td>\n",
              "      <td>0.0</td>\n",
              "      <td>0.0</td>\n",
              "      <td>0.0</td>\n",
              "      <td>0.0</td>\n",
              "      <td>0.0</td>\n",
              "    </tr>\n",
              "    <tr>\n",
              "      <th>5</th>\n",
              "      <td>0.0</td>\n",
              "      <td>0.0</td>\n",
              "      <td>0.0</td>\n",
              "      <td>0.0</td>\n",
              "      <td>0.0</td>\n",
              "      <td>0.0</td>\n",
              "      <td>0.0</td>\n",
              "      <td>0.0</td>\n",
              "      <td>0.0</td>\n",
              "      <td>0.0</td>\n",
              "      <td>...</td>\n",
              "      <td>0.0</td>\n",
              "      <td>0.0</td>\n",
              "      <td>0.0</td>\n",
              "      <td>0.0</td>\n",
              "      <td>0.0</td>\n",
              "      <td>0.0</td>\n",
              "      <td>0.0</td>\n",
              "      <td>0.0</td>\n",
              "      <td>2.0</td>\n",
              "      <td>0.0</td>\n",
              "    </tr>\n",
              "    <tr>\n",
              "      <th>7</th>\n",
              "      <td>0.0</td>\n",
              "      <td>0.0</td>\n",
              "      <td>0.0</td>\n",
              "      <td>0.0</td>\n",
              "      <td>0.0</td>\n",
              "      <td>0.0</td>\n",
              "      <td>0.0</td>\n",
              "      <td>0.0</td>\n",
              "      <td>0.0</td>\n",
              "      <td>0.0</td>\n",
              "      <td>...</td>\n",
              "      <td>0.0</td>\n",
              "      <td>0.0</td>\n",
              "      <td>0.0</td>\n",
              "      <td>0.0</td>\n",
              "      <td>0.0</td>\n",
              "      <td>0.0</td>\n",
              "      <td>0.0</td>\n",
              "      <td>0.0</td>\n",
              "      <td>0.0</td>\n",
              "      <td>0.0</td>\n",
              "    </tr>\n",
              "  </tbody>\n",
              "</table>\n",
              "<p>5 rows × 3069 columns</p>\n",
              "</div>\n",
              "      <button class=\"colab-df-convert\" onclick=\"convertToInteractive('df-6ad8c4cb-d661-43ff-bc21-ed4a26d7f4d0')\"\n",
              "              title=\"Convert this dataframe to an interactive table.\"\n",
              "              style=\"display:none;\">\n",
              "        \n",
              "  <svg xmlns=\"http://www.w3.org/2000/svg\" height=\"24px\"viewBox=\"0 0 24 24\"\n",
              "       width=\"24px\">\n",
              "    <path d=\"M0 0h24v24H0V0z\" fill=\"none\"/>\n",
              "    <path d=\"M18.56 5.44l.94 2.06.94-2.06 2.06-.94-2.06-.94-.94-2.06-.94 2.06-2.06.94zm-11 1L8.5 8.5l.94-2.06 2.06-.94-2.06-.94L8.5 2.5l-.94 2.06-2.06.94zm10 10l.94 2.06.94-2.06 2.06-.94-2.06-.94-.94-2.06-.94 2.06-2.06.94z\"/><path d=\"M17.41 7.96l-1.37-1.37c-.4-.4-.92-.59-1.43-.59-.52 0-1.04.2-1.43.59L10.3 9.45l-7.72 7.72c-.78.78-.78 2.05 0 2.83L4 21.41c.39.39.9.59 1.41.59.51 0 1.02-.2 1.41-.59l7.78-7.78 2.81-2.81c.8-.78.8-2.07 0-2.86zM5.41 20L4 18.59l7.72-7.72 1.47 1.35L5.41 20z\"/>\n",
              "  </svg>\n",
              "      </button>\n",
              "      \n",
              "  <style>\n",
              "    .colab-df-container {\n",
              "      display:flex;\n",
              "      flex-wrap:wrap;\n",
              "      gap: 12px;\n",
              "    }\n",
              "\n",
              "    .colab-df-convert {\n",
              "      background-color: #E8F0FE;\n",
              "      border: none;\n",
              "      border-radius: 50%;\n",
              "      cursor: pointer;\n",
              "      display: none;\n",
              "      fill: #1967D2;\n",
              "      height: 32px;\n",
              "      padding: 0 0 0 0;\n",
              "      width: 32px;\n",
              "    }\n",
              "\n",
              "    .colab-df-convert:hover {\n",
              "      background-color: #E2EBFA;\n",
              "      box-shadow: 0px 1px 2px rgba(60, 64, 67, 0.3), 0px 1px 3px 1px rgba(60, 64, 67, 0.15);\n",
              "      fill: #174EA6;\n",
              "    }\n",
              "\n",
              "    [theme=dark] .colab-df-convert {\n",
              "      background-color: #3B4455;\n",
              "      fill: #D2E3FC;\n",
              "    }\n",
              "\n",
              "    [theme=dark] .colab-df-convert:hover {\n",
              "      background-color: #434B5C;\n",
              "      box-shadow: 0px 1px 3px 1px rgba(0, 0, 0, 0.15);\n",
              "      filter: drop-shadow(0px 1px 2px rgba(0, 0, 0, 0.3));\n",
              "      fill: #FFFFFF;\n",
              "    }\n",
              "  </style>\n",
              "\n",
              "      <script>\n",
              "        const buttonEl =\n",
              "          document.querySelector('#df-6ad8c4cb-d661-43ff-bc21-ed4a26d7f4d0 button.colab-df-convert');\n",
              "        buttonEl.style.display =\n",
              "          google.colab.kernel.accessAllowed ? 'block' : 'none';\n",
              "\n",
              "        async function convertToInteractive(key) {\n",
              "          const element = document.querySelector('#df-6ad8c4cb-d661-43ff-bc21-ed4a26d7f4d0');\n",
              "          const dataTable =\n",
              "            await google.colab.kernel.invokeFunction('convertToInteractive',\n",
              "                                                     [key], {});\n",
              "          if (!dataTable) return;\n",
              "\n",
              "          const docLinkHtml = 'Like what you see? Visit the ' +\n",
              "            '<a target=\"_blank\" href=https://colab.research.google.com/notebooks/data_table.ipynb>data table notebook</a>'\n",
              "            + ' to learn more about interactive tables.';\n",
              "          element.innerHTML = '';\n",
              "          dataTable['output_type'] = 'display_data';\n",
              "          await google.colab.output.renderOutput(dataTable, element);\n",
              "          const docLink = document.createElement('div');\n",
              "          docLink.innerHTML = docLinkHtml;\n",
              "          element.appendChild(docLink);\n",
              "        }\n",
              "      </script>\n",
              "    </div>\n",
              "  </div>\n",
              "  "
            ]
          },
          "metadata": {},
          "execution_count": 18
        }
      ]
    },
    {
      "cell_type": "code",
      "source": [
        "anime_user_rating = df.values.T\n",
        "anime_user_rating.shape"
      ],
      "metadata": {
        "colab": {
          "base_uri": "https://localhost:8080/"
        },
        "id": "T-VAwjBhpoRf",
        "outputId": "f25083d7-5bd8-4f70-e504-1f681ad03f87"
      },
      "execution_count": null,
      "outputs": [
        {
          "output_type": "execute_result",
          "data": {
            "text/plain": [
              "(3069, 68929)"
            ]
          },
          "metadata": {},
          "execution_count": 19
        }
      ]
    },
    {
      "cell_type": "code",
      "source": [
        "type(anime_user_rating)"
      ],
      "metadata": {
        "colab": {
          "base_uri": "https://localhost:8080/"
        },
        "id": "WUqcvjaQppQh",
        "outputId": "70f1aa88-a7f2-49c6-a627-1f1e28831e47"
      },
      "execution_count": null,
      "outputs": [
        {
          "output_type": "execute_result",
          "data": {
            "text/plain": [
              "numpy.ndarray"
            ]
          },
          "metadata": {},
          "execution_count": 20
        }
      ]
    },
    {
      "cell_type": "code",
      "source": [
        "SVD = TruncatedSVD(n_components=12)\n",
        "matrix = SVD.fit_transform(anime_user_rating)\n",
        "matrix.shape"
      ],
      "metadata": {
        "colab": {
          "base_uri": "https://localhost:8080/"
        },
        "id": "_WBVMMFnb1Vg",
        "outputId": "1b216116-3b2f-417c-a88f-751a5b1ff6b0"
      },
      "execution_count": null,
      "outputs": [
        {
          "output_type": "execute_result",
          "data": {
            "text/plain": [
              "(3069, 12)"
            ]
          },
          "metadata": {},
          "execution_count": 21
        }
      ]
    },
    {
      "cell_type": "markdown",
      "source": [
        "12개의 component로 차원을 축소해주었다. 나온 데이터를 활용하여 피어슨 상관계수를 구해주었다. 코사인 유사도의 경우 특정 인물의 점수기준이 극단적으로 너무 낮거나 높을 경우 유사도에 영향을 크게 준다 따라서 이를 막기 위해 상관계수를 사용한다. "
      ],
      "metadata": {
        "id": "LRMdslVXNZxr"
      }
    },
    {
      "cell_type": "code",
      "source": [
        "matrix[0]"
      ],
      "metadata": {
        "colab": {
          "base_uri": "https://localhost:8080/"
        },
        "id": "yjo-6HzucpjZ",
        "outputId": "a9c200a0-9b8c-47ef-b21c-99e74001a35d"
      },
      "execution_count": null,
      "outputs": [
        {
          "output_type": "execute_result",
          "data": {
            "text/plain": [
              "array([ 68.62442381,  58.47441048, -22.53632401,   9.32331033,\n",
              "       -15.70927017, -39.62257451,  -2.80692308, -17.56454838,\n",
              "         5.19596622,  13.90493946, -21.57364298, -24.82609857])"
            ]
          },
          "metadata": {},
          "execution_count": 22
        }
      ]
    },
    {
      "cell_type": "code",
      "source": [
        "corr = np.corrcoef(matrix)\n",
        "corr.shape"
      ],
      "metadata": {
        "id": "ZEByhepjcq53",
        "colab": {
          "base_uri": "https://localhost:8080/"
        },
        "outputId": "6eee9773-9a7f-4bf6-a10c-fb6f0a168d0b"
      },
      "execution_count": null,
      "outputs": [
        {
          "output_type": "execute_result",
          "data": {
            "text/plain": [
              "(3069, 3069)"
            ]
          },
          "metadata": {},
          "execution_count": 23
        }
      ]
    },
    {
      "cell_type": "code",
      "source": [
        "corr2 = corr[:200, :200]\n",
        "corr2.shape"
      ],
      "metadata": {
        "id": "2a6FV1RQcr-5",
        "colab": {
          "base_uri": "https://localhost:8080/"
        },
        "outputId": "b6e46749-ab5a-4c16-e0e4-2a898c43d3d9"
      },
      "execution_count": null,
      "outputs": [
        {
          "output_type": "execute_result",
          "data": {
            "text/plain": [
              "(200, 200)"
            ]
          },
          "metadata": {},
          "execution_count": 24
        }
      ]
    },
    {
      "cell_type": "code",
      "source": [
        "plt.figure(figsize=(16, 10))\n",
        "sns.heatmap(corr2)"
      ],
      "metadata": {
        "id": "HfehBmuSctHy",
        "colab": {
          "base_uri": "https://localhost:8080/",
          "height": 622
        },
        "outputId": "3b607b32-d866-4bab-d0a6-4b14cac2a46b"
      },
      "execution_count": null,
      "outputs": [
        {
          "output_type": "execute_result",
          "data": {
            "text/plain": [
              "<matplotlib.axes._subplots.AxesSubplot at 0x7f90446c8d50>"
            ]
          },
          "metadata": {},
          "execution_count": 25
        },
        {
          "output_type": "display_data",
          "data": {
            "text/plain": [
              "<Figure size 1152x720 with 2 Axes>"
            ],
            "image/png": "[encoded data removed]"
          },
          "metadata": {
            "needs_background": "light"
          }
        }
      ]
    },
    {
      "cell_type": "markdown",
      "source": [
        "나온 상관계수를 이용해서 특정 애니메이션과 상관계수가 높은 (계수 0.9 이상) 애니메이션을 뽑아준다. "
      ],
      "metadata": {
        "id": "B3f8uo5mNz9X"
      }
    },
    {
      "cell_type": "code",
      "source": [
        "anime_title = df.columns\n",
        "anime_title_list = list(anime_title)\n",
        "coffey_hands = anime_title_list.index(\"Dragon Ball\")\n",
        "corr_coffey_hands  = corr[coffey_hands]\n",
        "list(anime_title[(corr_coffey_hands >= 0.9)])[:50]"
      ],
      "metadata": {
        "id": "ruIJQUfndEht",
        "colab": {
          "base_uri": "https://localhost:8080/"
        },
        "outputId": "b4f4536d-26b2-4e81-fac1-3c6d13c8dc5d"
      },
      "execution_count": null,
      "outputs": [
        {
          "output_type": "execute_result",
          "data": {
            "text/plain": [
              "['Bakuten Shoot Beyblade',\n",
              " 'Bakuten Shoot Beyblade 2002',\n",
              " 'Bobobo-bo Bo-bobo',\n",
              " 'Captain Tsubasa',\n",
              " 'Captain Tsubasa J',\n",
              " 'Digimon Adventure',\n",
              " 'Dragon Ball',\n",
              " 'Dragon Ball GT',\n",
              " 'Dragon Ball Kai',\n",
              " 'Dragon Ball Z',\n",
              " 'Duel Masters',\n",
              " 'Ganbare! Kickers',\n",
              " 'God Mazinger',\n",
              " 'Jibaku-kun',\n",
              " 'Kenyuu Densetsu Yaiba',\n",
              " 'Kinnikuman',\n",
              " 'Kinnikuman II Sei',\n",
              " 'Kinnikuman II Sei: Ultimate Muscle',\n",
              " 'Kinnikuman II Sei: Ultimate Muscle 2',\n",
              " 'Kochira Katsushikaku Kameari Kouenmae Hashutsujo (TV)',\n",
              " 'Konjiki no Gash Bell!!',\n",
              " 'Mach GoGoGo (1997)',\n",
              " 'Mazinger Z',\n",
              " 'Medarot',\n",
              " 'Medarot Damashii',\n",
              " 'Mega Man',\n",
              " 'Monster Farm: Enbanseki no Himitsu',\n",
              " 'Monster Farm: Legend e no Michi',\n",
              " 'Pokemon',\n",
              " 'Saint Seiya',\n",
              " 'Seigi wo Aisuru Mono Gekkou Kamen',\n",
              " 'Street Fighter II V',\n",
              " 'Tenkuu Senki Shurato',\n",
              " 'Transformers Headmasters',\n",
              " 'Viewtiful Joe',\n",
              " 'Yuu☆Yuu☆Hakusho',\n",
              " 'Yu☆Gi☆Oh!',\n",
              " 'Yu☆Gi☆Oh! Duel Monsters',\n",
              " 'Zoids']"
            ]
          },
          "metadata": {},
          "execution_count": 30
        }
      ]
    },
    {
      "cell_type": "markdown",
      "source": [
        "드래곤볼의 경우 액션 성장물로 볼 수 있는데 드래곤볼 다른 시즌들을 높은 순위로 추천해주었고 비슷한 시기에 유사한 내용의 (코사인 유사도에서도 추천해주었던) 유유백서, 세인트 세이야 등을 추천해주었다는 점에서 괜찮은 CF 추천 기능을 보여준다.\n",
        "\n",
        "SVD 역시 비슷한 시기 1990년대 애니메이션들을 추천해주어 애니메이션 스토리 유사도 뿐만 아니라 비슷한 시기에 인기 있었던 애니메이션들이 서로 비슷한 평점을 받고 유사도가 있음이 확인 되었다. "
      ],
      "metadata": {
        "id": "UxTA7HDSOTiP"
      }
    },
    {
      "cell_type": "code",
      "source": [
        "anime_title = df.columns\n",
        "anime_title_list = list(anime_title)\n",
        "coffey_hands = anime_title_list.index(\"Haikyuu!!\")\n",
        "corr_coffey_hands  = corr[coffey_hands]\n",
        "list(anime_title[(corr_coffey_hands >= 0.9)])[:50]"
      ],
      "metadata": {
        "id": "Y0UwXhK4rBFA",
        "outputId": "15890444-fe41-4ab3-b51f-b2ea6a4b5c5b",
        "colab": {
          "base_uri": "https://localhost:8080/"
        }
      },
      "execution_count": null,
      "outputs": [
        {
          "output_type": "execute_result",
          "data": {
            "text/plain": [
              "['Barakamon',\n",
              " 'Diamond no Ace',\n",
              " 'Haikyuu!!',\n",
              " 'Haikyuu!! Second Season',\n",
              " 'Kuroko no Basket',\n",
              " 'Kuroko no Basket 2nd Season',\n",
              " 'Kuroko no Basket 3rd Season',\n",
              " 'Yowamushi Pedal',\n",
              " 'Yowamushi Pedal: Grande Road']"
            ]
          },
          "metadata": {},
          "execution_count": 31
        }
      ]
    },
    {
      "cell_type": "markdown",
      "source": [
        "Haikyuu!!는 스포츠, 고등학생, 성장을 기반으로 하는 애니메이션이다. Haikyuu!!와 유사한 애니메이션 추천을 받았을시 동일한 Haikyuu!!: 1을 제외하고 Haikyuu!! 시즌2 다른 시즌을 추천해주었다. 이어지는 내용의 다른 시즌이다보니 추천해준 것으로 보인다. \n",
        "\n",
        "그외에도 농구 기반의 고등학생 성장물인 쿠로코의 농구 시즌1,2,3과 바라카몬, 식극의 소마, 겁쟁이 페달 등 청소년의 성장과 운동관련 내용의 유사한 애니메이션을 추천해주었다. "
      ],
      "metadata": {
        "id": "8jX7ivrwPI1b"
      }
    },
    {
      "cell_type": "markdown",
      "source": [
        "종합적으로 코사인 유사도를 사용한 결과와 SVD를 사용한 결과가 비슷한 것으로 보여 적절한 CF가 진행되었음을 확인할 수 있었다. 추가적으로 비슷한 시기에 방영되는 애니메이션들을 추천해준다는 점에서 사용자들이 애니메이션 평점에 있어서 애니메이션 방영 시기가 영향이 있다는 것을 확인할 수 있었다. "
      ],
      "metadata": {
        "id": "uADvonZrPlWj"
      }
    }
  ]
}