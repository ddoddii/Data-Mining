{
  "cells": [
    {
      "cell_type": "markdown",
      "metadata": {
        "id": "UFtDblMQ2pIP"
      },
      "source": [
        "# Logistic Regression"
      ]
    },
    {
      "cell_type": "markdown",
      "metadata": {
        "id": "sf_pkA5S1RET"
      },
      "source": [
        "심장병은 국내 사망원인 2위에 해당되며 급성 심장질환같은 경우에는 즉시 치료를 한다 하여도 \n",
        "\n",
        "치사율이 30~40%에 달할 정도로 위험한 질병이다.\n",
        "\n",
        "따라서 실제 어느 요소들이 심장병과 관련이 있는지 분석하고 추후 심장병이 발생할 수 있는 사람들을 예측하는 모델을 만들고자 'Heart Disease' data set을 이용하여 Logistic Regression을 진행하고\n",
        "\n",
        " 그 결과를 해석하고자 한다.\n",
        "\n",
        " 데이터셋은 다음 사이트에서 가져왔다.\n",
        "\n",
        " https://www.kaggle.com/datasets/fedesoriano/heart-failure-prediction\n",
        "\n"
      ]
    },
    {
      "cell_type": "markdown",
      "metadata": {
        "id": "VgJcSCHj39NC"
      },
      "source": [
        "Logistic Regression을 진행하기 위해서는 \n",
        "\n",
        "1.관측치들 간 독립성\n",
        "\n",
        "2.잔차 간 등분산성\n",
        "\n",
        "3.독립 변수와 log odds 간의 linearity \n",
        "\n",
        "4.이상치가 존재하지 않아야 함\n",
        "\n",
        "위 4가지 Assumption을 만족해야 한다. 데이터 전처리 과정 및 EDA를 통하여 \n",
        "\n",
        "Assumption의 만족 여부를 확인한다."
      ]
    },
    {
      "cell_type": "markdown",
      "metadata": {
        "id": "ChUxRqZN3tGu"
      },
      "source": [
        "##Data Preprocessing"
      ]
    },
    {
      "cell_type": "code",
      "execution_count": null,
      "metadata": {
        "colab": {
          "base_uri": "https://localhost:8080/"
        },
        "id": "bkTRrOqcwXw8",
        "outputId": "1dedb145-22ad-4e7d-e85d-3846d96e26d1"
      },
      "outputs": [
        {
          "output_type": "stream",
          "name": "stdout",
          "text": [
            "Mounted at /content/drive\n"
          ]
        }
      ],
      "source": [
        "from google.colab import drive\n",
        "drive.mount('/content/drive')"
      ]
    },
    {
      "cell_type": "code",
      "execution_count": null,
      "metadata": {
        "id": "6mJY8cfUybD1"
      },
      "outputs": [],
      "source": [
        "import pandas as pd\n",
        "df=pd.read_csv('/content/drive/Shareddrives/데마 팀플 2/HW6/heart.csv')   #데이터셋 불러오기"
      ]
    },
    {
      "cell_type": "markdown",
      "metadata": {
        "id": "QL6Ax8LOzMyC"
      },
      "source": [
        "Attribute Information\n",
        "\n",
        "Age (나이): age of the patient [years]\n",
        "\n",
        "Sex (성별): sex of the patient [M: Male, F: Female]\n",
        "\n",
        "ChestPainType (가슴 고통 종류): chest pain type [TA: Typical Angina, ATA: Atypical Angina, NAP: Non-Anginal Pain, ASY: Asymptomatic]\n",
        "\n",
        "RestingBP (휴식상태의 혈압): resting blood pressure [mm Hg]\n",
        "\n",
        "Cholesterol (콜레스테롤): serum cholesterol [mm/dl]\n",
        "\n",
        "FastingBS (혈당): fasting blood sugar [1: if FastingBS > 120 mg/dl, 0: otherwise]\n",
        "\n",
        "RestingECG (휴식상태의 심전도): resting electrocardiogram results [Normal: Normal, ST: having ST-T wave abnormality (T wave inversions and/or ST elevation or depression of > 0.05 mV), LVH: showing probable or definite left ventricular hypertrophy by Estes' criteria]\n",
        "\n",
        "MaxHR (최대심장박동): maximum heart rate achieved [Numeric value between 60 and 202]\n",
        "\n",
        "ExerciseAngina (협심증 유무): exercise-induced angina [Y: Yes, N: No]\n",
        "\n",
        "Oldpeak (비교적 안정되기까지 운동으로 유발되는 ST depression): oldpeak = ST [Numeric value measured in depression]\n",
        "\n",
        "ST_Slope (최대 운동 ST segment의 기울기): the slope of the peak exercise ST segment [Up: upsloping, Flat: flat, Down: downsloping]\n",
        "\n",
        "HeartDisease (심장병 유무): output class [1: heart disease, 0: Normal]"
      ]
    },
    {
      "cell_type": "code",
      "execution_count": null,
      "metadata": {
        "colab": {
          "base_uri": "https://localhost:8080/"
        },
        "id": "121yHosZygs3",
        "outputId": "a59d7972-6ed7-48f3-af71-6b943fea58a3"
      },
      "outputs": [
        {
          "output_type": "execute_result",
          "data": {
            "text/plain": [
              "(918, 12)"
            ]
          },
          "metadata": {},
          "execution_count": 3
        }
      ],
      "source": [
        "df.shape"
      ]
    },
    {
      "cell_type": "code",
      "execution_count": null,
      "metadata": {
        "colab": {
          "base_uri": "https://localhost:8080/",
          "height": 206
        },
        "id": "KLzgwyIzyiIu",
        "outputId": "696c702a-47a3-4414-9925-eaa2e4aa7768"
      },
      "outputs": [
        {
          "output_type": "execute_result",
          "data": {
            "text/plain": [
              "   Age Sex ChestPainType  RestingBP  Cholesterol  FastingBS RestingECG  MaxHR  \\\n",
              "0   40   M           ATA        140          289          0     Normal    172   \n",
              "1   49   F           NAP        160          180          0     Normal    156   \n",
              "2   37   M           ATA        130          283          0         ST     98   \n",
              "3   48   F           ASY        138          214          0     Normal    108   \n",
              "4   54   M           NAP        150          195          0     Normal    122   \n",
              "\n",
              "  ExerciseAngina  Oldpeak ST_Slope  HeartDisease  \n",
              "0              N      0.0       Up             0  \n",
              "1              N      1.0     Flat             1  \n",
              "2              N      0.0       Up             0  \n",
              "3              Y      1.5     Flat             1  \n",
              "4              N      0.0       Up             0  "
            ],
            "text/html": [
              "\n",
              "  <div id=\"df-87771392-d084-4fdd-8c55-b31160a74968\">\n",
              "    <div class=\"colab-df-container\">\n",
              "      <div>\n",
              "<style scoped>\n",
              "    .dataframe tbody tr th:only-of-type {\n",
              "        vertical-align: middle;\n",
              "    }\n",
              "\n",
              "    .dataframe tbody tr th {\n",
              "        vertical-align: top;\n",
              "    }\n",
              "\n",
              "    .dataframe thead th {\n",
              "        text-align: right;\n",
              "    }\n",
              "</style>\n",
              "<table border=\"1\" class=\"dataframe\">\n",
              "  <thead>\n",
              "    <tr style=\"text-align: right;\">\n",
              "      <th></th>\n",
              "      <th>Age</th>\n",
              "      <th>Sex</th>\n",
              "      <th>ChestPainType</th>\n",
              "      <th>RestingBP</th>\n",
              "      <th>Cholesterol</th>\n",
              "      <th>FastingBS</th>\n",
              "      <th>RestingECG</th>\n",
              "      <th>MaxHR</th>\n",
              "      <th>ExerciseAngina</th>\n",
              "      <th>Oldpeak</th>\n",
              "      <th>ST_Slope</th>\n",
              "      <th>HeartDisease</th>\n",
              "    </tr>\n",
              "  </thead>\n",
              "  <tbody>\n",
              "    <tr>\n",
              "      <th>0</th>\n",
              "      <td>40</td>\n",
              "      <td>M</td>\n",
              "      <td>ATA</td>\n",
              "      <td>140</td>\n",
              "      <td>289</td>\n",
              "      <td>0</td>\n",
              "      <td>Normal</td>\n",
              "      <td>172</td>\n",
              "      <td>N</td>\n",
              "      <td>0.0</td>\n",
              "      <td>Up</td>\n",
              "      <td>0</td>\n",
              "    </tr>\n",
              "    <tr>\n",
              "      <th>1</th>\n",
              "      <td>49</td>\n",
              "      <td>F</td>\n",
              "      <td>NAP</td>\n",
              "      <td>160</td>\n",
              "      <td>180</td>\n",
              "      <td>0</td>\n",
              "      <td>Normal</td>\n",
              "      <td>156</td>\n",
              "      <td>N</td>\n",
              "      <td>1.0</td>\n",
              "      <td>Flat</td>\n",
              "      <td>1</td>\n",
              "    </tr>\n",
              "    <tr>\n",
              "      <th>2</th>\n",
              "      <td>37</td>\n",
              "      <td>M</td>\n",
              "      <td>ATA</td>\n",
              "      <td>130</td>\n",
              "      <td>283</td>\n",
              "      <td>0</td>\n",
              "      <td>ST</td>\n",
              "      <td>98</td>\n",
              "      <td>N</td>\n",
              "      <td>0.0</td>\n",
              "      <td>Up</td>\n",
              "      <td>0</td>\n",
              "    </tr>\n",
              "    <tr>\n",
              "      <th>3</th>\n",
              "      <td>48</td>\n",
              "      <td>F</td>\n",
              "      <td>ASY</td>\n",
              "      <td>138</td>\n",
              "      <td>214</td>\n",
              "      <td>0</td>\n",
              "      <td>Normal</td>\n",
              "      <td>108</td>\n",
              "      <td>Y</td>\n",
              "      <td>1.5</td>\n",
              "      <td>Flat</td>\n",
              "      <td>1</td>\n",
              "    </tr>\n",
              "    <tr>\n",
              "      <th>4</th>\n",
              "      <td>54</td>\n",
              "      <td>M</td>\n",
              "      <td>NAP</td>\n",
              "      <td>150</td>\n",
              "      <td>195</td>\n",
              "      <td>0</td>\n",
              "      <td>Normal</td>\n",
              "      <td>122</td>\n",
              "      <td>N</td>\n",
              "      <td>0.0</td>\n",
              "      <td>Up</td>\n",
              "      <td>0</td>\n",
              "    </tr>\n",
              "  </tbody>\n",
              "</table>\n",
              "</div>\n",
              "      <button class=\"colab-df-convert\" onclick=\"convertToInteractive('df-87771392-d084-4fdd-8c55-b31160a74968')\"\n",
              "              title=\"Convert this dataframe to an interactive table.\"\n",
              "              style=\"display:none;\">\n",
              "        \n",
              "  <svg xmlns=\"http://www.w3.org/2000/svg\" height=\"24px\"viewBox=\"0 0 24 24\"\n",
              "       width=\"24px\">\n",
              "    <path d=\"M0 0h24v24H0V0z\" fill=\"none\"/>\n",
              "    <path d=\"M18.56 5.44l.94 2.06.94-2.06 2.06-.94-2.06-.94-.94-2.06-.94 2.06-2.06.94zm-11 1L8.5 8.5l.94-2.06 2.06-.94-2.06-.94L8.5 2.5l-.94 2.06-2.06.94zm10 10l.94 2.06.94-2.06 2.06-.94-2.06-.94-.94-2.06-.94 2.06-2.06.94z\"/><path d=\"M17.41 7.96l-1.37-1.37c-.4-.4-.92-.59-1.43-.59-.52 0-1.04.2-1.43.59L10.3 9.45l-7.72 7.72c-.78.78-.78 2.05 0 2.83L4 21.41c.39.39.9.59 1.41.59.51 0 1.02-.2 1.41-.59l7.78-7.78 2.81-2.81c.8-.78.8-2.07 0-2.86zM5.41 20L4 18.59l7.72-7.72 1.47 1.35L5.41 20z\"/>\n",
              "  </svg>\n",
              "      </button>\n",
              "      \n",
              "  <style>\n",
              "    .colab-df-container {\n",
              "      display:flex;\n",
              "      flex-wrap:wrap;\n",
              "      gap: 12px;\n",
              "    }\n",
              "\n",
              "    .colab-df-convert {\n",
              "      background-color: #E8F0FE;\n",
              "      border: none;\n",
              "      border-radius: 50%;\n",
              "      cursor: pointer;\n",
              "      display: none;\n",
              "      fill: #1967D2;\n",
              "      height: 32px;\n",
              "      padding: 0 0 0 0;\n",
              "      width: 32px;\n",
              "    }\n",
              "\n",
              "    .colab-df-convert:hover {\n",
              "      background-color: #E2EBFA;\n",
              "      box-shadow: 0px 1px 2px rgba(60, 64, 67, 0.3), 0px 1px 3px 1px rgba(60, 64, 67, 0.15);\n",
              "      fill: #174EA6;\n",
              "    }\n",
              "\n",
              "    [theme=dark] .colab-df-convert {\n",
              "      background-color: #3B4455;\n",
              "      fill: #D2E3FC;\n",
              "    }\n",
              "\n",
              "    [theme=dark] .colab-df-convert:hover {\n",
              "      background-color: #434B5C;\n",
              "      box-shadow: 0px 1px 3px 1px rgba(0, 0, 0, 0.15);\n",
              "      filter: drop-shadow(0px 1px 2px rgba(0, 0, 0, 0.3));\n",
              "      fill: #FFFFFF;\n",
              "    }\n",
              "  </style>\n",
              "\n",
              "      <script>\n",
              "        const buttonEl =\n",
              "          document.querySelector('#df-87771392-d084-4fdd-8c55-b31160a74968 button.colab-df-convert');\n",
              "        buttonEl.style.display =\n",
              "          google.colab.kernel.accessAllowed ? 'block' : 'none';\n",
              "\n",
              "        async function convertToInteractive(key) {\n",
              "          const element = document.querySelector('#df-87771392-d084-4fdd-8c55-b31160a74968');\n",
              "          const dataTable =\n",
              "            await google.colab.kernel.invokeFunction('convertToInteractive',\n",
              "                                                     [key], {});\n",
              "          if (!dataTable) return;\n",
              "\n",
              "          const docLinkHtml = 'Like what you see? Visit the ' +\n",
              "            '<a target=\"_blank\" href=https://colab.research.google.com/notebooks/data_table.ipynb>data table notebook</a>'\n",
              "            + ' to learn more about interactive tables.';\n",
              "          element.innerHTML = '';\n",
              "          dataTable['output_type'] = 'display_data';\n",
              "          await google.colab.output.renderOutput(dataTable, element);\n",
              "          const docLink = document.createElement('div');\n",
              "          docLink.innerHTML = docLinkHtml;\n",
              "          element.appendChild(docLink);\n",
              "        }\n",
              "      </script>\n",
              "    </div>\n",
              "  </div>\n",
              "  "
            ]
          },
          "metadata": {},
          "execution_count": 4
        }
      ],
      "source": [
        "df.head()"
      ]
    },
    {
      "cell_type": "markdown",
      "metadata": {
        "id": "I1Eq6KP3TZ0d"
      },
      "source": [
        "FastingBS 데이터의 경우 실제로는 Binary한 Categorical 변수이기 때문에 Categorical 변수로 바꿔준다"
      ]
    },
    {
      "cell_type": "code",
      "execution_count": null,
      "metadata": {
        "id": "4hOkjuE0Np0A"
      },
      "outputs": [],
      "source": [
        "df.loc[df['FastingBS'] == 1, 'FastingBS'] = 'High'\n",
        "df.loc[df['FastingBS'] == 0, 'FastingBS'] = 'Low'"
      ]
    },
    {
      "cell_type": "code",
      "execution_count": null,
      "metadata": {
        "colab": {
          "base_uri": "https://localhost:8080/",
          "height": 206
        },
        "id": "9mifjz94OImJ",
        "outputId": "1e973f75-8243-4b20-8707-16e49756dddf"
      },
      "outputs": [
        {
          "output_type": "execute_result",
          "data": {
            "text/plain": [
              "   Age Sex ChestPainType  RestingBP  Cholesterol FastingBS RestingECG  MaxHR  \\\n",
              "0   40   M           ATA        140          289       Low     Normal    172   \n",
              "1   49   F           NAP        160          180       Low     Normal    156   \n",
              "2   37   M           ATA        130          283       Low         ST     98   \n",
              "3   48   F           ASY        138          214       Low     Normal    108   \n",
              "4   54   M           NAP        150          195       Low     Normal    122   \n",
              "\n",
              "  ExerciseAngina  Oldpeak ST_Slope  HeartDisease  \n",
              "0              N      0.0       Up             0  \n",
              "1              N      1.0     Flat             1  \n",
              "2              N      0.0       Up             0  \n",
              "3              Y      1.5     Flat             1  \n",
              "4              N      0.0       Up             0  "
            ],
            "text/html": [
              "\n",
              "  <div id=\"df-367426d9-e9e6-4fc3-b270-410c9e62f970\">\n",
              "    <div class=\"colab-df-container\">\n",
              "      <div>\n",
              "<style scoped>\n",
              "    .dataframe tbody tr th:only-of-type {\n",
              "        vertical-align: middle;\n",
              "    }\n",
              "\n",
              "    .dataframe tbody tr th {\n",
              "        vertical-align: top;\n",
              "    }\n",
              "\n",
              "    .dataframe thead th {\n",
              "        text-align: right;\n",
              "    }\n",
              "</style>\n",
              "<table border=\"1\" class=\"dataframe\">\n",
              "  <thead>\n",
              "    <tr style=\"text-align: right;\">\n",
              "      <th></th>\n",
              "      <th>Age</th>\n",
              "      <th>Sex</th>\n",
              "      <th>ChestPainType</th>\n",
              "      <th>RestingBP</th>\n",
              "      <th>Cholesterol</th>\n",
              "      <th>FastingBS</th>\n",
              "      <th>RestingECG</th>\n",
              "      <th>MaxHR</th>\n",
              "      <th>ExerciseAngina</th>\n",
              "      <th>Oldpeak</th>\n",
              "      <th>ST_Slope</th>\n",
              "      <th>HeartDisease</th>\n",
              "    </tr>\n",
              "  </thead>\n",
              "  <tbody>\n",
              "    <tr>\n",
              "      <th>0</th>\n",
              "      <td>40</td>\n",
              "      <td>M</td>\n",
              "      <td>ATA</td>\n",
              "      <td>140</td>\n",
              "      <td>289</td>\n",
              "      <td>Low</td>\n",
              "      <td>Normal</td>\n",
              "      <td>172</td>\n",
              "      <td>N</td>\n",
              "      <td>0.0</td>\n",
              "      <td>Up</td>\n",
              "      <td>0</td>\n",
              "    </tr>\n",
              "    <tr>\n",
              "      <th>1</th>\n",
              "      <td>49</td>\n",
              "      <td>F</td>\n",
              "      <td>NAP</td>\n",
              "      <td>160</td>\n",
              "      <td>180</td>\n",
              "      <td>Low</td>\n",
              "      <td>Normal</td>\n",
              "      <td>156</td>\n",
              "      <td>N</td>\n",
              "      <td>1.0</td>\n",
              "      <td>Flat</td>\n",
              "      <td>1</td>\n",
              "    </tr>\n",
              "    <tr>\n",
              "      <th>2</th>\n",
              "      <td>37</td>\n",
              "      <td>M</td>\n",
              "      <td>ATA</td>\n",
              "      <td>130</td>\n",
              "      <td>283</td>\n",
              "      <td>Low</td>\n",
              "      <td>ST</td>\n",
              "      <td>98</td>\n",
              "      <td>N</td>\n",
              "      <td>0.0</td>\n",
              "      <td>Up</td>\n",
              "      <td>0</td>\n",
              "    </tr>\n",
              "    <tr>\n",
              "      <th>3</th>\n",
              "      <td>48</td>\n",
              "      <td>F</td>\n",
              "      <td>ASY</td>\n",
              "      <td>138</td>\n",
              "      <td>214</td>\n",
              "      <td>Low</td>\n",
              "      <td>Normal</td>\n",
              "      <td>108</td>\n",
              "      <td>Y</td>\n",
              "      <td>1.5</td>\n",
              "      <td>Flat</td>\n",
              "      <td>1</td>\n",
              "    </tr>\n",
              "    <tr>\n",
              "      <th>4</th>\n",
              "      <td>54</td>\n",
              "      <td>M</td>\n",
              "      <td>NAP</td>\n",
              "      <td>150</td>\n",
              "      <td>195</td>\n",
              "      <td>Low</td>\n",
              "      <td>Normal</td>\n",
              "      <td>122</td>\n",
              "      <td>N</td>\n",
              "      <td>0.0</td>\n",
              "      <td>Up</td>\n",
              "      <td>0</td>\n",
              "    </tr>\n",
              "  </tbody>\n",
              "</table>\n",
              "</div>\n",
              "      <button class=\"colab-df-convert\" onclick=\"convertToInteractive('df-367426d9-e9e6-4fc3-b270-410c9e62f970')\"\n",
              "              title=\"Convert this dataframe to an interactive table.\"\n",
              "              style=\"display:none;\">\n",
              "        \n",
              "  <svg xmlns=\"http://www.w3.org/2000/svg\" height=\"24px\"viewBox=\"0 0 24 24\"\n",
              "       width=\"24px\">\n",
              "    <path d=\"M0 0h24v24H0V0z\" fill=\"none\"/>\n",
              "    <path d=\"M18.56 5.44l.94 2.06.94-2.06 2.06-.94-2.06-.94-.94-2.06-.94 2.06-2.06.94zm-11 1L8.5 8.5l.94-2.06 2.06-.94-2.06-.94L8.5 2.5l-.94 2.06-2.06.94zm10 10l.94 2.06.94-2.06 2.06-.94-2.06-.94-.94-2.06-.94 2.06-2.06.94z\"/><path d=\"M17.41 7.96l-1.37-1.37c-.4-.4-.92-.59-1.43-.59-.52 0-1.04.2-1.43.59L10.3 9.45l-7.72 7.72c-.78.78-.78 2.05 0 2.83L4 21.41c.39.39.9.59 1.41.59.51 0 1.02-.2 1.41-.59l7.78-7.78 2.81-2.81c.8-.78.8-2.07 0-2.86zM5.41 20L4 18.59l7.72-7.72 1.47 1.35L5.41 20z\"/>\n",
              "  </svg>\n",
              "      </button>\n",
              "      \n",
              "  <style>\n",
              "    .colab-df-container {\n",
              "      display:flex;\n",
              "      flex-wrap:wrap;\n",
              "      gap: 12px;\n",
              "    }\n",
              "\n",
              "    .colab-df-convert {\n",
              "      background-color: #E8F0FE;\n",
              "      border: none;\n",
              "      border-radius: 50%;\n",
              "      cursor: pointer;\n",
              "      display: none;\n",
              "      fill: #1967D2;\n",
              "      height: 32px;\n",
              "      padding: 0 0 0 0;\n",
              "      width: 32px;\n",
              "    }\n",
              "\n",
              "    .colab-df-convert:hover {\n",
              "      background-color: #E2EBFA;\n",
              "      box-shadow: 0px 1px 2px rgba(60, 64, 67, 0.3), 0px 1px 3px 1px rgba(60, 64, 67, 0.15);\n",
              "      fill: #174EA6;\n",
              "    }\n",
              "\n",
              "    [theme=dark] .colab-df-convert {\n",
              "      background-color: #3B4455;\n",
              "      fill: #D2E3FC;\n",
              "    }\n",
              "\n",
              "    [theme=dark] .colab-df-convert:hover {\n",
              "      background-color: #434B5C;\n",
              "      box-shadow: 0px 1px 3px 1px rgba(0, 0, 0, 0.15);\n",
              "      filter: drop-shadow(0px 1px 2px rgba(0, 0, 0, 0.3));\n",
              "      fill: #FFFFFF;\n",
              "    }\n",
              "  </style>\n",
              "\n",
              "      <script>\n",
              "        const buttonEl =\n",
              "          document.querySelector('#df-367426d9-e9e6-4fc3-b270-410c9e62f970 button.colab-df-convert');\n",
              "        buttonEl.style.display =\n",
              "          google.colab.kernel.accessAllowed ? 'block' : 'none';\n",
              "\n",
              "        async function convertToInteractive(key) {\n",
              "          const element = document.querySelector('#df-367426d9-e9e6-4fc3-b270-410c9e62f970');\n",
              "          const dataTable =\n",
              "            await google.colab.kernel.invokeFunction('convertToInteractive',\n",
              "                                                     [key], {});\n",
              "          if (!dataTable) return;\n",
              "\n",
              "          const docLinkHtml = 'Like what you see? Visit the ' +\n",
              "            '<a target=\"_blank\" href=https://colab.research.google.com/notebooks/data_table.ipynb>data table notebook</a>'\n",
              "            + ' to learn more about interactive tables.';\n",
              "          element.innerHTML = '';\n",
              "          dataTable['output_type'] = 'display_data';\n",
              "          await google.colab.output.renderOutput(dataTable, element);\n",
              "          const docLink = document.createElement('div');\n",
              "          docLink.innerHTML = docLinkHtml;\n",
              "          element.appendChild(docLink);\n",
              "        }\n",
              "      </script>\n",
              "    </div>\n",
              "  </div>\n",
              "  "
            ]
          },
          "metadata": {},
          "execution_count": 6
        }
      ],
      "source": [
        "df.head()"
      ]
    },
    {
      "cell_type": "markdown",
      "metadata": {
        "id": "PmAQ5_2U4vAx"
      },
      "source": [
        "데이터는 반복적으로 측정한 것이 아닌 개별 환자들의 진료 기록이기 때문에 \n",
        "\n",
        "첫번째 Assumption인 관측치들간 독립성을 만족한다.   "
      ]
    },
    {
      "cell_type": "code",
      "execution_count": null,
      "metadata": {
        "colab": {
          "base_uri": "https://localhost:8080/"
        },
        "id": "JzRVyGIRyqDm",
        "outputId": "98a60297-7f9b-4036-8ab7-444771f049f0"
      },
      "outputs": [
        {
          "output_type": "execute_result",
          "data": {
            "text/plain": [
              "Age               0\n",
              "Sex               0\n",
              "ChestPainType     0\n",
              "RestingBP         0\n",
              "Cholesterol       0\n",
              "FastingBS         0\n",
              "RestingECG        0\n",
              "MaxHR             0\n",
              "ExerciseAngina    0\n",
              "Oldpeak           0\n",
              "ST_Slope          0\n",
              "HeartDisease      0\n",
              "dtype: int64"
            ]
          },
          "metadata": {},
          "execution_count": 7
        }
      ],
      "source": [
        "df.isnull().sum()"
      ]
    },
    {
      "cell_type": "markdown",
      "metadata": {
        "id": "HewKqe8w5Ztb"
      },
      "source": [
        "결측치는 없기 때문에 Imputation을 진행하지 않는다."
      ]
    },
    {
      "cell_type": "markdown",
      "metadata": {
        "id": "fne2z5pA2kZo"
      },
      "source": [
        "## EDA"
      ]
    },
    {
      "cell_type": "markdown",
      "metadata": {
        "id": "4uFgQ5I16MWg"
      },
      "source": [
        "https://www.kaggle.com/code/kgxiao/eda-logistic-regression-recall-rate-91\n",
        "\n",
        "https://www.kaggle.com/code/mohamedabidi97/exploratory-data-analysis-heart-disease"
      ]
    },
    {
      "cell_type": "markdown",
      "metadata": {
        "id": "gYR2244l5wIL"
      },
      "source": [
        "강의 시간에 진행한 EDA 코드 뿐만 아니라 \n",
        "\n",
        "추가 EDA 확인을 위하여 kaggle에 있는 코드를 참고하였습니다"
      ]
    },
    {
      "cell_type": "markdown",
      "metadata": {
        "id": "iOvt_S2UYh9Y"
      },
      "source": [
        "-Numeical Data"
      ]
    },
    {
      "cell_type": "code",
      "execution_count": null,
      "metadata": {
        "colab": {
          "base_uri": "https://localhost:8080/",
          "height": 225
        },
        "id": "Uu3X7Kwv0BT8",
        "outputId": "26097fae-0e10-469b-ee14-681da2fe100d"
      },
      "outputs": [
        {
          "output_type": "display_data",
          "data": {
            "text/plain": [
              "<Figure size 939.25x216 with 1 Axes>"
            ],
            "image/png": "[encoded data removed]"
          },
          "metadata": {
            "needs_background": "light"
          }
        }
      ],
      "source": [
        "import matplotlib.pyplot as plt\n",
        "import seaborn as sns\n",
        "\n",
        "facet = sns.FacetGrid(df, hue=\"HeartDisease\", aspect=4)\n",
        "facet.map(sns.kdeplot, 'Age', shade=True)\n",
        "facet.set(xlim=(0, df['Age'].max()))\n",
        "facet.add_legend()\n",
        "sns.axes_style(\"darkgrid\")\n",
        "\n",
        "plt.show()\n",
        "\n"
      ]
    },
    {
      "cell_type": "markdown",
      "metadata": {
        "id": "MNXIfZZBUF6n"
      },
      "source": [
        "Age에 따른 HeartDisease의 발병유무를 Plot으로 확인할 수 있다.\n",
        "\n",
        "빨강색(발병)과 파랑색(정상)이 구분되어 있지 않고 혼재되어 나타나있음을 알 수 있다. \n",
        "\n",
        "데이터셋의 Age가   20대 이상이며 주로 40~60대 임을 알 수 있었다."
      ]
    },
    {
      "cell_type": "code",
      "execution_count": null,
      "metadata": {
        "colab": {
          "base_uri": "https://localhost:8080/",
          "height": 225
        },
        "id": "flQs5ISX0p3m",
        "outputId": "89006d54-05e5-415f-feb7-7244a6665ee5"
      },
      "outputs": [
        {
          "output_type": "display_data",
          "data": {
            "text/plain": [
              "<Figure size 939.25x216 with 1 Axes>"
            ],
            "image/png": "[encoded data removed]"
          },
          "metadata": {
            "needs_background": "light"
          }
        }
      ],
      "source": [
        "facet2 = sns.FacetGrid(df, hue=\"HeartDisease\", aspect=4)\n",
        "facet2.map(sns.kdeplot, 'RestingBP', shade=True)\n",
        "facet2.set(xlim=(0, df['RestingBP'].max()))\n",
        "facet2.add_legend()\n",
        "\n",
        "plt.show() "
      ]
    },
    {
      "cell_type": "markdown",
      "metadata": {
        "id": "zZ8iv6DaUZaA"
      },
      "source": [
        "RestingBP에 따른 HeartDisease의 발병유무를 Plot으로 확인할 수 있다.\n",
        "\n",
        "빨강색(발병)과 파랑색(정상)이 구분되어 있지 않고 혼재되어 나타나있음을 알 수 있다. \n",
        "\n",
        "데이터셋의 RestingBP가 75 이상이며 주로 125~150 임을 알 수 있었다."
      ]
    },
    {
      "cell_type": "code",
      "execution_count": null,
      "metadata": {
        "colab": {
          "base_uri": "https://localhost:8080/",
          "height": 225
        },
        "id": "kiq8GWh4K7od",
        "outputId": "7465ebaf-dce7-4095-9d06-76a15c78a542"
      },
      "outputs": [
        {
          "output_type": "display_data",
          "data": {
            "text/plain": [
              "<Figure size 939.25x216 with 1 Axes>"
            ],
            "image/png": "[encoded data removed]"
          },
          "metadata": {
            "needs_background": "light"
          }
        }
      ],
      "source": [
        "facet3 = sns.FacetGrid(df, hue=\"HeartDisease\", aspect=4)\n",
        "facet3.map(sns.kdeplot, 'Cholesterol', shade=True)\n",
        "facet3.set(xlim=(0, df['Cholesterol'].max()))\n",
        "facet3.add_legend()\n",
        "\n",
        "plt.show()"
      ]
    },
    {
      "cell_type": "markdown",
      "metadata": {
        "id": "MKZSwrXuU5dC"
      },
      "source": [
        "Cholesterol에 따른 HeartDisease의 발병유무를 Plot으로 확인할 수 있다.\n",
        "\n",
        "Cholesterol의 수치가 100이하로 많이 낮을 경우, 300이상으로 높을경우 HeartDisease가 발병한 경우가 많았으며\n",
        "\n",
        "데이터셋의 Cholesterol이 주로 200~300 임을 알 수 있었다."
      ]
    },
    {
      "cell_type": "code",
      "execution_count": null,
      "metadata": {
        "colab": {
          "base_uri": "https://localhost:8080/",
          "height": 353
        },
        "id": "LVSbl9ZUSnc2",
        "outputId": "af627066-587c-404e-b815-f5e98d164dd5"
      },
      "outputs": [
        {
          "output_type": "stream",
          "name": "stderr",
          "text": [
            "/usr/local/lib/python3.7/dist-packages/seaborn/_decorators.py:43: FutureWarning: Pass the following variable as a keyword arg: x. From version 0.12, the only valid positional argument will be `data`, and passing other arguments without an explicit keyword will result in an error or misinterpretation.\n",
            "  FutureWarning\n"
          ]
        },
        {
          "output_type": "execute_result",
          "data": {
            "text/plain": [
              "<matplotlib.axes._subplots.AxesSubplot at 0x7f99513c6d10>"
            ]
          },
          "metadata": {},
          "execution_count": 11
        },
        {
          "output_type": "display_data",
          "data": {
            "text/plain": [
              "<Figure size 432x288 with 1 Axes>"
            ],
            "image/png": "[encoded data removed]"
          },
          "metadata": {
            "needs_background": "light"
          }
        }
      ],
      "source": [
        "sns.boxplot(df['Cholesterol'])"
      ]
    },
    {
      "cell_type": "code",
      "execution_count": null,
      "metadata": {
        "id": "byo0inY3S66o"
      },
      "outputs": [],
      "source": [
        "df.loc[df['Cholesterol'] >= 400, 'Cholesterol'] = 400"
      ]
    },
    {
      "cell_type": "markdown",
      "metadata": {
        "id": "CFmyV6eASmvo"
      },
      "source": [
        "Cholesterol이 일정 수준 이상부터는 그 데이터수가 확연하게 적기 때문에\n",
        "\n",
        "\n",
        "400이상의 수치를 같은 값으로 동일하게 바꾼다 (이상치 제거의 과정)\n"
      ]
    },
    {
      "cell_type": "code",
      "execution_count": null,
      "metadata": {
        "colab": {
          "base_uri": "https://localhost:8080/",
          "height": 244
        },
        "id": "avMA2NWsK7zD",
        "outputId": "60fd4aa0-4807-4caa-8607-2055ce068436"
      },
      "outputs": [
        {
          "output_type": "execute_result",
          "data": {
            "text/plain": [
              "<seaborn.axisgrid.FacetGrid at 0x7f9951304950>"
            ]
          },
          "metadata": {},
          "execution_count": 13
        },
        {
          "output_type": "display_data",
          "data": {
            "text/plain": [
              "<Figure size 939.25x216 with 1 Axes>"
            ],
            "image/png": "[encoded data removed]"
          },
          "metadata": {
            "needs_background": "light"
          }
        }
      ],
      "source": [
        "facet4 = sns.FacetGrid(df, hue=\"HeartDisease\", aspect=4)\n",
        "facet4.map(sns.kdeplot, 'MaxHR', shade=True)\n",
        "facet4.set(xlim=(0, df['MaxHR'].max()))\n",
        "facet4.add_legend()\n"
      ]
    },
    {
      "cell_type": "markdown",
      "metadata": {
        "id": "yyoapAJxWGPc"
      },
      "source": [
        "MaxHR에 따른 HeartDisease의 발병유무를 Plot으로 확인할 수 있다.\n",
        "\n",
        "빨강색(발병)과 파랑색(정상)이 잘 구분되어 있지 않고 혼재되어 나타난다. \n",
        "\n",
        "데이터셋의 MaxHR이 50 이상이며 주로 125~150 임을 알 수 있었다."
      ]
    },
    {
      "cell_type": "code",
      "execution_count": null,
      "metadata": {
        "colab": {
          "base_uri": "https://localhost:8080/",
          "height": 244
        },
        "id": "Twzoo4jYK74Q",
        "outputId": "d071a766-be34-4d96-845b-084065641167"
      },
      "outputs": [
        {
          "output_type": "execute_result",
          "data": {
            "text/plain": [
              "<seaborn.axisgrid.FacetGrid at 0x7f995124f410>"
            ]
          },
          "metadata": {},
          "execution_count": 14
        },
        {
          "output_type": "display_data",
          "data": {
            "text/plain": [
              "<Figure size 939.25x216 with 1 Axes>"
            ],
            "image/png": "[encoded data removed]"
          },
          "metadata": {
            "needs_background": "light"
          }
        }
      ],
      "source": [
        "facet5 = sns.FacetGrid(df, hue=\"HeartDisease\", aspect=4)\n",
        "facet5.map(sns.kdeplot, 'Oldpeak', shade=True)\n",
        "facet5.set(xlim=(0, df['Oldpeak'].max()))\n",
        "facet5.add_legend()"
      ]
    },
    {
      "cell_type": "markdown",
      "metadata": {
        "id": "n3vIjxZ6WZJI"
      },
      "source": [
        "Oldpeak에 따른 HeartDisease의 발병유무를 Plot으로 확인할 수 있다.\n",
        "\n",
        "Oldpeak가 낮을 때 정상인 경우(파랑색)가 발병할 경우보다 확연하게  많았다\n",
        "\n",
        "Oldpeak가 2보다 커질경우 발병하는 경우는 거의 없었으며 대부분의 데이터의 Oldpeak가 4 이하였다 \n",
        "\n"
      ]
    },
    {
      "cell_type": "code",
      "execution_count": null,
      "metadata": {
        "colab": {
          "base_uri": "https://localhost:8080/",
          "height": 353
        },
        "id": "l5gRMLOUTKxN",
        "outputId": "79a1544d-07e5-4400-eb60-c0e0092ba943"
      },
      "outputs": [
        {
          "output_type": "stream",
          "name": "stderr",
          "text": [
            "/usr/local/lib/python3.7/dist-packages/seaborn/_decorators.py:43: FutureWarning: Pass the following variable as a keyword arg: x. From version 0.12, the only valid positional argument will be `data`, and passing other arguments without an explicit keyword will result in an error or misinterpretation.\n",
            "  FutureWarning\n"
          ]
        },
        {
          "output_type": "execute_result",
          "data": {
            "text/plain": [
              "<matplotlib.axes._subplots.AxesSubplot at 0x7f995122f750>"
            ]
          },
          "metadata": {},
          "execution_count": 15
        },
        {
          "output_type": "display_data",
          "data": {
            "text/plain": [
              "<Figure size 432x288 with 1 Axes>"
            ],
            "image/png": "[encoded data removed]"
          },
          "metadata": {
            "needs_background": "light"
          }
        }
      ],
      "source": [
        "sns.boxplot(df['Oldpeak'])"
      ]
    },
    {
      "cell_type": "code",
      "execution_count": null,
      "metadata": {
        "id": "B9NayX_IRt1q"
      },
      "outputs": [],
      "source": [
        "df.loc[df['Oldpeak'] >= 4, 'Oldpeak'] = 4"
      ]
    },
    {
      "cell_type": "markdown",
      "metadata": {
        "id": "0Vkk1-dgRsyi"
      },
      "source": [
        "Oldpeak의 경우  일정수준 이상부터는 그 데이터수가 확연히 적기 때문에 \n",
        "\n",
        "4이상의 수치를 같은 값으로 동일하게 바꾼다 (이상치 제거의 과정)\n"
      ]
    },
    {
      "cell_type": "markdown",
      "metadata": {
        "id": "eSYWTN56P_zo"
      },
      "source": [
        "5개의 Numerical 변수들 중 Plot을 통해 HeartDisease와 관계가 있을 것으로 예상되는 변수들은\n",
        "\n",
        "'Cholesterol' 과 'Oldpeak'이다\n",
        "\n",
        "'Age', 'RestingBP','MaxHR'의 경우 크기에 상관없이 HeartDisease의 발생수가 비슷하게 나타남으로 고려하지 않았다 \n",
        "\n",
        "(결과가 궁금하여 따로 분석을 진행해보았지만 세 변수 모두 P-value가 0.05 이상으로로 유의미 하지 않았다)"
      ]
    },
    {
      "cell_type": "code",
      "execution_count": null,
      "metadata": {
        "colab": {
          "base_uri": "https://localhost:8080/"
        },
        "id": "77QFAw0x1Fbv",
        "outputId": "314f38bf-b8b3-4c0f-f2f8-a77cb3da8b5d"
      },
      "outputs": [
        {
          "output_type": "execute_result",
          "data": {
            "text/plain": [
              "count    918.000000\n",
              "mean     197.769063\n",
              "std      106.854935\n",
              "min        0.000000\n",
              "25%      173.250000\n",
              "50%      223.000000\n",
              "75%      267.000000\n",
              "max      400.000000\n",
              "Name: Cholesterol, dtype: float64"
            ]
          },
          "metadata": {},
          "execution_count": 17
        }
      ],
      "source": [
        "df['Cholesterol'].describe()"
      ]
    },
    {
      "cell_type": "code",
      "execution_count": null,
      "metadata": {
        "colab": {
          "base_uri": "https://localhost:8080/"
        },
        "id": "Mg_x6szWSXPH",
        "outputId": "10c9a461-ceab-4b72-8fa3-4abee383d8c4"
      },
      "outputs": [
        {
          "output_type": "execute_result",
          "data": {
            "text/plain": [
              "count    918.000000\n",
              "mean       0.881264\n",
              "std        1.044076\n",
              "min       -2.600000\n",
              "25%        0.000000\n",
              "50%        0.600000\n",
              "75%        1.500000\n",
              "max        4.000000\n",
              "Name: Oldpeak, dtype: float64"
            ]
          },
          "metadata": {},
          "execution_count": 18
        }
      ],
      "source": [
        "df['Oldpeak'].describe()"
      ]
    },
    {
      "cell_type": "markdown",
      "metadata": {
        "id": "RPOYXwrhYp0u"
      },
      "source": [
        "-Categorical Data"
      ]
    },
    {
      "cell_type": "code",
      "execution_count": null,
      "metadata": {
        "id": "l8xKUG311QjI"
      },
      "outputs": [],
      "source": [
        "# 특정 feature에 따른 HeartDisease 비교 (0: 발병x, 1: 발병) 함수\n",
        "def bar_chart(feature):\n",
        "    survived = df[df['HeartDisease']==1][feature].value_counts()\n",
        "    dead = df[df['HeartDisease']==0][feature].value_counts()\n",
        "    df_survived = pd.DataFrame([survived,dead])\n",
        "    df_survived.index = ['HeartDisease','Normal']\n",
        "    df_survived.plot(kind='bar',stacked=True, figsize=(10,5))"
      ]
    },
    {
      "cell_type": "code",
      "execution_count": null,
      "metadata": {
        "colab": {
          "base_uri": "https://localhost:8080/",
          "height": 450
        },
        "id": "JJMnMw-R1jn5",
        "outputId": "bafce33c-ed0a-43a5-feba-ebef9f49af2f"
      },
      "outputs": [
        {
          "output_type": "execute_result",
          "data": {
            "text/plain": [
              "Sex\n",
              "F    0.259067\n",
              "M    0.631724\n",
              "Name: HeartDisease, dtype: float64"
            ]
          },
          "metadata": {},
          "execution_count": 20
        },
        {
          "output_type": "display_data",
          "data": {
            "text/plain": [
              "<Figure size 720x360 with 1 Axes>"
            ],
            "image/png": "[encoded data removed]"
          },
          "metadata": {
            "needs_background": "light"
          }
        }
      ],
      "source": [
        "bar_chart('Sex')\n",
        "df.groupby(['Sex'])['HeartDisease'].agg(lambda x: x.sum()/x.count())"
      ]
    },
    {
      "cell_type": "markdown",
      "metadata": {
        "id": "1Kmo5H3SYB6U"
      },
      "source": [
        "실제 남성이 여성보다 데이터 수가 많았지만, Normal에서의 비율 차이보다 HeartDisease에서의 남성 비율이 높기 때문에\n",
        "\n",
        "남성이 HeartDisease 발생이 여성보다 많다고 해석할 수 있다."
      ]
    },
    {
      "cell_type": "code",
      "execution_count": null,
      "metadata": {
        "colab": {
          "base_uri": "https://localhost:8080/",
          "height": 486
        },
        "id": "9N_s4JAXYzzI",
        "outputId": "5852dcff-764d-4b6f-a663-65704e1651e2"
      },
      "outputs": [
        {
          "output_type": "execute_result",
          "data": {
            "text/plain": [
              "ChestPainType\n",
              "ASY    0.790323\n",
              "ATA    0.138728\n",
              "NAP    0.354680\n",
              "TA     0.434783\n",
              "Name: HeartDisease, dtype: float64"
            ]
          },
          "metadata": {},
          "execution_count": 21
        },
        {
          "output_type": "display_data",
          "data": {
            "text/plain": [
              "<Figure size 720x360 with 1 Axes>"
            ],
            "image/png": "[encoded data removed]"
          },
          "metadata": {
            "needs_background": "light"
          }
        }
      ],
      "source": [
        "bar_chart('ChestPainType')\n",
        "df.groupby(['ChestPainType'])['HeartDisease'].agg(lambda x: x.sum()/x.count())"
      ]
    },
    {
      "cell_type": "markdown",
      "metadata": {
        "id": "OQWFGC5kZCeQ"
      },
      "source": [
        "ChestPainType의 경우 ASY일 때 HeartDisease의 발병비율이 매우 높은것 을 알 수 있었으며\n",
        "\n",
        "ATA일때 HeartDisease의 발병비율이 매우 낮은 것을 알 수 있었다."
      ]
    },
    {
      "cell_type": "code",
      "execution_count": null,
      "metadata": {
        "colab": {
          "base_uri": "https://localhost:8080/",
          "height": 450
        },
        "id": "kVlg2CVRYz8u",
        "outputId": "dc283b62-d068-433e-a3a4-3a66686672b5"
      },
      "outputs": [
        {
          "output_type": "execute_result",
          "data": {
            "text/plain": [
              "FastingBS\n",
              "High    0.794393\n",
              "Low     0.480114\n",
              "Name: HeartDisease, dtype: float64"
            ]
          },
          "metadata": {},
          "execution_count": 22
        },
        {
          "output_type": "display_data",
          "data": {
            "text/plain": [
              "<Figure size 720x360 with 1 Axes>"
            ],
            "image/png": "[encoded data removed]"
          },
          "metadata": {
            "needs_background": "light"
          }
        }
      ],
      "source": [
        "bar_chart('FastingBS')\n",
        "df.groupby(['FastingBS'])['HeartDisease'].agg(lambda x: x.sum()/x.count())"
      ]
    },
    {
      "cell_type": "markdown",
      "metadata": {
        "id": "yaoCf6ZhZkXO"
      },
      "source": [
        "FastingBS가 High일 경우 HeartDisease가 발병했을 때와 정상인 경우를 비교해봤을 때 \n",
        "\n",
        "발병했을 때의 데이터가 훨씬 많았음을 알 수 있었다."
      ]
    },
    {
      "cell_type": "code",
      "execution_count": null,
      "metadata": {
        "id": "2iPXDOzdY0DQ",
        "colab": {
          "base_uri": "https://localhost:8080/",
          "height": 468
        },
        "outputId": "6891f7fd-c5e8-419a-9157-306ad7694606"
      },
      "outputs": [
        {
          "output_type": "execute_result",
          "data": {
            "text/plain": [
              "RestingECG\n",
              "LVH       0.563830\n",
              "Normal    0.516304\n",
              "ST        0.657303\n",
              "Name: HeartDisease, dtype: float64"
            ]
          },
          "metadata": {},
          "execution_count": 23
        },
        {
          "output_type": "display_data",
          "data": {
            "text/plain": [
              "<Figure size 720x360 with 1 Axes>"
            ],
            "image/png": "[encoded data removed]"
          },
          "metadata": {
            "needs_background": "light"
          }
        }
      ],
      "source": [
        "bar_chart('RestingECG')\n",
        "df.groupby(['RestingECG'])['HeartDisease'].agg(lambda x: x.sum()/x.count())"
      ]
    },
    {
      "cell_type": "markdown",
      "metadata": {
        "id": "mrDSuXwkb4gO"
      },
      "source": [
        "RestingECG가  Normal,ST,LVH일때의 비율이 HeartDisease가 발병했을 때와 정상일 때 차이가 거의 없음을 알 수 있었다."
      ]
    },
    {
      "cell_type": "code",
      "execution_count": null,
      "metadata": {
        "colab": {
          "base_uri": "https://localhost:8080/",
          "height": 450
        },
        "id": "y1uSIXfMY0JN",
        "outputId": "a2303413-0f42-473b-a135-8a2ed6ee22eb"
      },
      "outputs": [
        {
          "output_type": "execute_result",
          "data": {
            "text/plain": [
              "ExerciseAngina\n",
              "N    0.351005\n",
              "Y    0.851752\n",
              "Name: HeartDisease, dtype: float64"
            ]
          },
          "metadata": {},
          "execution_count": 24
        },
        {
          "output_type": "display_data",
          "data": {
            "text/plain": [
              "<Figure size 720x360 with 1 Axes>"
            ],
            "image/png": "[encoded data removed]"
          },
          "metadata": {
            "needs_background": "light"
          }
        }
      ],
      "source": [
        "bar_chart('ExerciseAngina')\n",
        "df.groupby(['ExerciseAngina'])['HeartDisease'].agg(lambda x: x.sum()/x.count())"
      ]
    },
    {
      "cell_type": "markdown",
      "metadata": {
        "id": "rk5z1sVRcWeT"
      },
      "source": [
        "ExerciseAngina의 경우 HeartDisease의 발병했을때와 정상일 때를 비교하면 \n",
        "\n",
        "ExerciseAngina가 있을 경우 발병한 데이터가 훨씬 많음을 알 수 있었다."
      ]
    },
    {
      "cell_type": "code",
      "execution_count": null,
      "metadata": {
        "colab": {
          "base_uri": "https://localhost:8080/",
          "height": 468
        },
        "id": "6V2e4BLzY0Zx",
        "outputId": "b866cd71-8d27-453a-9e49-46cf63bbe9e2"
      },
      "outputs": [
        {
          "output_type": "execute_result",
          "data": {
            "text/plain": [
              "ST_Slope\n",
              "Down    0.777778\n",
              "Flat    0.828261\n",
              "Up      0.197468\n",
              "Name: HeartDisease, dtype: float64"
            ]
          },
          "metadata": {},
          "execution_count": 25
        },
        {
          "output_type": "display_data",
          "data": {
            "text/plain": [
              "<Figure size 720x360 with 1 Axes>"
            ],
            "image/png": "[encoded data removed]"
          },
          "metadata": {
            "needs_background": "light"
          }
        }
      ],
      "source": [
        "bar_chart('ST_Slope')\n",
        "df.groupby(['ST_Slope'])['HeartDisease'].agg(lambda x: x.sum()/x.count())"
      ]
    },
    {
      "cell_type": "markdown",
      "metadata": {
        "id": "-uG2SY9mdZ1V"
      },
      "source": [
        "ST_Slope의 경우 Flat한 경우 HeartDisease가 발병한 데이터가 많음을 알 수 있었으며 \n",
        "\n",
        "Up인 경우 HeartDisease가 발병할 경우보다 정상인 경우가 많음을 알 수 있었고\n",
        "\n",
        "Down인 경우 HeartDisease가 발병할 경우가 정상인 경우와 비교해봤을때 많은 것을 알 수 있었다."
      ]
    },
    {
      "cell_type": "markdown",
      "metadata": {
        "id": "TlN4zEz9eNDx"
      },
      "source": [
        "*추가 EDA\n",
        "\n",
        "Kaggle에 있는 코드를 참고하여 데이터분포 및 데이터간 Plot을 보다 이해하기 쉽게 확인해보았다."
      ]
    },
    {
      "cell_type": "code",
      "source": [
        "#Minors, young people, middle-aged people, middle-aged and old people, old people————Five levels\n",
        "dfage = df.assign(box_age=pd.cut(df[\"Age\"],\n",
        "                         bins=[0,18,30,45,55,100])).loc[:,[\"box_age\",\"HeartDisease\"]].assign(count_pointer=1).groupby([\"box_age\",\"HeartDisease\"]).agg(count_num=(\"count_pointer\",\"count\"))\n",
        "dfage = dfage.reset_index()\n",
        "dfage"
      ],
      "metadata": {
        "id": "49Y8FjbE18IS",
        "colab": {
          "base_uri": "https://localhost:8080/",
          "height": 363
        },
        "outputId": "b3c1cc66-bf2d-4082-b854-7f222d86cfef"
      },
      "execution_count": null,
      "outputs": [
        {
          "output_type": "execute_result",
          "data": {
            "text/plain": [
              "     box_age  HeartDisease  count_num\n",
              "0    (0, 18]             0          0\n",
              "1    (0, 18]             1          0\n",
              "2   (18, 30]             0          5\n",
              "3   (18, 30]             1          0\n",
              "4   (30, 45]             0        130\n",
              "5   (30, 45]             1         61\n",
              "6   (45, 55]             0        156\n",
              "7   (45, 55]             1        160\n",
              "8  (55, 100]             0        119\n",
              "9  (55, 100]             1        287"
            ],
            "text/html": [
              "\n",
              "  <div id=\"df-f1d949e2-bf35-470a-ad99-a8f47a730b0e\">\n",
              "    <div class=\"colab-df-container\">\n",
              "      <div>\n",
              "<style scoped>\n",
              "    .dataframe tbody tr th:only-of-type {\n",
              "        vertical-align: middle;\n",
              "    }\n",
              "\n",
              "    .dataframe tbody tr th {\n",
              "        vertical-align: top;\n",
              "    }\n",
              "\n",
              "    .dataframe thead th {\n",
              "        text-align: right;\n",
              "    }\n",
              "</style>\n",
              "<table border=\"1\" class=\"dataframe\">\n",
              "  <thead>\n",
              "    <tr style=\"text-align: right;\">\n",
              "      <th></th>\n",
              "      <th>box_age</th>\n",
              "      <th>HeartDisease</th>\n",
              "      <th>count_num</th>\n",
              "    </tr>\n",
              "  </thead>\n",
              "  <tbody>\n",
              "    <tr>\n",
              "      <th>0</th>\n",
              "      <td>(0, 18]</td>\n",
              "      <td>0</td>\n",
              "      <td>0</td>\n",
              "    </tr>\n",
              "    <tr>\n",
              "      <th>1</th>\n",
              "      <td>(0, 18]</td>\n",
              "      <td>1</td>\n",
              "      <td>0</td>\n",
              "    </tr>\n",
              "    <tr>\n",
              "      <th>2</th>\n",
              "      <td>(18, 30]</td>\n",
              "      <td>0</td>\n",
              "      <td>5</td>\n",
              "    </tr>\n",
              "    <tr>\n",
              "      <th>3</th>\n",
              "      <td>(18, 30]</td>\n",
              "      <td>1</td>\n",
              "      <td>0</td>\n",
              "    </tr>\n",
              "    <tr>\n",
              "      <th>4</th>\n",
              "      <td>(30, 45]</td>\n",
              "      <td>0</td>\n",
              "      <td>130</td>\n",
              "    </tr>\n",
              "    <tr>\n",
              "      <th>5</th>\n",
              "      <td>(30, 45]</td>\n",
              "      <td>1</td>\n",
              "      <td>61</td>\n",
              "    </tr>\n",
              "    <tr>\n",
              "      <th>6</th>\n",
              "      <td>(45, 55]</td>\n",
              "      <td>0</td>\n",
              "      <td>156</td>\n",
              "    </tr>\n",
              "    <tr>\n",
              "      <th>7</th>\n",
              "      <td>(45, 55]</td>\n",
              "      <td>1</td>\n",
              "      <td>160</td>\n",
              "    </tr>\n",
              "    <tr>\n",
              "      <th>8</th>\n",
              "      <td>(55, 100]</td>\n",
              "      <td>0</td>\n",
              "      <td>119</td>\n",
              "    </tr>\n",
              "    <tr>\n",
              "      <th>9</th>\n",
              "      <td>(55, 100]</td>\n",
              "      <td>1</td>\n",
              "      <td>287</td>\n",
              "    </tr>\n",
              "  </tbody>\n",
              "</table>\n",
              "</div>\n",
              "      <button class=\"colab-df-convert\" onclick=\"convertToInteractive('df-f1d949e2-bf35-470a-ad99-a8f47a730b0e')\"\n",
              "              title=\"Convert this dataframe to an interactive table.\"\n",
              "              style=\"display:none;\">\n",
              "        \n",
              "  <svg xmlns=\"http://www.w3.org/2000/svg\" height=\"24px\"viewBox=\"0 0 24 24\"\n",
              "       width=\"24px\">\n",
              "    <path d=\"M0 0h24v24H0V0z\" fill=\"none\"/>\n",
              "    <path d=\"M18.56 5.44l.94 2.06.94-2.06 2.06-.94-2.06-.94-.94-2.06-.94 2.06-2.06.94zm-11 1L8.5 8.5l.94-2.06 2.06-.94-2.06-.94L8.5 2.5l-.94 2.06-2.06.94zm10 10l.94 2.06.94-2.06 2.06-.94-2.06-.94-.94-2.06-.94 2.06-2.06.94z\"/><path d=\"M17.41 7.96l-1.37-1.37c-.4-.4-.92-.59-1.43-.59-.52 0-1.04.2-1.43.59L10.3 9.45l-7.72 7.72c-.78.78-.78 2.05 0 2.83L4 21.41c.39.39.9.59 1.41.59.51 0 1.02-.2 1.41-.59l7.78-7.78 2.81-2.81c.8-.78.8-2.07 0-2.86zM5.41 20L4 18.59l7.72-7.72 1.47 1.35L5.41 20z\"/>\n",
              "  </svg>\n",
              "      </button>\n",
              "      \n",
              "  <style>\n",
              "    .colab-df-container {\n",
              "      display:flex;\n",
              "      flex-wrap:wrap;\n",
              "      gap: 12px;\n",
              "    }\n",
              "\n",
              "    .colab-df-convert {\n",
              "      background-color: #E8F0FE;\n",
              "      border: none;\n",
              "      border-radius: 50%;\n",
              "      cursor: pointer;\n",
              "      display: none;\n",
              "      fill: #1967D2;\n",
              "      height: 32px;\n",
              "      padding: 0 0 0 0;\n",
              "      width: 32px;\n",
              "    }\n",
              "\n",
              "    .colab-df-convert:hover {\n",
              "      background-color: #E2EBFA;\n",
              "      box-shadow: 0px 1px 2px rgba(60, 64, 67, 0.3), 0px 1px 3px 1px rgba(60, 64, 67, 0.15);\n",
              "      fill: #174EA6;\n",
              "    }\n",
              "\n",
              "    [theme=dark] .colab-df-convert {\n",
              "      background-color: #3B4455;\n",
              "      fill: #D2E3FC;\n",
              "    }\n",
              "\n",
              "    [theme=dark] .colab-df-convert:hover {\n",
              "      background-color: #434B5C;\n",
              "      box-shadow: 0px 1px 3px 1px rgba(0, 0, 0, 0.15);\n",
              "      filter: drop-shadow(0px 1px 2px rgba(0, 0, 0, 0.3));\n",
              "      fill: #FFFFFF;\n",
              "    }\n",
              "  </style>\n",
              "\n",
              "      <script>\n",
              "        const buttonEl =\n",
              "          document.querySelector('#df-f1d949e2-bf35-470a-ad99-a8f47a730b0e button.colab-df-convert');\n",
              "        buttonEl.style.display =\n",
              "          google.colab.kernel.accessAllowed ? 'block' : 'none';\n",
              "\n",
              "        async function convertToInteractive(key) {\n",
              "          const element = document.querySelector('#df-f1d949e2-bf35-470a-ad99-a8f47a730b0e');\n",
              "          const dataTable =\n",
              "            await google.colab.kernel.invokeFunction('convertToInteractive',\n",
              "                                                     [key], {});\n",
              "          if (!dataTable) return;\n",
              "\n",
              "          const docLinkHtml = 'Like what you see? Visit the ' +\n",
              "            '<a target=\"_blank\" href=https://colab.research.google.com/notebooks/data_table.ipynb>data table notebook</a>'\n",
              "            + ' to learn more about interactive tables.';\n",
              "          element.innerHTML = '';\n",
              "          dataTable['output_type'] = 'display_data';\n",
              "          await google.colab.output.renderOutput(dataTable, element);\n",
              "          const docLink = document.createElement('div');\n",
              "          docLink.innerHTML = docLinkHtml;\n",
              "          element.appendChild(docLink);\n",
              "        }\n",
              "      </script>\n",
              "    </div>\n",
              "  </div>\n",
              "  "
            ]
          },
          "metadata": {},
          "execution_count": 26
        }
      ]
    },
    {
      "cell_type": "code",
      "source": [
        "plt.figure(figsize=(10,6))\n",
        "fig =sns.barplot(x=dfage[\"box_age\"],y=dfage[\"count_num\"],hue=dfage[\"HeartDisease\"],palette=sns.color_palette(\"pastel\"),edgecolor=sns.color_palette(\"dark\", 3))\n",
        "sns.despine()"
      ],
      "metadata": {
        "id": "Alr1Cf5d58N-",
        "colab": {
          "base_uri": "https://localhost:8080/",
          "height": 392
        },
        "outputId": "3733dd20-81c0-4257-f974-4812c99ef043"
      },
      "execution_count": null,
      "outputs": [
        {
          "output_type": "display_data",
          "data": {
            "text/plain": [
              "<Figure size 720x432 with 1 Axes>"
            ],
            "image/png": "[encoded data removed]"
          },
          "metadata": {
            "needs_background": "light"
          }
        }
      ]
    },
    {
      "cell_type": "markdown",
      "source": [
        "Age의 구간별 HeartDisease 발병유무 데이터수를 확인할 수 있었다.\n",
        "\n",
        "Age는 대부분의 데이터가 30 이상이었으며 HeartDisease가 발병한 데이터의 대부분은 Age가 45 이상이었다\n",
        "\n"
      ],
      "metadata": {
        "id": "VAUBu6OSJ_3M"
      }
    },
    {
      "cell_type": "code",
      "source": [
        "df[\"ChestPainType\"].value_counts()"
      ],
      "metadata": {
        "colab": {
          "base_uri": "https://localhost:8080/"
        },
        "id": "PZkhn0sMIvuq",
        "outputId": "54cbb4fe-ca83-4559-c78f-9320b215e99c"
      },
      "execution_count": null,
      "outputs": [
        {
          "output_type": "execute_result",
          "data": {
            "text/plain": [
              "ASY    496\n",
              "NAP    203\n",
              "ATA    173\n",
              "TA      46\n",
              "Name: ChestPainType, dtype: int64"
            ]
          },
          "metadata": {},
          "execution_count": 28
        }
      ]
    },
    {
      "cell_type": "code",
      "source": [
        "dfchest = df.assign(chest=1).loc[:,[\"ChestPainType\",\"HeartDisease\",\"chest\"]].groupby([\"ChestPainType\",\"HeartDisease\"]).agg(count_num=(\"chest\",\"sum\")).reset_index()\n",
        "dfchest"
      ],
      "metadata": {
        "colab": {
          "base_uri": "https://localhost:8080/",
          "height": 300
        },
        "id": "B8FnXa-uIvuq",
        "outputId": "c8471263-a8d4-4014-e7cb-f23f87ed4c64"
      },
      "execution_count": null,
      "outputs": [
        {
          "output_type": "execute_result",
          "data": {
            "text/plain": [
              "  ChestPainType  HeartDisease  count_num\n",
              "0           ASY             0        104\n",
              "1           ASY             1        392\n",
              "2           ATA             0        149\n",
              "3           ATA             1         24\n",
              "4           NAP             0        131\n",
              "5           NAP             1         72\n",
              "6            TA             0         26\n",
              "7            TA             1         20"
            ],
            "text/html": [
              "\n",
              "  <div id=\"df-346159f3-7dde-41a8-89aa-8d78d7d5a68e\">\n",
              "    <div class=\"colab-df-container\">\n",
              "      <div>\n",
              "<style scoped>\n",
              "    .dataframe tbody tr th:only-of-type {\n",
              "        vertical-align: middle;\n",
              "    }\n",
              "\n",
              "    .dataframe tbody tr th {\n",
              "        vertical-align: top;\n",
              "    }\n",
              "\n",
              "    .dataframe thead th {\n",
              "        text-align: right;\n",
              "    }\n",
              "</style>\n",
              "<table border=\"1\" class=\"dataframe\">\n",
              "  <thead>\n",
              "    <tr style=\"text-align: right;\">\n",
              "      <th></th>\n",
              "      <th>ChestPainType</th>\n",
              "      <th>HeartDisease</th>\n",
              "      <th>count_num</th>\n",
              "    </tr>\n",
              "  </thead>\n",
              "  <tbody>\n",
              "    <tr>\n",
              "      <th>0</th>\n",
              "      <td>ASY</td>\n",
              "      <td>0</td>\n",
              "      <td>104</td>\n",
              "    </tr>\n",
              "    <tr>\n",
              "      <th>1</th>\n",
              "      <td>ASY</td>\n",
              "      <td>1</td>\n",
              "      <td>392</td>\n",
              "    </tr>\n",
              "    <tr>\n",
              "      <th>2</th>\n",
              "      <td>ATA</td>\n",
              "      <td>0</td>\n",
              "      <td>149</td>\n",
              "    </tr>\n",
              "    <tr>\n",
              "      <th>3</th>\n",
              "      <td>ATA</td>\n",
              "      <td>1</td>\n",
              "      <td>24</td>\n",
              "    </tr>\n",
              "    <tr>\n",
              "      <th>4</th>\n",
              "      <td>NAP</td>\n",
              "      <td>0</td>\n",
              "      <td>131</td>\n",
              "    </tr>\n",
              "    <tr>\n",
              "      <th>5</th>\n",
              "      <td>NAP</td>\n",
              "      <td>1</td>\n",
              "      <td>72</td>\n",
              "    </tr>\n",
              "    <tr>\n",
              "      <th>6</th>\n",
              "      <td>TA</td>\n",
              "      <td>0</td>\n",
              "      <td>26</td>\n",
              "    </tr>\n",
              "    <tr>\n",
              "      <th>7</th>\n",
              "      <td>TA</td>\n",
              "      <td>1</td>\n",
              "      <td>20</td>\n",
              "    </tr>\n",
              "  </tbody>\n",
              "</table>\n",
              "</div>\n",
              "      <button class=\"colab-df-convert\" onclick=\"convertToInteractive('df-346159f3-7dde-41a8-89aa-8d78d7d5a68e')\"\n",
              "              title=\"Convert this dataframe to an interactive table.\"\n",
              "              style=\"display:none;\">\n",
              "        \n",
              "  <svg xmlns=\"http://www.w3.org/2000/svg\" height=\"24px\"viewBox=\"0 0 24 24\"\n",
              "       width=\"24px\">\n",
              "    <path d=\"M0 0h24v24H0V0z\" fill=\"none\"/>\n",
              "    <path d=\"M18.56 5.44l.94 2.06.94-2.06 2.06-.94-2.06-.94-.94-2.06-.94 2.06-2.06.94zm-11 1L8.5 8.5l.94-2.06 2.06-.94-2.06-.94L8.5 2.5l-.94 2.06-2.06.94zm10 10l.94 2.06.94-2.06 2.06-.94-2.06-.94-.94-2.06-.94 2.06-2.06.94z\"/><path d=\"M17.41 7.96l-1.37-1.37c-.4-.4-.92-.59-1.43-.59-.52 0-1.04.2-1.43.59L10.3 9.45l-7.72 7.72c-.78.78-.78 2.05 0 2.83L4 21.41c.39.39.9.59 1.41.59.51 0 1.02-.2 1.41-.59l7.78-7.78 2.81-2.81c.8-.78.8-2.07 0-2.86zM5.41 20L4 18.59l7.72-7.72 1.47 1.35L5.41 20z\"/>\n",
              "  </svg>\n",
              "      </button>\n",
              "      \n",
              "  <style>\n",
              "    .colab-df-container {\n",
              "      display:flex;\n",
              "      flex-wrap:wrap;\n",
              "      gap: 12px;\n",
              "    }\n",
              "\n",
              "    .colab-df-convert {\n",
              "      background-color: #E8F0FE;\n",
              "      border: none;\n",
              "      border-radius: 50%;\n",
              "      cursor: pointer;\n",
              "      display: none;\n",
              "      fill: #1967D2;\n",
              "      height: 32px;\n",
              "      padding: 0 0 0 0;\n",
              "      width: 32px;\n",
              "    }\n",
              "\n",
              "    .colab-df-convert:hover {\n",
              "      background-color: #E2EBFA;\n",
              "      box-shadow: 0px 1px 2px rgba(60, 64, 67, 0.3), 0px 1px 3px 1px rgba(60, 64, 67, 0.15);\n",
              "      fill: #174EA6;\n",
              "    }\n",
              "\n",
              "    [theme=dark] .colab-df-convert {\n",
              "      background-color: #3B4455;\n",
              "      fill: #D2E3FC;\n",
              "    }\n",
              "\n",
              "    [theme=dark] .colab-df-convert:hover {\n",
              "      background-color: #434B5C;\n",
              "      box-shadow: 0px 1px 3px 1px rgba(0, 0, 0, 0.15);\n",
              "      filter: drop-shadow(0px 1px 2px rgba(0, 0, 0, 0.3));\n",
              "      fill: #FFFFFF;\n",
              "    }\n",
              "  </style>\n",
              "\n",
              "      <script>\n",
              "        const buttonEl =\n",
              "          document.querySelector('#df-346159f3-7dde-41a8-89aa-8d78d7d5a68e button.colab-df-convert');\n",
              "        buttonEl.style.display =\n",
              "          google.colab.kernel.accessAllowed ? 'block' : 'none';\n",
              "\n",
              "        async function convertToInteractive(key) {\n",
              "          const element = document.querySelector('#df-346159f3-7dde-41a8-89aa-8d78d7d5a68e');\n",
              "          const dataTable =\n",
              "            await google.colab.kernel.invokeFunction('convertToInteractive',\n",
              "                                                     [key], {});\n",
              "          if (!dataTable) return;\n",
              "\n",
              "          const docLinkHtml = 'Like what you see? Visit the ' +\n",
              "            '<a target=\"_blank\" href=https://colab.research.google.com/notebooks/data_table.ipynb>data table notebook</a>'\n",
              "            + ' to learn more about interactive tables.';\n",
              "          element.innerHTML = '';\n",
              "          dataTable['output_type'] = 'display_data';\n",
              "          await google.colab.output.renderOutput(dataTable, element);\n",
              "          const docLink = document.createElement('div');\n",
              "          docLink.innerHTML = docLinkHtml;\n",
              "          element.appendChild(docLink);\n",
              "        }\n",
              "      </script>\n",
              "    </div>\n",
              "  </div>\n",
              "  "
            ]
          },
          "metadata": {},
          "execution_count": 29
        }
      ]
    },
    {
      "cell_type": "code",
      "source": [
        "plt.figure(figsize=(10,6))\n",
        "fig =sns.barplot(x=dfchest[\"ChestPainType\"],y=dfchest[\"count_num\"],hue=dfchest[\"HeartDisease\"],palette=sns.color_palette(\"pastel\"),edgecolor=sns.color_palette(\"dark\", 3))\n",
        "sns.despine()"
      ],
      "metadata": {
        "colab": {
          "base_uri": "https://localhost:8080/",
          "height": 388
        },
        "id": "bjdGGnLQIvuq",
        "outputId": "507eb512-7c9d-456a-ae99-4347dc9286dc"
      },
      "execution_count": null,
      "outputs": [
        {
          "output_type": "display_data",
          "data": {
            "text/plain": [
              "<Figure size 720x432 with 1 Axes>"
            ],
            "image/png": "[encoded data removed]"
          },
          "metadata": {
            "needs_background": "light"
          }
        }
      ]
    },
    {
      "cell_type": "markdown",
      "metadata": {
        "id": "XCPQpF0XJ7KO"
      },
      "source": [
        "ChestPainType의 유형별 HeartDisease 발병유무 데이터수를 확인할 수 있었다.\n",
        "\n",
        "ASY일 경우 HeartDisease가 발생할 확률이 훨씬 높았으며\n",
        "\n",
        "ATA일 경우 HeartDisear가 발생할 확률이 훨씬 낮았다."
      ]
    },
    {
      "cell_type": "code",
      "execution_count": null,
      "metadata": {
        "colab": {
          "base_uri": "https://localhost:8080/",
          "height": 406
        },
        "id": "KyDhzmkAJ7KP",
        "outputId": "3003dc3c-8117-4a90-f194-94fe44fe9ce5"
      },
      "outputs": [
        {
          "output_type": "execute_result",
          "data": {
            "text/plain": [
              "<matplotlib.axes._subplots.AxesSubplot at 0x7f9950ef8710>"
            ]
          },
          "metadata": {},
          "execution_count": 31
        },
        {
          "output_type": "display_data",
          "data": {
            "text/plain": [
              "<Figure size 720x432 with 1 Axes>"
            ],
            "image/png": "[encoded data removed]"
          },
          "metadata": {
            "needs_background": "light"
          }
        }
      ],
      "source": [
        "plt.figure(figsize=(10,6))\n",
        "sns.histplot(data=df,x=\"RestingBP\",kde=True,hue=\"HeartDisease\",color=\"r\")\n",
        "#회색 의미가 ??#"
      ]
    },
    {
      "cell_type": "code",
      "execution_count": null,
      "metadata": {
        "colab": {
          "base_uri": "https://localhost:8080/",
          "height": 388
        },
        "id": "_ckEjfNdJ7KQ",
        "outputId": "7554d63e-e4c9-4536-ca01-33fa1ba29f61"
      },
      "outputs": [
        {
          "output_type": "display_data",
          "data": {
            "text/plain": [
              "<Figure size 720x432 with 1 Axes>"
            ],
            "image/png": "[encoded data removed]"
          },
          "metadata": {
            "needs_background": "light"
          }
        }
      ],
      "source": [
        "plt.figure(figsize=(10,6))\n",
        "sns.histplot(data=df,x=\"Cholesterol\",kde=True,hue=\"HeartDisease\")\n",
        "sns.despine()"
      ]
    },
    {
      "cell_type": "markdown",
      "metadata": {
        "id": "SNR7DiMUiCyb"
      },
      "source": [
        "6개의 Categorical 변수들 중 Plot을 통해 HeartDisease와 관계가 있을 것으로 예상되는 변수들은\n",
        "\n",
        "'Sex','ChestPainType','FastingBS','ExerciseAngina','ST_Slope'이다\n",
        "\n",
        "RestingECG가의 경우 세 가지 유형모두 발병비율과 발병하지 않을 비율이 비슷하게 나타남으로 고려하지 않았다 \n",
        "\n",
        "(결과가 궁금하여 따로 분석을 진행해보았지만 RestingECG의 경우 P-value가 0.05 이상으로로 유의미 하지 않았다)"
      ]
    },
    {
      "cell_type": "markdown",
      "metadata": {
        "id": "MoflzLbVjQdf"
      },
      "source": [
        "따라서 \n",
        "'Cholesterol', 'Oldpeak', 'Sex', 'ChestPainType', 'FastingBS', 'ExerciseAngina', 'ST_Slope' 의 7가지 column을 \n",
        "\n",
        "유의미하다고 보고 분석을 진행한다."
      ]
    },
    {
      "cell_type": "code",
      "execution_count": null,
      "metadata": {
        "id": "QHecWnTaj0sC"
      },
      "outputs": [],
      "source": [
        "df=df[[ 'Cholesterol', 'Oldpeak', 'Sex', 'ChestPainType', 'FastingBS', 'ExerciseAngina', 'ST_Slope','HeartDisease']]"
      ]
    },
    {
      "cell_type": "code",
      "execution_count": null,
      "metadata": {
        "id": "3j9p05ERkLdM"
      },
      "outputs": [],
      "source": [
        "df = pd.get_dummies(df, columns = ['Sex', 'ChestPainType', 'FastingBS', 'ExerciseAngina', 'ST_Slope'], drop_first=True)"
      ]
    },
    {
      "cell_type": "code",
      "execution_count": null,
      "metadata": {
        "id": "uBvo3rXSkeM3",
        "colab": {
          "base_uri": "https://localhost:8080/",
          "height": 488
        },
        "outputId": "6ad11e2c-525e-4d96-97cf-40d7b9389e85"
      },
      "outputs": [
        {
          "output_type": "execute_result",
          "data": {
            "text/plain": [
              "     Cholesterol  Oldpeak  HeartDisease  Sex_M  ChestPainType_ATA  \\\n",
              "0            289      0.0             0      1                  1   \n",
              "1            180      1.0             1      0                  0   \n",
              "2            283      0.0             0      1                  1   \n",
              "3            214      1.5             1      0                  0   \n",
              "4            195      0.0             0      1                  0   \n",
              "..           ...      ...           ...    ...                ...   \n",
              "913          264      1.2             1      1                  0   \n",
              "914          193      3.4             1      1                  0   \n",
              "915          131      1.2             1      1                  0   \n",
              "916          236      0.0             1      0                  1   \n",
              "917          175      0.0             0      1                  0   \n",
              "\n",
              "     ChestPainType_NAP  ChestPainType_TA  FastingBS_Low  ExerciseAngina_Y  \\\n",
              "0                    0                 0              1                 0   \n",
              "1                    1                 0              1                 0   \n",
              "2                    0                 0              1                 0   \n",
              "3                    0                 0              1                 1   \n",
              "4                    1                 0              1                 0   \n",
              "..                 ...               ...            ...               ...   \n",
              "913                  0                 1              1                 0   \n",
              "914                  0                 0              0                 0   \n",
              "915                  0                 0              1                 1   \n",
              "916                  0                 0              1                 0   \n",
              "917                  1                 0              1                 0   \n",
              "\n",
              "     ST_Slope_Flat  ST_Slope_Up  \n",
              "0                0            1  \n",
              "1                1            0  \n",
              "2                0            1  \n",
              "3                1            0  \n",
              "4                0            1  \n",
              "..             ...          ...  \n",
              "913              1            0  \n",
              "914              1            0  \n",
              "915              1            0  \n",
              "916              1            0  \n",
              "917              0            1  \n",
              "\n",
              "[918 rows x 11 columns]"
            ],
            "text/html": [
              "\n",
              "  <div id=\"df-e70ab224-e61a-4b98-96fa-76a34fb1b4b8\">\n",
              "    <div class=\"colab-df-container\">\n",
              "      <div>\n",
              "<style scoped>\n",
              "    .dataframe tbody tr th:only-of-type {\n",
              "        vertical-align: middle;\n",
              "    }\n",
              "\n",
              "    .dataframe tbody tr th {\n",
              "        vertical-align: top;\n",
              "    }\n",
              "\n",
              "    .dataframe thead th {\n",
              "        text-align: right;\n",
              "    }\n",
              "</style>\n",
              "<table border=\"1\" class=\"dataframe\">\n",
              "  <thead>\n",
              "    <tr style=\"text-align: right;\">\n",
              "      <th></th>\n",
              "      <th>Cholesterol</th>\n",
              "      <th>Oldpeak</th>\n",
              "      <th>HeartDisease</th>\n",
              "      <th>Sex_M</th>\n",
              "      <th>ChestPainType_ATA</th>\n",
              "      <th>ChestPainType_NAP</th>\n",
              "      <th>ChestPainType_TA</th>\n",
              "      <th>FastingBS_Low</th>\n",
              "      <th>ExerciseAngina_Y</th>\n",
              "      <th>ST_Slope_Flat</th>\n",
              "      <th>ST_Slope_Up</th>\n",
              "    </tr>\n",
              "  </thead>\n",
              "  <tbody>\n",
              "    <tr>\n",
              "      <th>0</th>\n",
              "      <td>289</td>\n",
              "      <td>0.0</td>\n",
              "      <td>0</td>\n",
              "      <td>1</td>\n",
              "      <td>1</td>\n",
              "      <td>0</td>\n",
              "      <td>0</td>\n",
              "      <td>1</td>\n",
              "      <td>0</td>\n",
              "      <td>0</td>\n",
              "      <td>1</td>\n",
              "    </tr>\n",
              "    <tr>\n",
              "      <th>1</th>\n",
              "      <td>180</td>\n",
              "      <td>1.0</td>\n",
              "      <td>1</td>\n",
              "      <td>0</td>\n",
              "      <td>0</td>\n",
              "      <td>1</td>\n",
              "      <td>0</td>\n",
              "      <td>1</td>\n",
              "      <td>0</td>\n",
              "      <td>1</td>\n",
              "      <td>0</td>\n",
              "    </tr>\n",
              "    <tr>\n",
              "      <th>2</th>\n",
              "      <td>283</td>\n",
              "      <td>0.0</td>\n",
              "      <td>0</td>\n",
              "      <td>1</td>\n",
              "      <td>1</td>\n",
              "      <td>0</td>\n",
              "      <td>0</td>\n",
              "      <td>1</td>\n",
              "      <td>0</td>\n",
              "      <td>0</td>\n",
              "      <td>1</td>\n",
              "    </tr>\n",
              "    <tr>\n",
              "      <th>3</th>\n",
              "      <td>214</td>\n",
              "      <td>1.5</td>\n",
              "      <td>1</td>\n",
              "      <td>0</td>\n",
              "      <td>0</td>\n",
              "      <td>0</td>\n",
              "      <td>0</td>\n",
              "      <td>1</td>\n",
              "      <td>1</td>\n",
              "      <td>1</td>\n",
              "      <td>0</td>\n",
              "    </tr>\n",
              "    <tr>\n",
              "      <th>4</th>\n",
              "      <td>195</td>\n",
              "      <td>0.0</td>\n",
              "      <td>0</td>\n",
              "      <td>1</td>\n",
              "      <td>0</td>\n",
              "      <td>1</td>\n",
              "      <td>0</td>\n",
              "      <td>1</td>\n",
              "      <td>0</td>\n",
              "      <td>0</td>\n",
              "      <td>1</td>\n",
              "    </tr>\n",
              "    <tr>\n",
              "      <th>...</th>\n",
              "      <td>...</td>\n",
              "      <td>...</td>\n",
              "      <td>...</td>\n",
              "      <td>...</td>\n",
              "      <td>...</td>\n",
              "      <td>...</td>\n",
              "      <td>...</td>\n",
              "      <td>...</td>\n",
              "      <td>...</td>\n",
              "      <td>...</td>\n",
              "      <td>...</td>\n",
              "    </tr>\n",
              "    <tr>\n",
              "      <th>913</th>\n",
              "      <td>264</td>\n",
              "      <td>1.2</td>\n",
              "      <td>1</td>\n",
              "      <td>1</td>\n",
              "      <td>0</td>\n",
              "      <td>0</td>\n",
              "      <td>1</td>\n",
              "      <td>1</td>\n",
              "      <td>0</td>\n",
              "      <td>1</td>\n",
              "      <td>0</td>\n",
              "    </tr>\n",
              "    <tr>\n",
              "      <th>914</th>\n",
              "      <td>193</td>\n",
              "      <td>3.4</td>\n",
              "      <td>1</td>\n",
              "      <td>1</td>\n",
              "      <td>0</td>\n",
              "      <td>0</td>\n",
              "      <td>0</td>\n",
              "      <td>0</td>\n",
              "      <td>0</td>\n",
              "      <td>1</td>\n",
              "      <td>0</td>\n",
              "    </tr>\n",
              "    <tr>\n",
              "      <th>915</th>\n",
              "      <td>131</td>\n",
              "      <td>1.2</td>\n",
              "      <td>1</td>\n",
              "      <td>1</td>\n",
              "      <td>0</td>\n",
              "      <td>0</td>\n",
              "      <td>0</td>\n",
              "      <td>1</td>\n",
              "      <td>1</td>\n",
              "      <td>1</td>\n",
              "      <td>0</td>\n",
              "    </tr>\n",
              "    <tr>\n",
              "      <th>916</th>\n",
              "      <td>236</td>\n",
              "      <td>0.0</td>\n",
              "      <td>1</td>\n",
              "      <td>0</td>\n",
              "      <td>1</td>\n",
              "      <td>0</td>\n",
              "      <td>0</td>\n",
              "      <td>1</td>\n",
              "      <td>0</td>\n",
              "      <td>1</td>\n",
              "      <td>0</td>\n",
              "    </tr>\n",
              "    <tr>\n",
              "      <th>917</th>\n",
              "      <td>175</td>\n",
              "      <td>0.0</td>\n",
              "      <td>0</td>\n",
              "      <td>1</td>\n",
              "      <td>0</td>\n",
              "      <td>1</td>\n",
              "      <td>0</td>\n",
              "      <td>1</td>\n",
              "      <td>0</td>\n",
              "      <td>0</td>\n",
              "      <td>1</td>\n",
              "    </tr>\n",
              "  </tbody>\n",
              "</table>\n",
              "<p>918 rows × 11 columns</p>\n",
              "</div>\n",
              "      <button class=\"colab-df-convert\" onclick=\"convertToInteractive('df-e70ab224-e61a-4b98-96fa-76a34fb1b4b8')\"\n",
              "              title=\"Convert this dataframe to an interactive table.\"\n",
              "              style=\"display:none;\">\n",
              "        \n",
              "  <svg xmlns=\"http://www.w3.org/2000/svg\" height=\"24px\"viewBox=\"0 0 24 24\"\n",
              "       width=\"24px\">\n",
              "    <path d=\"M0 0h24v24H0V0z\" fill=\"none\"/>\n",
              "    <path d=\"M18.56 5.44l.94 2.06.94-2.06 2.06-.94-2.06-.94-.94-2.06-.94 2.06-2.06.94zm-11 1L8.5 8.5l.94-2.06 2.06-.94-2.06-.94L8.5 2.5l-.94 2.06-2.06.94zm10 10l.94 2.06.94-2.06 2.06-.94-2.06-.94-.94-2.06-.94 2.06-2.06.94z\"/><path d=\"M17.41 7.96l-1.37-1.37c-.4-.4-.92-.59-1.43-.59-.52 0-1.04.2-1.43.59L10.3 9.45l-7.72 7.72c-.78.78-.78 2.05 0 2.83L4 21.41c.39.39.9.59 1.41.59.51 0 1.02-.2 1.41-.59l7.78-7.78 2.81-2.81c.8-.78.8-2.07 0-2.86zM5.41 20L4 18.59l7.72-7.72 1.47 1.35L5.41 20z\"/>\n",
              "  </svg>\n",
              "      </button>\n",
              "      \n",
              "  <style>\n",
              "    .colab-df-container {\n",
              "      display:flex;\n",
              "      flex-wrap:wrap;\n",
              "      gap: 12px;\n",
              "    }\n",
              "\n",
              "    .colab-df-convert {\n",
              "      background-color: #E8F0FE;\n",
              "      border: none;\n",
              "      border-radius: 50%;\n",
              "      cursor: pointer;\n",
              "      display: none;\n",
              "      fill: #1967D2;\n",
              "      height: 32px;\n",
              "      padding: 0 0 0 0;\n",
              "      width: 32px;\n",
              "    }\n",
              "\n",
              "    .colab-df-convert:hover {\n",
              "      background-color: #E2EBFA;\n",
              "      box-shadow: 0px 1px 2px rgba(60, 64, 67, 0.3), 0px 1px 3px 1px rgba(60, 64, 67, 0.15);\n",
              "      fill: #174EA6;\n",
              "    }\n",
              "\n",
              "    [theme=dark] .colab-df-convert {\n",
              "      background-color: #3B4455;\n",
              "      fill: #D2E3FC;\n",
              "    }\n",
              "\n",
              "    [theme=dark] .colab-df-convert:hover {\n",
              "      background-color: #434B5C;\n",
              "      box-shadow: 0px 1px 3px 1px rgba(0, 0, 0, 0.15);\n",
              "      filter: drop-shadow(0px 1px 2px rgba(0, 0, 0, 0.3));\n",
              "      fill: #FFFFFF;\n",
              "    }\n",
              "  </style>\n",
              "\n",
              "      <script>\n",
              "        const buttonEl =\n",
              "          document.querySelector('#df-e70ab224-e61a-4b98-96fa-76a34fb1b4b8 button.colab-df-convert');\n",
              "        buttonEl.style.display =\n",
              "          google.colab.kernel.accessAllowed ? 'block' : 'none';\n",
              "\n",
              "        async function convertToInteractive(key) {\n",
              "          const element = document.querySelector('#df-e70ab224-e61a-4b98-96fa-76a34fb1b4b8');\n",
              "          const dataTable =\n",
              "            await google.colab.kernel.invokeFunction('convertToInteractive',\n",
              "                                                     [key], {});\n",
              "          if (!dataTable) return;\n",
              "\n",
              "          const docLinkHtml = 'Like what you see? Visit the ' +\n",
              "            '<a target=\"_blank\" href=https://colab.research.google.com/notebooks/data_table.ipynb>data table notebook</a>'\n",
              "            + ' to learn more about interactive tables.';\n",
              "          element.innerHTML = '';\n",
              "          dataTable['output_type'] = 'display_data';\n",
              "          await google.colab.output.renderOutput(dataTable, element);\n",
              "          const docLink = document.createElement('div');\n",
              "          docLink.innerHTML = docLinkHtml;\n",
              "          element.appendChild(docLink);\n",
              "        }\n",
              "      </script>\n",
              "    </div>\n",
              "  </div>\n",
              "  "
            ]
          },
          "metadata": {},
          "execution_count": 35
        }
      ],
      "source": [
        "df"
      ]
    },
    {
      "cell_type": "markdown",
      "metadata": {
        "id": "xx-EMVidkyIN"
      },
      "source": [
        "Sex- Female = True\n",
        "\n",
        "ChestPainType - ASY= True\n",
        "\n",
        "FastingBS -High = True\n",
        "\n",
        "ExerciseAngina- N = True\n",
        "\n",
        "ST_Slope- Down= True \n",
        "\n",
        "(두 변수간 Correlation=1이 되는 것을 방지)"
      ]
    },
    {
      "cell_type": "markdown",
      "source": [
        "변수들을 증가시켰으므로 다중공선성 문제가 발생했는지 확인한다."
      ],
      "metadata": {
        "id": "6ZrM0UtFK1eI"
      }
    },
    {
      "cell_type": "code",
      "source": [
        "df_copy=df.copy()"
      ],
      "metadata": {
        "id": "Eq385zXXHc8I"
      },
      "execution_count": null,
      "outputs": []
    },
    {
      "cell_type": "code",
      "source": [
        "df_copy.drop(['HeartDisease'], axis = 1, inplace = True)\n",
        "df_copy"
      ],
      "metadata": {
        "colab": {
          "base_uri": "https://localhost:8080/",
          "height": 423
        },
        "id": "K6nHkbZdHz_n",
        "outputId": "cf03af47-ed20-44e8-9086-5b7a76087cdd"
      },
      "execution_count": null,
      "outputs": [
        {
          "output_type": "execute_result",
          "data": {
            "text/plain": [
              "     Cholesterol  Oldpeak  Sex_M  ChestPainType_ATA  ChestPainType_NAP  \\\n",
              "0            289      0.0      1                  1                  0   \n",
              "1            180      1.0      0                  0                  1   \n",
              "2            283      0.0      1                  1                  0   \n",
              "3            214      1.5      0                  0                  0   \n",
              "4            195      0.0      1                  0                  1   \n",
              "..           ...      ...    ...                ...                ...   \n",
              "913          264      1.2      1                  0                  0   \n",
              "914          193      3.4      1                  0                  0   \n",
              "915          131      1.2      1                  0                  0   \n",
              "916          236      0.0      0                  1                  0   \n",
              "917          175      0.0      1                  0                  1   \n",
              "\n",
              "     ChestPainType_TA  FastingBS_Low  ExerciseAngina_Y  ST_Slope_Flat  \\\n",
              "0                   0              1                 0              0   \n",
              "1                   0              1                 0              1   \n",
              "2                   0              1                 0              0   \n",
              "3                   0              1                 1              1   \n",
              "4                   0              1                 0              0   \n",
              "..                ...            ...               ...            ...   \n",
              "913                 1              1                 0              1   \n",
              "914                 0              0                 0              1   \n",
              "915                 0              1                 1              1   \n",
              "916                 0              1                 0              1   \n",
              "917                 0              1                 0              0   \n",
              "\n",
              "     ST_Slope_Up  \n",
              "0              1  \n",
              "1              0  \n",
              "2              1  \n",
              "3              0  \n",
              "4              1  \n",
              "..           ...  \n",
              "913            0  \n",
              "914            0  \n",
              "915            0  \n",
              "916            0  \n",
              "917            1  \n",
              "\n",
              "[918 rows x 10 columns]"
            ],
            "text/html": [
              "\n",
              "  <div id=\"df-b32ac129-6eb3-4686-a89f-823bb2fed000\">\n",
              "    <div class=\"colab-df-container\">\n",
              "      <div>\n",
              "<style scoped>\n",
              "    .dataframe tbody tr th:only-of-type {\n",
              "        vertical-align: middle;\n",
              "    }\n",
              "\n",
              "    .dataframe tbody tr th {\n",
              "        vertical-align: top;\n",
              "    }\n",
              "\n",
              "    .dataframe thead th {\n",
              "        text-align: right;\n",
              "    }\n",
              "</style>\n",
              "<table border=\"1\" class=\"dataframe\">\n",
              "  <thead>\n",
              "    <tr style=\"text-align: right;\">\n",
              "      <th></th>\n",
              "      <th>Cholesterol</th>\n",
              "      <th>Oldpeak</th>\n",
              "      <th>Sex_M</th>\n",
              "      <th>ChestPainType_ATA</th>\n",
              "      <th>ChestPainType_NAP</th>\n",
              "      <th>ChestPainType_TA</th>\n",
              "      <th>FastingBS_Low</th>\n",
              "      <th>ExerciseAngina_Y</th>\n",
              "      <th>ST_Slope_Flat</th>\n",
              "      <th>ST_Slope_Up</th>\n",
              "    </tr>\n",
              "  </thead>\n",
              "  <tbody>\n",
              "    <tr>\n",
              "      <th>0</th>\n",
              "      <td>289</td>\n",
              "      <td>0.0</td>\n",
              "      <td>1</td>\n",
              "      <td>1</td>\n",
              "      <td>0</td>\n",
              "      <td>0</td>\n",
              "      <td>1</td>\n",
              "      <td>0</td>\n",
              "      <td>0</td>\n",
              "      <td>1</td>\n",
              "    </tr>\n",
              "    <tr>\n",
              "      <th>1</th>\n",
              "      <td>180</td>\n",
              "      <td>1.0</td>\n",
              "      <td>0</td>\n",
              "      <td>0</td>\n",
              "      <td>1</td>\n",
              "      <td>0</td>\n",
              "      <td>1</td>\n",
              "      <td>0</td>\n",
              "      <td>1</td>\n",
              "      <td>0</td>\n",
              "    </tr>\n",
              "    <tr>\n",
              "      <th>2</th>\n",
              "      <td>283</td>\n",
              "      <td>0.0</td>\n",
              "      <td>1</td>\n",
              "      <td>1</td>\n",
              "      <td>0</td>\n",
              "      <td>0</td>\n",
              "      <td>1</td>\n",
              "      <td>0</td>\n",
              "      <td>0</td>\n",
              "      <td>1</td>\n",
              "    </tr>\n",
              "    <tr>\n",
              "      <th>3</th>\n",
              "      <td>214</td>\n",
              "      <td>1.5</td>\n",
              "      <td>0</td>\n",
              "      <td>0</td>\n",
              "      <td>0</td>\n",
              "      <td>0</td>\n",
              "      <td>1</td>\n",
              "      <td>1</td>\n",
              "      <td>1</td>\n",
              "      <td>0</td>\n",
              "    </tr>\n",
              "    <tr>\n",
              "      <th>4</th>\n",
              "      <td>195</td>\n",
              "      <td>0.0</td>\n",
              "      <td>1</td>\n",
              "      <td>0</td>\n",
              "      <td>1</td>\n",
              "      <td>0</td>\n",
              "      <td>1</td>\n",
              "      <td>0</td>\n",
              "      <td>0</td>\n",
              "      <td>1</td>\n",
              "    </tr>\n",
              "    <tr>\n",
              "      <th>...</th>\n",
              "      <td>...</td>\n",
              "      <td>...</td>\n",
              "      <td>...</td>\n",
              "      <td>...</td>\n",
              "      <td>...</td>\n",
              "      <td>...</td>\n",
              "      <td>...</td>\n",
              "      <td>...</td>\n",
              "      <td>...</td>\n",
              "      <td>...</td>\n",
              "    </tr>\n",
              "    <tr>\n",
              "      <th>913</th>\n",
              "      <td>264</td>\n",
              "      <td>1.2</td>\n",
              "      <td>1</td>\n",
              "      <td>0</td>\n",
              "      <td>0</td>\n",
              "      <td>1</td>\n",
              "      <td>1</td>\n",
              "      <td>0</td>\n",
              "      <td>1</td>\n",
              "      <td>0</td>\n",
              "    </tr>\n",
              "    <tr>\n",
              "      <th>914</th>\n",
              "      <td>193</td>\n",
              "      <td>3.4</td>\n",
              "      <td>1</td>\n",
              "      <td>0</td>\n",
              "      <td>0</td>\n",
              "      <td>0</td>\n",
              "      <td>0</td>\n",
              "      <td>0</td>\n",
              "      <td>1</td>\n",
              "      <td>0</td>\n",
              "    </tr>\n",
              "    <tr>\n",
              "      <th>915</th>\n",
              "      <td>131</td>\n",
              "      <td>1.2</td>\n",
              "      <td>1</td>\n",
              "      <td>0</td>\n",
              "      <td>0</td>\n",
              "      <td>0</td>\n",
              "      <td>1</td>\n",
              "      <td>1</td>\n",
              "      <td>1</td>\n",
              "      <td>0</td>\n",
              "    </tr>\n",
              "    <tr>\n",
              "      <th>916</th>\n",
              "      <td>236</td>\n",
              "      <td>0.0</td>\n",
              "      <td>0</td>\n",
              "      <td>1</td>\n",
              "      <td>0</td>\n",
              "      <td>0</td>\n",
              "      <td>1</td>\n",
              "      <td>0</td>\n",
              "      <td>1</td>\n",
              "      <td>0</td>\n",
              "    </tr>\n",
              "    <tr>\n",
              "      <th>917</th>\n",
              "      <td>175</td>\n",
              "      <td>0.0</td>\n",
              "      <td>1</td>\n",
              "      <td>0</td>\n",
              "      <td>1</td>\n",
              "      <td>0</td>\n",
              "      <td>1</td>\n",
              "      <td>0</td>\n",
              "      <td>0</td>\n",
              "      <td>1</td>\n",
              "    </tr>\n",
              "  </tbody>\n",
              "</table>\n",
              "<p>918 rows × 10 columns</p>\n",
              "</div>\n",
              "      <button class=\"colab-df-convert\" onclick=\"convertToInteractive('df-b32ac129-6eb3-4686-a89f-823bb2fed000')\"\n",
              "              title=\"Convert this dataframe to an interactive table.\"\n",
              "              style=\"display:none;\">\n",
              "        \n",
              "  <svg xmlns=\"http://www.w3.org/2000/svg\" height=\"24px\"viewBox=\"0 0 24 24\"\n",
              "       width=\"24px\">\n",
              "    <path d=\"M0 0h24v24H0V0z\" fill=\"none\"/>\n",
              "    <path d=\"M18.56 5.44l.94 2.06.94-2.06 2.06-.94-2.06-.94-.94-2.06-.94 2.06-2.06.94zm-11 1L8.5 8.5l.94-2.06 2.06-.94-2.06-.94L8.5 2.5l-.94 2.06-2.06.94zm10 10l.94 2.06.94-2.06 2.06-.94-2.06-.94-.94-2.06-.94 2.06-2.06.94z\"/><path d=\"M17.41 7.96l-1.37-1.37c-.4-.4-.92-.59-1.43-.59-.52 0-1.04.2-1.43.59L10.3 9.45l-7.72 7.72c-.78.78-.78 2.05 0 2.83L4 21.41c.39.39.9.59 1.41.59.51 0 1.02-.2 1.41-.59l7.78-7.78 2.81-2.81c.8-.78.8-2.07 0-2.86zM5.41 20L4 18.59l7.72-7.72 1.47 1.35L5.41 20z\"/>\n",
              "  </svg>\n",
              "      </button>\n",
              "      \n",
              "  <style>\n",
              "    .colab-df-container {\n",
              "      display:flex;\n",
              "      flex-wrap:wrap;\n",
              "      gap: 12px;\n",
              "    }\n",
              "\n",
              "    .colab-df-convert {\n",
              "      background-color: #E8F0FE;\n",
              "      border: none;\n",
              "      border-radius: 50%;\n",
              "      cursor: pointer;\n",
              "      display: none;\n",
              "      fill: #1967D2;\n",
              "      height: 32px;\n",
              "      padding: 0 0 0 0;\n",
              "      width: 32px;\n",
              "    }\n",
              "\n",
              "    .colab-df-convert:hover {\n",
              "      background-color: #E2EBFA;\n",
              "      box-shadow: 0px 1px 2px rgba(60, 64, 67, 0.3), 0px 1px 3px 1px rgba(60, 64, 67, 0.15);\n",
              "      fill: #174EA6;\n",
              "    }\n",
              "\n",
              "    [theme=dark] .colab-df-convert {\n",
              "      background-color: #3B4455;\n",
              "      fill: #D2E3FC;\n",
              "    }\n",
              "\n",
              "    [theme=dark] .colab-df-convert:hover {\n",
              "      background-color: #434B5C;\n",
              "      box-shadow: 0px 1px 3px 1px rgba(0, 0, 0, 0.15);\n",
              "      filter: drop-shadow(0px 1px 2px rgba(0, 0, 0, 0.3));\n",
              "      fill: #FFFFFF;\n",
              "    }\n",
              "  </style>\n",
              "\n",
              "      <script>\n",
              "        const buttonEl =\n",
              "          document.querySelector('#df-b32ac129-6eb3-4686-a89f-823bb2fed000 button.colab-df-convert');\n",
              "        buttonEl.style.display =\n",
              "          google.colab.kernel.accessAllowed ? 'block' : 'none';\n",
              "\n",
              "        async function convertToInteractive(key) {\n",
              "          const element = document.querySelector('#df-b32ac129-6eb3-4686-a89f-823bb2fed000');\n",
              "          const dataTable =\n",
              "            await google.colab.kernel.invokeFunction('convertToInteractive',\n",
              "                                                     [key], {});\n",
              "          if (!dataTable) return;\n",
              "\n",
              "          const docLinkHtml = 'Like what you see? Visit the ' +\n",
              "            '<a target=\"_blank\" href=https://colab.research.google.com/notebooks/data_table.ipynb>data table notebook</a>'\n",
              "            + ' to learn more about interactive tables.';\n",
              "          element.innerHTML = '';\n",
              "          dataTable['output_type'] = 'display_data';\n",
              "          await google.colab.output.renderOutput(dataTable, element);\n",
              "          const docLink = document.createElement('div');\n",
              "          docLink.innerHTML = docLinkHtml;\n",
              "          element.appendChild(docLink);\n",
              "        }\n",
              "      </script>\n",
              "    </div>\n",
              "  </div>\n",
              "  "
            ]
          },
          "metadata": {},
          "execution_count": 37
        }
      ]
    },
    {
      "cell_type": "code",
      "execution_count": null,
      "metadata": {
        "id": "ms1ZHpZPlxmc",
        "colab": {
          "base_uri": "https://localhost:8080/",
          "height": 419
        },
        "outputId": "0d2aa95b-8c0a-4297-9479-b905211eef5f"
      },
      "outputs": [
        {
          "output_type": "stream",
          "name": "stderr",
          "text": [
            "/usr/local/lib/python3.7/dist-packages/statsmodels/tools/_testing.py:19: FutureWarning: pandas.util.testing is deprecated. Use the functions in the public API at pandas.testing instead.\n",
            "  import pandas.util.testing as tm\n"
          ]
        },
        {
          "output_type": "execute_result",
          "data": {
            "text/plain": [
              "           variables       VIF\n",
              "0        Cholesterol  4.858385\n",
              "1            Oldpeak  2.282342\n",
              "2              Sex_M  4.198706\n",
              "3  ChestPainType_ATA  1.758068\n",
              "4  ChestPainType_NAP  1.527696\n",
              "5   ChestPainType_TA  1.141126\n",
              "6      FastingBS_Low  4.583115\n",
              "7   ExerciseAngina_Y  2.477439\n",
              "8      ST_Slope_Flat  4.653658\n",
              "9        ST_Slope_Up  4.840092"
            ],
            "text/html": [
              "\n",
              "  <div id=\"df-c204738c-890c-414b-82b0-77cbb777c839\">\n",
              "    <div class=\"colab-df-container\">\n",
              "      <div>\n",
              "<style scoped>\n",
              "    .dataframe tbody tr th:only-of-type {\n",
              "        vertical-align: middle;\n",
              "    }\n",
              "\n",
              "    .dataframe tbody tr th {\n",
              "        vertical-align: top;\n",
              "    }\n",
              "\n",
              "    .dataframe thead th {\n",
              "        text-align: right;\n",
              "    }\n",
              "</style>\n",
              "<table border=\"1\" class=\"dataframe\">\n",
              "  <thead>\n",
              "    <tr style=\"text-align: right;\">\n",
              "      <th></th>\n",
              "      <th>variables</th>\n",
              "      <th>VIF</th>\n",
              "    </tr>\n",
              "  </thead>\n",
              "  <tbody>\n",
              "    <tr>\n",
              "      <th>0</th>\n",
              "      <td>Cholesterol</td>\n",
              "      <td>4.858385</td>\n",
              "    </tr>\n",
              "    <tr>\n",
              "      <th>1</th>\n",
              "      <td>Oldpeak</td>\n",
              "      <td>2.282342</td>\n",
              "    </tr>\n",
              "    <tr>\n",
              "      <th>2</th>\n",
              "      <td>Sex_M</td>\n",
              "      <td>4.198706</td>\n",
              "    </tr>\n",
              "    <tr>\n",
              "      <th>3</th>\n",
              "      <td>ChestPainType_ATA</td>\n",
              "      <td>1.758068</td>\n",
              "    </tr>\n",
              "    <tr>\n",
              "      <th>4</th>\n",
              "      <td>ChestPainType_NAP</td>\n",
              "      <td>1.527696</td>\n",
              "    </tr>\n",
              "    <tr>\n",
              "      <th>5</th>\n",
              "      <td>ChestPainType_TA</td>\n",
              "      <td>1.141126</td>\n",
              "    </tr>\n",
              "    <tr>\n",
              "      <th>6</th>\n",
              "      <td>FastingBS_Low</td>\n",
              "      <td>4.583115</td>\n",
              "    </tr>\n",
              "    <tr>\n",
              "      <th>7</th>\n",
              "      <td>ExerciseAngina_Y</td>\n",
              "      <td>2.477439</td>\n",
              "    </tr>\n",
              "    <tr>\n",
              "      <th>8</th>\n",
              "      <td>ST_Slope_Flat</td>\n",
              "      <td>4.653658</td>\n",
              "    </tr>\n",
              "    <tr>\n",
              "      <th>9</th>\n",
              "      <td>ST_Slope_Up</td>\n",
              "      <td>4.840092</td>\n",
              "    </tr>\n",
              "  </tbody>\n",
              "</table>\n",
              "</div>\n",
              "      <button class=\"colab-df-convert\" onclick=\"convertToInteractive('df-c204738c-890c-414b-82b0-77cbb777c839')\"\n",
              "              title=\"Convert this dataframe to an interactive table.\"\n",
              "              style=\"display:none;\">\n",
              "        \n",
              "  <svg xmlns=\"http://www.w3.org/2000/svg\" height=\"24px\"viewBox=\"0 0 24 24\"\n",
              "       width=\"24px\">\n",
              "    <path d=\"M0 0h24v24H0V0z\" fill=\"none\"/>\n",
              "    <path d=\"M18.56 5.44l.94 2.06.94-2.06 2.06-.94-2.06-.94-.94-2.06-.94 2.06-2.06.94zm-11 1L8.5 8.5l.94-2.06 2.06-.94-2.06-.94L8.5 2.5l-.94 2.06-2.06.94zm10 10l.94 2.06.94-2.06 2.06-.94-2.06-.94-.94-2.06-.94 2.06-2.06.94z\"/><path d=\"M17.41 7.96l-1.37-1.37c-.4-.4-.92-.59-1.43-.59-.52 0-1.04.2-1.43.59L10.3 9.45l-7.72 7.72c-.78.78-.78 2.05 0 2.83L4 21.41c.39.39.9.59 1.41.59.51 0 1.02-.2 1.41-.59l7.78-7.78 2.81-2.81c.8-.78.8-2.07 0-2.86zM5.41 20L4 18.59l7.72-7.72 1.47 1.35L5.41 20z\"/>\n",
              "  </svg>\n",
              "      </button>\n",
              "      \n",
              "  <style>\n",
              "    .colab-df-container {\n",
              "      display:flex;\n",
              "      flex-wrap:wrap;\n",
              "      gap: 12px;\n",
              "    }\n",
              "\n",
              "    .colab-df-convert {\n",
              "      background-color: #E8F0FE;\n",
              "      border: none;\n",
              "      border-radius: 50%;\n",
              "      cursor: pointer;\n",
              "      display: none;\n",
              "      fill: #1967D2;\n",
              "      height: 32px;\n",
              "      padding: 0 0 0 0;\n",
              "      width: 32px;\n",
              "    }\n",
              "\n",
              "    .colab-df-convert:hover {\n",
              "      background-color: #E2EBFA;\n",
              "      box-shadow: 0px 1px 2px rgba(60, 64, 67, 0.3), 0px 1px 3px 1px rgba(60, 64, 67, 0.15);\n",
              "      fill: #174EA6;\n",
              "    }\n",
              "\n",
              "    [theme=dark] .colab-df-convert {\n",
              "      background-color: #3B4455;\n",
              "      fill: #D2E3FC;\n",
              "    }\n",
              "\n",
              "    [theme=dark] .colab-df-convert:hover {\n",
              "      background-color: #434B5C;\n",
              "      box-shadow: 0px 1px 3px 1px rgba(0, 0, 0, 0.15);\n",
              "      filter: drop-shadow(0px 1px 2px rgba(0, 0, 0, 0.3));\n",
              "      fill: #FFFFFF;\n",
              "    }\n",
              "  </style>\n",
              "\n",
              "      <script>\n",
              "        const buttonEl =\n",
              "          document.querySelector('#df-c204738c-890c-414b-82b0-77cbb777c839 button.colab-df-convert');\n",
              "        buttonEl.style.display =\n",
              "          google.colab.kernel.accessAllowed ? 'block' : 'none';\n",
              "\n",
              "        async function convertToInteractive(key) {\n",
              "          const element = document.querySelector('#df-c204738c-890c-414b-82b0-77cbb777c839');\n",
              "          const dataTable =\n",
              "            await google.colab.kernel.invokeFunction('convertToInteractive',\n",
              "                                                     [key], {});\n",
              "          if (!dataTable) return;\n",
              "\n",
              "          const docLinkHtml = 'Like what you see? Visit the ' +\n",
              "            '<a target=\"_blank\" href=https://colab.research.google.com/notebooks/data_table.ipynb>data table notebook</a>'\n",
              "            + ' to learn more about interactive tables.';\n",
              "          element.innerHTML = '';\n",
              "          dataTable['output_type'] = 'display_data';\n",
              "          await google.colab.output.renderOutput(dataTable, element);\n",
              "          const docLink = document.createElement('div');\n",
              "          docLink.innerHTML = docLinkHtml;\n",
              "          element.appendChild(docLink);\n",
              "        }\n",
              "      </script>\n",
              "    </div>\n",
              "  </div>\n",
              "  "
            ]
          },
          "metadata": {},
          "execution_count": 38
        }
      ],
      "source": [
        "def calc_vif(df):\n",
        "    from statsmodels.stats.outliers_influence import variance_inflation_factor\n",
        "    vif = pd.DataFrame()\n",
        "    vif[\"variables\"] = df.columns\n",
        "    vif[\"VIF\"] = [variance_inflation_factor(df.values, i) for i in range(df.shape[1])]\n",
        "    return(vif)\n",
        "\n",
        "calc_vif(df_copy)"
      ]
    },
    {
      "cell_type": "markdown",
      "metadata": {
        "id": "sH-TPsKZmDEu"
      },
      "source": [
        "VIF가 5를 초과하는 값이 없으므로 다중공산성 문제가 발생하지 않았음을 확인하였다."
      ]
    },
    {
      "cell_type": "markdown",
      "source": [
        "다중공선성이 있다는 것은 변수들 간의 상관관계가 높다는 것을 의미한다. 다중공선성이 높으면 예측 값의 신뢰구간이 넓게 형성되는 현상이 발생한다.\n",
        "\n",
        "다중공선성을 판단하는 지표로 사용하는 것이 VIF로 각 변수마다 10 이상인 경우 다중공선성이 있다고 판단한다. 엄격한 경우에는 기준을 5로 두기도 한다.\n",
        "\n",
        "https://muzukphysics.tistory.com/entry/%EB%8B%A4%EC%A4%91%EA%B3%B5%EC%84%A0%EC%84%B1-%ED%8C%90%EB%8B%A8-%EA%B8%B0%EC%A4%80-%EB%B0%8F-%ED%95%B4%EA%B2%B0-%EB%B0%A9%EB%B2%95-VIF-%ED%99%95%EC%9D%B8-Multicollinearity"
      ],
      "metadata": {
        "id": "y2Juwgh9WaTb"
      }
    },
    {
      "cell_type": "markdown",
      "metadata": {
        "id": "AlzSWLG16bZQ"
      },
      "source": [
        "## Logistic Regression"
      ]
    },
    {
      "cell_type": "markdown",
      "metadata": {
        "id": "ewEZB2_89Rak"
      },
      "source": [
        "https://www.kaggle.com/code/kgxiao/eda-logistic-regression-recall-rate-91"
      ]
    },
    {
      "cell_type": "markdown",
      "source": [
        "전처리한 DataSet을 가지고 Logistic Regression을 진행한다."
      ],
      "metadata": {
        "id": "-Vs3OHytL91G"
      }
    },
    {
      "cell_type": "code",
      "execution_count": null,
      "metadata": {
        "id": "sweeDUC-6ebO"
      },
      "outputs": [],
      "source": [
        "from sklearn.neural_network import MLPClassifier\n",
        "from sklearn.linear_model import LogisticRegression\n",
        "from sklearn.model_selection import train_test_split,GridSearchCV\n",
        "from sklearn.metrics import recall_score,roc_curve,roc_auc_score,plot_confusion_matrix"
      ]
    },
    {
      "cell_type": "code",
      "execution_count": null,
      "metadata": {
        "id": "8LXsU7VQHlXb",
        "colab": {
          "base_uri": "https://localhost:8080/",
          "height": 488
        },
        "outputId": "c3442ec2-960b-40d1-c790-b3b5ef61cf0f"
      },
      "outputs": [
        {
          "output_type": "execute_result",
          "data": {
            "text/plain": [
              "     Cholesterol  Oldpeak  HeartDisease  Sex_M  ChestPainType_ATA  \\\n",
              "0            289      0.0             0      1                  1   \n",
              "1            180      1.0             1      0                  0   \n",
              "2            283      0.0             0      1                  1   \n",
              "3            214      1.5             1      0                  0   \n",
              "4            195      0.0             0      1                  0   \n",
              "..           ...      ...           ...    ...                ...   \n",
              "913          264      1.2             1      1                  0   \n",
              "914          193      3.4             1      1                  0   \n",
              "915          131      1.2             1      1                  0   \n",
              "916          236      0.0             1      0                  1   \n",
              "917          175      0.0             0      1                  0   \n",
              "\n",
              "     ChestPainType_NAP  ChestPainType_TA  FastingBS_Low  ExerciseAngina_Y  \\\n",
              "0                    0                 0              1                 0   \n",
              "1                    1                 0              1                 0   \n",
              "2                    0                 0              1                 0   \n",
              "3                    0                 0              1                 1   \n",
              "4                    1                 0              1                 0   \n",
              "..                 ...               ...            ...               ...   \n",
              "913                  0                 1              1                 0   \n",
              "914                  0                 0              0                 0   \n",
              "915                  0                 0              1                 1   \n",
              "916                  0                 0              1                 0   \n",
              "917                  1                 0              1                 0   \n",
              "\n",
              "     ST_Slope_Flat  ST_Slope_Up  \n",
              "0                0            1  \n",
              "1                1            0  \n",
              "2                0            1  \n",
              "3                1            0  \n",
              "4                0            1  \n",
              "..             ...          ...  \n",
              "913              1            0  \n",
              "914              1            0  \n",
              "915              1            0  \n",
              "916              1            0  \n",
              "917              0            1  \n",
              "\n",
              "[918 rows x 11 columns]"
            ],
            "text/html": [
              "\n",
              "  <div id=\"df-fac8e9b8-2ea4-421b-b087-1bd877e9dc99\">\n",
              "    <div class=\"colab-df-container\">\n",
              "      <div>\n",
              "<style scoped>\n",
              "    .dataframe tbody tr th:only-of-type {\n",
              "        vertical-align: middle;\n",
              "    }\n",
              "\n",
              "    .dataframe tbody tr th {\n",
              "        vertical-align: top;\n",
              "    }\n",
              "\n",
              "    .dataframe thead th {\n",
              "        text-align: right;\n",
              "    }\n",
              "</style>\n",
              "<table border=\"1\" class=\"dataframe\">\n",
              "  <thead>\n",
              "    <tr style=\"text-align: right;\">\n",
              "      <th></th>\n",
              "      <th>Cholesterol</th>\n",
              "      <th>Oldpeak</th>\n",
              "      <th>HeartDisease</th>\n",
              "      <th>Sex_M</th>\n",
              "      <th>ChestPainType_ATA</th>\n",
              "      <th>ChestPainType_NAP</th>\n",
              "      <th>ChestPainType_TA</th>\n",
              "      <th>FastingBS_Low</th>\n",
              "      <th>ExerciseAngina_Y</th>\n",
              "      <th>ST_Slope_Flat</th>\n",
              "      <th>ST_Slope_Up</th>\n",
              "    </tr>\n",
              "  </thead>\n",
              "  <tbody>\n",
              "    <tr>\n",
              "      <th>0</th>\n",
              "      <td>289</td>\n",
              "      <td>0.0</td>\n",
              "      <td>0</td>\n",
              "      <td>1</td>\n",
              "      <td>1</td>\n",
              "      <td>0</td>\n",
              "      <td>0</td>\n",
              "      <td>1</td>\n",
              "      <td>0</td>\n",
              "      <td>0</td>\n",
              "      <td>1</td>\n",
              "    </tr>\n",
              "    <tr>\n",
              "      <th>1</th>\n",
              "      <td>180</td>\n",
              "      <td>1.0</td>\n",
              "      <td>1</td>\n",
              "      <td>0</td>\n",
              "      <td>0</td>\n",
              "      <td>1</td>\n",
              "      <td>0</td>\n",
              "      <td>1</td>\n",
              "      <td>0</td>\n",
              "      <td>1</td>\n",
              "      <td>0</td>\n",
              "    </tr>\n",
              "    <tr>\n",
              "      <th>2</th>\n",
              "      <td>283</td>\n",
              "      <td>0.0</td>\n",
              "      <td>0</td>\n",
              "      <td>1</td>\n",
              "      <td>1</td>\n",
              "      <td>0</td>\n",
              "      <td>0</td>\n",
              "      <td>1</td>\n",
              "      <td>0</td>\n",
              "      <td>0</td>\n",
              "      <td>1</td>\n",
              "    </tr>\n",
              "    <tr>\n",
              "      <th>3</th>\n",
              "      <td>214</td>\n",
              "      <td>1.5</td>\n",
              "      <td>1</td>\n",
              "      <td>0</td>\n",
              "      <td>0</td>\n",
              "      <td>0</td>\n",
              "      <td>0</td>\n",
              "      <td>1</td>\n",
              "      <td>1</td>\n",
              "      <td>1</td>\n",
              "      <td>0</td>\n",
              "    </tr>\n",
              "    <tr>\n",
              "      <th>4</th>\n",
              "      <td>195</td>\n",
              "      <td>0.0</td>\n",
              "      <td>0</td>\n",
              "      <td>1</td>\n",
              "      <td>0</td>\n",
              "      <td>1</td>\n",
              "      <td>0</td>\n",
              "      <td>1</td>\n",
              "      <td>0</td>\n",
              "      <td>0</td>\n",
              "      <td>1</td>\n",
              "    </tr>\n",
              "    <tr>\n",
              "      <th>...</th>\n",
              "      <td>...</td>\n",
              "      <td>...</td>\n",
              "      <td>...</td>\n",
              "      <td>...</td>\n",
              "      <td>...</td>\n",
              "      <td>...</td>\n",
              "      <td>...</td>\n",
              "      <td>...</td>\n",
              "      <td>...</td>\n",
              "      <td>...</td>\n",
              "      <td>...</td>\n",
              "    </tr>\n",
              "    <tr>\n",
              "      <th>913</th>\n",
              "      <td>264</td>\n",
              "      <td>1.2</td>\n",
              "      <td>1</td>\n",
              "      <td>1</td>\n",
              "      <td>0</td>\n",
              "      <td>0</td>\n",
              "      <td>1</td>\n",
              "      <td>1</td>\n",
              "      <td>0</td>\n",
              "      <td>1</td>\n",
              "      <td>0</td>\n",
              "    </tr>\n",
              "    <tr>\n",
              "      <th>914</th>\n",
              "      <td>193</td>\n",
              "      <td>3.4</td>\n",
              "      <td>1</td>\n",
              "      <td>1</td>\n",
              "      <td>0</td>\n",
              "      <td>0</td>\n",
              "      <td>0</td>\n",
              "      <td>0</td>\n",
              "      <td>0</td>\n",
              "      <td>1</td>\n",
              "      <td>0</td>\n",
              "    </tr>\n",
              "    <tr>\n",
              "      <th>915</th>\n",
              "      <td>131</td>\n",
              "      <td>1.2</td>\n",
              "      <td>1</td>\n",
              "      <td>1</td>\n",
              "      <td>0</td>\n",
              "      <td>0</td>\n",
              "      <td>0</td>\n",
              "      <td>1</td>\n",
              "      <td>1</td>\n",
              "      <td>1</td>\n",
              "      <td>0</td>\n",
              "    </tr>\n",
              "    <tr>\n",
              "      <th>916</th>\n",
              "      <td>236</td>\n",
              "      <td>0.0</td>\n",
              "      <td>1</td>\n",
              "      <td>0</td>\n",
              "      <td>1</td>\n",
              "      <td>0</td>\n",
              "      <td>0</td>\n",
              "      <td>1</td>\n",
              "      <td>0</td>\n",
              "      <td>1</td>\n",
              "      <td>0</td>\n",
              "    </tr>\n",
              "    <tr>\n",
              "      <th>917</th>\n",
              "      <td>175</td>\n",
              "      <td>0.0</td>\n",
              "      <td>0</td>\n",
              "      <td>1</td>\n",
              "      <td>0</td>\n",
              "      <td>1</td>\n",
              "      <td>0</td>\n",
              "      <td>1</td>\n",
              "      <td>0</td>\n",
              "      <td>0</td>\n",
              "      <td>1</td>\n",
              "    </tr>\n",
              "  </tbody>\n",
              "</table>\n",
              "<p>918 rows × 11 columns</p>\n",
              "</div>\n",
              "      <button class=\"colab-df-convert\" onclick=\"convertToInteractive('df-fac8e9b8-2ea4-421b-b087-1bd877e9dc99')\"\n",
              "              title=\"Convert this dataframe to an interactive table.\"\n",
              "              style=\"display:none;\">\n",
              "        \n",
              "  <svg xmlns=\"http://www.w3.org/2000/svg\" height=\"24px\"viewBox=\"0 0 24 24\"\n",
              "       width=\"24px\">\n",
              "    <path d=\"M0 0h24v24H0V0z\" fill=\"none\"/>\n",
              "    <path d=\"M18.56 5.44l.94 2.06.94-2.06 2.06-.94-2.06-.94-.94-2.06-.94 2.06-2.06.94zm-11 1L8.5 8.5l.94-2.06 2.06-.94-2.06-.94L8.5 2.5l-.94 2.06-2.06.94zm10 10l.94 2.06.94-2.06 2.06-.94-2.06-.94-.94-2.06-.94 2.06-2.06.94z\"/><path d=\"M17.41 7.96l-1.37-1.37c-.4-.4-.92-.59-1.43-.59-.52 0-1.04.2-1.43.59L10.3 9.45l-7.72 7.72c-.78.78-.78 2.05 0 2.83L4 21.41c.39.39.9.59 1.41.59.51 0 1.02-.2 1.41-.59l7.78-7.78 2.81-2.81c.8-.78.8-2.07 0-2.86zM5.41 20L4 18.59l7.72-7.72 1.47 1.35L5.41 20z\"/>\n",
              "  </svg>\n",
              "      </button>\n",
              "      \n",
              "  <style>\n",
              "    .colab-df-container {\n",
              "      display:flex;\n",
              "      flex-wrap:wrap;\n",
              "      gap: 12px;\n",
              "    }\n",
              "\n",
              "    .colab-df-convert {\n",
              "      background-color: #E8F0FE;\n",
              "      border: none;\n",
              "      border-radius: 50%;\n",
              "      cursor: pointer;\n",
              "      display: none;\n",
              "      fill: #1967D2;\n",
              "      height: 32px;\n",
              "      padding: 0 0 0 0;\n",
              "      width: 32px;\n",
              "    }\n",
              "\n",
              "    .colab-df-convert:hover {\n",
              "      background-color: #E2EBFA;\n",
              "      box-shadow: 0px 1px 2px rgba(60, 64, 67, 0.3), 0px 1px 3px 1px rgba(60, 64, 67, 0.15);\n",
              "      fill: #174EA6;\n",
              "    }\n",
              "\n",
              "    [theme=dark] .colab-df-convert {\n",
              "      background-color: #3B4455;\n",
              "      fill: #D2E3FC;\n",
              "    }\n",
              "\n",
              "    [theme=dark] .colab-df-convert:hover {\n",
              "      background-color: #434B5C;\n",
              "      box-shadow: 0px 1px 3px 1px rgba(0, 0, 0, 0.15);\n",
              "      filter: drop-shadow(0px 1px 2px rgba(0, 0, 0, 0.3));\n",
              "      fill: #FFFFFF;\n",
              "    }\n",
              "  </style>\n",
              "\n",
              "      <script>\n",
              "        const buttonEl =\n",
              "          document.querySelector('#df-fac8e9b8-2ea4-421b-b087-1bd877e9dc99 button.colab-df-convert');\n",
              "        buttonEl.style.display =\n",
              "          google.colab.kernel.accessAllowed ? 'block' : 'none';\n",
              "\n",
              "        async function convertToInteractive(key) {\n",
              "          const element = document.querySelector('#df-fac8e9b8-2ea4-421b-b087-1bd877e9dc99');\n",
              "          const dataTable =\n",
              "            await google.colab.kernel.invokeFunction('convertToInteractive',\n",
              "                                                     [key], {});\n",
              "          if (!dataTable) return;\n",
              "\n",
              "          const docLinkHtml = 'Like what you see? Visit the ' +\n",
              "            '<a target=\"_blank\" href=https://colab.research.google.com/notebooks/data_table.ipynb>data table notebook</a>'\n",
              "            + ' to learn more about interactive tables.';\n",
              "          element.innerHTML = '';\n",
              "          dataTable['output_type'] = 'display_data';\n",
              "          await google.colab.output.renderOutput(dataTable, element);\n",
              "          const docLink = document.createElement('div');\n",
              "          docLink.innerHTML = docLinkHtml;\n",
              "          element.appendChild(docLink);\n",
              "        }\n",
              "      </script>\n",
              "    </div>\n",
              "  </div>\n",
              "  "
            ]
          },
          "metadata": {},
          "execution_count": 40
        }
      ],
      "source": [
        "df"
      ]
    },
    {
      "cell_type": "code",
      "execution_count": null,
      "metadata": {
        "id": "yz1ZnZ1MHm_O",
        "colab": {
          "base_uri": "https://localhost:8080/"
        },
        "outputId": "f392dd67-2a76-445a-de75-f22012d0a7ea"
      },
      "outputs": [
        {
          "output_type": "execute_result",
          "data": {
            "text/plain": [
              "Index(['Cholesterol', 'Oldpeak', 'HeartDisease', 'Sex_M', 'ChestPainType_ATA',\n",
              "       'ChestPainType_NAP', 'ChestPainType_TA', 'FastingBS_Low',\n",
              "       'ExerciseAngina_Y', 'ST_Slope_Flat', 'ST_Slope_Up'],\n",
              "      dtype='object')"
            ]
          },
          "metadata": {},
          "execution_count": 41
        }
      ],
      "source": [
        "df.columns"
      ]
    },
    {
      "cell_type": "code",
      "execution_count": null,
      "metadata": {
        "id": "hn4gjR7t62Wi"
      },
      "outputs": [],
      "source": [
        "train_target = df[\"HeartDisease\"]\n",
        "train_features = df.drop(columns=[\"HeartDisease\"])\n",
        "train_target = train_target.astype('int')"
      ]
    },
    {
      "cell_type": "code",
      "execution_count": null,
      "metadata": {
        "id": "_xdp5UFG8EPd",
        "colab": {
          "base_uri": "https://localhost:8080/"
        },
        "outputId": "24d13af4-ffd4-4d75-aa8c-ab4b73e8368c"
      },
      "outputs": [
        {
          "output_type": "stream",
          "name": "stdout",
          "text": [
            "train set: (587, 10)\n",
            "valid set: (147, 10)\n",
            "test set: (184, 10)\n"
          ]
        }
      ],
      "source": [
        "from sklearn.model_selection import train_test_split\n",
        "x_train, x_test, y_train, y_test = train_test_split(train_features, train_target, test_size = 0.2, random_state = 312)\n",
        "x_train, x_valid, y_train, y_valid = train_test_split(x_train, y_train, test_size = 0.2, random_state = 312, stratify=y_train)\n",
        "print(\"train set:\",x_train.shape)\n",
        "print(\"valid set:\",x_valid.shape)\n",
        "print(\"test set:\",x_test.shape)"
      ]
    },
    {
      "cell_type": "code",
      "execution_count": null,
      "metadata": {
        "id": "pqu6ZZED8kRE",
        "colab": {
          "base_uri": "https://localhost:8080/"
        },
        "outputId": "d9912bb1-788e-40fc-f4fd-aa9c5d373a1f"
      },
      "outputs": [
        {
          "output_type": "execute_result",
          "data": {
            "text/plain": [
              "1    321\n",
              "0    266\n",
              "Name: HeartDisease, dtype: int64"
            ]
          },
          "metadata": {},
          "execution_count": 44
        }
      ],
      "source": [
        "y_train.value_counts() # 0: 정상, 1: 발병"
      ]
    },
    {
      "cell_type": "markdown",
      "source": [
        "target Data가 정상인경우와 발병했을 때의 데이터의 차이가 존재하긴 하지만 \n",
        "\n",
        "그 차이가 크지 않기 때문에 RandomUnderSampling을 하여 분석을 진행한다."
      ],
      "metadata": {
        "id": "KFUmX_uhMNYg"
      }
    },
    {
      "cell_type": "code",
      "execution_count": null,
      "metadata": {
        "id": "rvo_SLOc8nI4"
      },
      "outputs": [],
      "source": [
        "from imblearn.under_sampling import RandomUnderSampler\n",
        "x_train, y_train = RandomUnderSampler(random_state=312, sampling_strategy='majority').fit_resample(x_train, y_train)"
      ]
    },
    {
      "cell_type": "code",
      "execution_count": null,
      "metadata": {
        "id": "7xZRl2oA8o_4",
        "colab": {
          "base_uri": "https://localhost:8080/"
        },
        "outputId": "6e180b24-b30c-4d7c-efab-7c80462b810a"
      },
      "outputs": [
        {
          "output_type": "execute_result",
          "data": {
            "text/plain": [
              "0    266\n",
              "1    266\n",
              "Name: HeartDisease, dtype: int64"
            ]
          },
          "metadata": {},
          "execution_count": 47
        }
      ],
      "source": [
        "y_train.value_counts() # 0: 정상, 1:발병"
      ]
    },
    {
      "cell_type": "code",
      "execution_count": null,
      "metadata": {
        "id": "w6qx_UZT8rUv",
        "colab": {
          "base_uri": "https://localhost:8080/"
        },
        "outputId": "0e29fec2-6741-4de2-be40-897dc22785aa"
      },
      "outputs": [
        {
          "output_type": "stream",
          "name": "stderr",
          "text": [
            "/usr/local/lib/python3.7/dist-packages/statsmodels/tsa/tsatools.py:117: FutureWarning: In a future version of pandas all arguments of concat except for the argument 'objs' will be keyword-only\n",
            "  x = pd.concat(x[::order], 1)\n"
          ]
        }
      ],
      "source": [
        "import statsmodels.api as sm\n",
        "x_train = sm.add_constant(x_train)\n",
        "x_valid = sm.add_constant(x_valid)\n",
        "x_test = sm.add_constant(x_test)"
      ]
    },
    {
      "cell_type": "code",
      "execution_count": null,
      "metadata": {
        "id": "AFU683QY8t62",
        "colab": {
          "base_uri": "https://localhost:8080/"
        },
        "outputId": "b98e71a8-1a28-4b09-dafa-7d347e3f03eb"
      },
      "outputs": [
        {
          "output_type": "stream",
          "name": "stdout",
          "text": [
            "Optimization terminated successfully.\n",
            "         Current function value: 0.346579\n",
            "         Iterations 7\n"
          ]
        }
      ],
      "source": [
        "model_sm = sm.Logit(y_train, x_train).fit()\n",
        "# model_sm = smf.logit(\"y 변수명 ~ X변수1 + X변수2\", data=데이터프레임).fit()의 형태로도 fit 가능"
      ]
    },
    {
      "cell_type": "markdown",
      "source": [
        "Logistic Regression 을 위한 Maximumlikelihood estimation에서 loss function이 최소가 되게 하는  Iteration이 7번임을 알 수 있었다."
      ],
      "metadata": {
        "id": "dCOJmtJMPRGZ"
      }
    },
    {
      "cell_type": "markdown",
      "metadata": {
        "id": "KXtkgXw-8wG9"
      },
      "source": [
        "## Evaluation"
      ]
    },
    {
      "cell_type": "markdown",
      "source": [
        "###Assumption"
      ],
      "metadata": {
        "id": "PUxpppkKcUY-"
      }
    },
    {
      "cell_type": "markdown",
      "source": [
        "\n",
        "먼저 진행한 Logistic Regression이 Assumption들을 만족하는지 파악하고자 한다.\n",
        "\n",
        "1.관측치들 간 독립성\n",
        "\n",
        "2.잔차 간 등분산성\n",
        "\n",
        "3.독립 변수와 log odds 간의 linearity \n",
        "\n",
        "4.이상치가 존재하지 않아야 함\n",
        "\n",
        "4가지 Assumption중 1번인 '관측치들간 독립성',4번인 '이상치가 존재하지 않아야 함' 의 경우\n",
        "\n",
        "데이터가 개별 환자들의 기록이기 때문에 관측치들 간 독립성이 보장되고\n",
        "\n",
        "전처리 과정에서 'Cholesterol','Oldpeak'의 이상치를 제거해주었기 때문에 만족시킨다 \n"
      ],
      "metadata": {
        "id": "sjgpYJtAQGo2"
      }
    },
    {
      "cell_type": "markdown",
      "source": [
        "-잔차 간 등분산성 검정 "
      ],
      "metadata": {
        "id": "CA5A6-8pRHd7"
      }
    },
    {
      "cell_type": "code",
      "execution_count": null,
      "metadata": {
        "id": "SHQo5JQu8y4e"
      },
      "outputs": [],
      "source": [
        "from sklearn.metrics import confusion_matrix\n",
        "import matplotlib.pyplot as plt\n",
        "import seaborn as sns\n",
        "from matplotlib import cm\n",
        "from sklearn.metrics import accuracy_score, precision_score, recall_score, f1_score"
      ]
    },
    {
      "cell_type": "code",
      "execution_count": null,
      "metadata": {
        "id": "Z0O-7lF180sh"
      },
      "outputs": [],
      "source": [
        "# Probability 값\n",
        "predict_prob = model_sm.predict(x_valid)"
      ]
    },
    {
      "cell_type": "code",
      "execution_count": null,
      "metadata": {
        "id": "9AulMsjo818-",
        "colab": {
          "base_uri": "https://localhost:8080/"
        },
        "outputId": "29c976df-cb4f-4f31-e67c-0ae2ab450b7d"
      },
      "outputs": [
        {
          "output_type": "execute_result",
          "data": {
            "text/plain": [
              "(147,)"
            ]
          },
          "metadata": {},
          "execution_count": 52
        }
      ],
      "source": [
        "y_valid.shape\n"
      ]
    },
    {
      "cell_type": "markdown",
      "source": [
        "예측값과 잔차를 비교하여 잔차의 추세가 0을 기준으로한 수평선과 비슷할 경우 잔차간 등분산성을 만족한다."
      ],
      "metadata": {
        "id": "W67a1LXRR-Y8"
      }
    },
    {
      "cell_type": "code",
      "source": [
        "# Plotting multiple plots same figure\n",
        "fig, (axL, axR) = plt.subplots(2, figsize=(15, 15))\n",
        "plt.suptitle(\"Logistic Regression Residual Plots \\n using Seaborn Lowess line\")\n",
        "\n",
        "# Deviance Residuals\n",
        "sns.regplot(model_sm.fittedvalues, model_sm.resid_dev, ax= axL,\n",
        "            color=\"black\", scatter_kws={\"s\": 5},\n",
        "            line_kws={\"color\":\"b\", \"alpha\":1, \"lw\":2}, lowess=True)\n",
        "\n",
        "axL.set_title(\"Deviance Residuals \\n against Fitted Values\")\n",
        "axL.set_xlabel(\"Linear Predictor Values\")\n",
        "axL.set_ylabel(\"Deviance Residuals\")\n",
        "\n",
        "# Studentized Pearson Residuals\n",
        "sns.regplot(model_sm.fittedvalues, model_sm.resid_pearson, ax= axR,\n",
        "            color=\"black\", scatter_kws={\"s\": 5},\n",
        "            line_kws={\"color\":\"g\", \"alpha\":1, \"lw\":2}, lowess=True)\n",
        "\n",
        "axR.set_title(\"Studentized Pearson Residuals \\n against Fitted Values\")\n",
        "axR.set_xlabel(\"Linear Predictor Values\")\n",
        "axR.set_ylabel(\"Studentized Pearson Residuals\")\n",
        "\n",
        "plt.show()"
      ],
      "metadata": {
        "colab": {
          "base_uri": "https://localhost:8080/",
          "height": 1000
        },
        "id": "NasMMM2qTRUH",
        "outputId": "fd02c0af-1161-4667-85e1-8cefa9bd33a9"
      },
      "execution_count": null,
      "outputs": [
        {
          "output_type": "stream",
          "name": "stderr",
          "text": [
            "/usr/local/lib/python3.7/dist-packages/seaborn/_decorators.py:43: FutureWarning: Pass the following variables as keyword args: x, y. From version 0.12, the only valid positional argument will be `data`, and passing other arguments without an explicit keyword will result in an error or misinterpretation.\n",
            "  FutureWarning\n",
            "/usr/local/lib/python3.7/dist-packages/seaborn/_decorators.py:43: FutureWarning: Pass the following variables as keyword args: x, y. From version 0.12, the only valid positional argument will be `data`, and passing other arguments without an explicit keyword will result in an error or misinterpretation.\n",
            "  FutureWarning\n"
          ]
        },
        {
          "output_type": "display_data",
          "data": {
            "text/plain": [
              "<Figure size 1080x1080 with 2 Axes>"
            ],
            "image/png": "[encoded data removed]"
          },
          "metadata": {
            "needs_background": "light"
          }
        }
      ]
    },
    {
      "cell_type": "markdown",
      "source": [
        "플롯이 0절편을 기준으로 어느정도의 수평선을 가지면 잔차 간 등분산성(특정한 패턴을 가지지 않고 분포되어있다)을 가진다고 할 수 있다.\n",
        "\n",
        "Deviance Residuals와 Studentized Pearson Residuals 모두 대략적인 수평선을 가지므로 모델 적합함을 알 수 있고 잔차간 등분산성 가정을 만족시킴을 알 수 있다."
      ],
      "metadata": {
        "id": "Qh0BC2eiVZHv"
      }
    },
    {
      "cell_type": "code",
      "source": [
        "def ap_log_regplot(ap_X, ap_y):\n",
        "    plt.figure(figsize=(15,10))\n",
        "    sns.regplot(ap_X, ap_y, logistic=True, color='green')\n",
        "    return None\n",
        "\n",
        "ap_log_regplot(x_valid['Cholesterol'], y_valid)\n",
        "plt.xlabel('Valid Target')\n",
        "plt.ylabel('Probability')\n",
        "plt.title('Logistic Regression: Probability of HeartDisease by Cholesterol')\n",
        "plt.show()"
      ],
      "metadata": {
        "colab": {
          "base_uri": "https://localhost:8080/",
          "height": 678
        },
        "id": "6FvHkSbeTfZu",
        "outputId": "2530d544-5984-49f6-ce4f-70ffdf48122f"
      },
      "execution_count": null,
      "outputs": [
        {
          "output_type": "stream",
          "name": "stderr",
          "text": [
            "/usr/local/lib/python3.7/dist-packages/seaborn/_decorators.py:43: FutureWarning: Pass the following variables as keyword args: x, y. From version 0.12, the only valid positional argument will be `data`, and passing other arguments without an explicit keyword will result in an error or misinterpretation.\n",
            "  FutureWarning\n"
          ]
        },
        {
          "output_type": "display_data",
          "data": {
            "text/plain": [
              "<Figure size 1080x720 with 1 Axes>"
            ],
            "image/png": "[encoded data removed]"
          },
          "metadata": {
            "needs_background": "light"
          }
        }
      ]
    },
    {
      "cell_type": "markdown",
      "source": [
        "Logistic Regression을 이용하여 Cholesterol에 따른 HearDisease의 발병을  추정한 결과를 플롯으로 알 수 있었고 \n",
        "\n",
        "그 추정그래프와 잔차를 표현하여 추정그래프와 큰 차이를 보이지 않고 잔차가 나타났기 때문에 적합하게 모델링 되었다고 할 수 있다. \n",
        "\n",
        "잔차간 등분산성을 만족한다고 할 수 있다."
      ],
      "metadata": {
        "id": "fDSKtOclXIYv"
      }
    },
    {
      "cell_type": "code",
      "source": [
        "def ap_log_regplot(ap_X, ap_y):\n",
        "    plt.figure(figsize=(15,10))\n",
        "    sns.regplot(ap_X, ap_y, logistic=True, color='green')\n",
        "    return None\n",
        "\n",
        "ap_log_regplot(x_valid['Oldpeak'], y_valid)\n",
        "plt.xlabel('Valid Target')\n",
        "plt.ylabel('Probability')\n",
        "plt.title('Logistic Regression: Probability of HeartDisease by Oldpeak')\n",
        "plt.show()"
      ],
      "metadata": {
        "colab": {
          "base_uri": "https://localhost:8080/",
          "height": 678
        },
        "id": "Btx1xOQdTgnk",
        "outputId": "8cb6e6e7-b136-42e8-c3f8-355f4f533f93"
      },
      "execution_count": null,
      "outputs": [
        {
          "output_type": "stream",
          "name": "stderr",
          "text": [
            "/usr/local/lib/python3.7/dist-packages/seaborn/_decorators.py:43: FutureWarning: Pass the following variables as keyword args: x, y. From version 0.12, the only valid positional argument will be `data`, and passing other arguments without an explicit keyword will result in an error or misinterpretation.\n",
            "  FutureWarning\n"
          ]
        },
        {
          "output_type": "display_data",
          "data": {
            "text/plain": [
              "<Figure size 1080x720 with 1 Axes>"
            ],
            "image/png": "[encoded data removed]"
          },
          "metadata": {
            "needs_background": "light"
          }
        }
      ]
    },
    {
      "cell_type": "markdown",
      "source": [
        "Logistic Regression을 이용하여 Oldpeak에 따른 HearDisease의 발병을  추정한 결과를 S자 곡선 플롯으로 알 수 있었고 그 S자 곡선과 잔차를 표현하여 S자 곡선과 큰 차이를 보이지 않고 잔차가 나타난다면 적합하게 모델링 되었다고 할 수 있고\n",
        "\n",
        "잔차간 등분산성을 만족한다고 할 수 있다."
      ],
      "metadata": {
        "id": "FGVvhcfxZSw6"
      }
    },
    {
      "cell_type": "markdown",
      "source": [
        "-독립 변수와 log odds 간의 linearity "
      ],
      "metadata": {
        "id": "k6j7iv94Z0iB"
      }
    },
    {
      "cell_type": "code",
      "execution_count": null,
      "metadata": {
        "id": "xTe06Tpt87iV",
        "colab": {
          "base_uri": "https://localhost:8080/",
          "height": 279
        },
        "outputId": "c632d635-5aba-4f74-b58d-d1699dbae3a5"
      },
      "outputs": [
        {
          "output_type": "display_data",
          "data": {
            "text/plain": [
              "<Figure size 432x288 with 1 Axes>"
            ],
            "image/png": "[encoded data removed]"
          },
          "metadata": {
            "needs_background": "light"
          }
        }
      ],
      "source": [
        "import numpy as np\n",
        "# Getting log odds values\n",
        "log_odds = np.log(predict_prob / (1 - predict_prob))\n",
        "\n",
        "# Visualize predictor variable vs logit values for Age\n",
        "plt.scatter(x=x_valid['Cholesterol'].values, y=log_odds)\n",
        "plt.xlabel(\"Cholesterol\")\n",
        "plt.ylabel(\"Log-odds\")\n",
        "plt.show()"
      ]
    },
    {
      "cell_type": "markdown",
      "source": [
        "Cholesterol의 수치가 낮을 때 Log-Odds(발병하지 않을 확률 대비 발병할 확률) 이높고 \n",
        "\n",
        "Cholesterol의 수치가 클 때 Log-Odds가 낮으므로\n",
        "\n",
        "선형성 가정을 충족한다."
      ],
      "metadata": {
        "id": "uaLv1P9Ta8YV"
      }
    },
    {
      "cell_type": "code",
      "source": [
        "import numpy as np\n",
        "# Getting log odds values\n",
        "log_odds = np.log(predict_prob / (1 - predict_prob))\n",
        "\n",
        "# Visualize predictor variable vs logit values for Age\n",
        "plt.scatter(x=x_valid['Oldpeak'].values, y=log_odds)\n",
        "plt.xlabel(\"Oldpeak\")\n",
        "plt.ylabel(\"Log-odds\")\n",
        "plt.show()"
      ],
      "metadata": {
        "colab": {
          "base_uri": "https://localhost:8080/",
          "height": 279
        },
        "id": "d0aXhGcsZ905",
        "outputId": "5d36dcb7-4c23-447d-cd52-8315e850575c"
      },
      "execution_count": null,
      "outputs": [
        {
          "output_type": "display_data",
          "data": {
            "text/plain": [
              "<Figure size 432x288 with 1 Axes>"
            ],
            "image/png": "[encoded data removed]"
          },
          "metadata": {
            "needs_background": "light"
          }
        }
      ]
    },
    {
      "cell_type": "markdown",
      "source": [
        "Oldpeak의 수치가 낮을 때 Log-Odds(발병하지 않을 확률 대비 발병할 확률)가 낮고 \n",
        "\n",
        "Oldpeak의  수치가 클 때 Log-Odds가 높으기 때문에\n",
        "\n",
        "선형성 가정을 충족한다."
      ],
      "metadata": {
        "id": "SgZMehpya7KT"
      }
    },
    {
      "cell_type": "markdown",
      "source": [
        "따라서 Logistic Regression의 4가지 Assumption을 모두 충족한다"
      ],
      "metadata": {
        "id": "eQ_khftGb_Y3"
      }
    },
    {
      "cell_type": "markdown",
      "source": [
        "###Cut-off 설정"
      ],
      "metadata": {
        "id": "rdiHxEp9crmR"
      }
    },
    {
      "cell_type": "markdown",
      "source": [
        "Sigmoid function이 0~1의 값을 갖기 때문에 그 사이의 적절한 cut-off를 설정한다\n",
        "\n",
        "이때, Accuracy가 높게 나오도록 Cut-off를 설정하도록 한다."
      ],
      "metadata": {
        "id": "FcBAKNPNfkcy"
      }
    },
    {
      "cell_type": "code",
      "execution_count": null,
      "metadata": {
        "id": "HXZplqLB9I3M"
      },
      "outputs": [],
      "source": [
        "# 경계값cut off value에 따라 0,1 값 변환\n",
        "def change_cutoff(pred_prob_y, cutoff):\n",
        "    Y_change = pred_prob_y.copy()\n",
        "    Y_change[Y_change > cutoff] = 1\n",
        "    Y_change[Y_change <= cutoff] = 0\n",
        "    return(Y_change.astype(int))"
      ]
    },
    {
      "cell_type": "code",
      "source": [
        "print(confusion_matrix(y_valid, change_cutoff(predict_prob, 0.3)))\n",
        "print(\" Accuracy:\", accuracy_score(y_valid, change_cutoff(predict_prob, 0.3)))\n",
        "print(\"Precision:\", precision_score(y_valid, change_cutoff(predict_prob, 0.3)))\n",
        "print(\"   Recall:\", recall_score(y_valid, change_cutoff(predict_prob, 0.3)))\n",
        "print(\" F1 score:\", f1_score(y_valid, change_cutoff(predict_prob, 0.3)))"
      ],
      "metadata": {
        "colab": {
          "base_uri": "https://localhost:8080/"
        },
        "id": "8yg510KLfPSh",
        "outputId": "d586cc4d-49a5-4cea-b728-75e20a202c8a"
      },
      "execution_count": null,
      "outputs": [
        {
          "output_type": "stream",
          "name": "stdout",
          "text": [
            "[[48 18]\n",
            " [ 5 76]]\n",
            " Accuracy: 0.8435374149659864\n",
            "Precision: 0.8085106382978723\n",
            "   Recall: 0.9382716049382716\n",
            " F1 score: 0.8685714285714285\n"
          ]
        }
      ]
    },
    {
      "cell_type": "code",
      "execution_count": null,
      "metadata": {
        "id": "56X38akX9NFm",
        "colab": {
          "base_uri": "https://localhost:8080/"
        },
        "outputId": "1653ec8c-925e-4403-ffcd-862ebc69068b"
      },
      "outputs": [
        {
          "output_type": "stream",
          "name": "stdout",
          "text": [
            "[[58  8]\n",
            " [23 58]]\n",
            " Accuracy: 0.7891156462585034\n",
            "Precision: 0.8787878787878788\n",
            "   Recall: 0.7160493827160493\n",
            " F1 score: 0.7891156462585033\n"
          ]
        }
      ],
      "source": [
        "print(confusion_matrix(y_valid, change_cutoff(predict_prob, 0.7)))\n",
        "print(\" Accuracy:\", accuracy_score(y_valid, change_cutoff(predict_prob, 0.7)))\n",
        "print(\"Precision:\", precision_score(y_valid, change_cutoff(predict_prob, 0.7)))\n",
        "print(\"   Recall:\", recall_score(y_valid, change_cutoff(predict_prob, 0.7)))\n",
        "print(\" F1 score:\", f1_score(y_valid, change_cutoff(predict_prob, 0.7)))"
      ]
    },
    {
      "cell_type": "code",
      "execution_count": null,
      "metadata": {
        "id": "UsYMOxy39K4a",
        "colab": {
          "base_uri": "https://localhost:8080/"
        },
        "outputId": "b2a55495-4a2c-44da-dffc-49ec54dbef76"
      },
      "outputs": [
        {
          "output_type": "stream",
          "name": "stdout",
          "text": [
            "[[57  9]\n",
            " [11 70]]\n",
            " Accuracy: 0.8639455782312925\n",
            "Precision: 0.8860759493670886\n",
            "   Recall: 0.8641975308641975\n",
            " F1 score: 0.8749999999999999\n"
          ]
        }
      ],
      "source": [
        "print(confusion_matrix(y_valid, change_cutoff(predict_prob, 0.5)))\n",
        "print(\" Accuracy:\", accuracy_score(y_valid, change_cutoff(predict_prob, 0.5)))\n",
        "print(\"Precision:\", precision_score(y_valid, change_cutoff(predict_prob, 0.5)))\n",
        "print(\"   Recall:\", recall_score(y_valid, change_cutoff(predict_prob, 0.5)))\n",
        "print(\" F1 score:\", f1_score(y_valid, change_cutoff(predict_prob, 0.5)))"
      ]
    },
    {
      "cell_type": "markdown",
      "source": [
        "Accuracy가 가장 높게 나오는 Cut-off 는 0.5이므로 Cut-off=0.5 이다 \n",
        "\n",
        "( Target Data가 불균형하지 않기 때문에 F1 Score가 아닌 Accuracy가 높게 나오도록 Cut-off 설정, F1-Score대신 Accuracy만 고려하여 평가한다)\n",
        "\n",
        "세 성능 지표중 가장 중요한 것은 Accuray이다. 심장 질환과 같은 가볍지 않은 질병의 경우 정상일 때 발병이라고 판단하거나 ,발병햇을때 정상이라고 판단하는 것 모두 치명적이다. 전자의 경우 환자에게 큰 스트레스 및 병원비가 사용될 수 있고, 후자의 경우는 질환의 조기치료를 놓치고 건강악화의 위험이 발생할 수 있기 때문이다.\n",
        "\n",
        "Accuracy는 약 86퍼센트이다. 이는 Logistic Regression을 이용하여 HeartDisease의 발병을 추정했을때 총 147건의 추정중 127건을 정확히 추정하였기 때문에 Logisic Regression의 정확도가 127/147= 약 86퍼센트 인것이다. 질병을 판단하는 모델의 경우 그 정확도가 90퍼센트이상은 되어야 적합하다고 생각된다. 따라서 86퍼센트의 정확도를 가지는 이 선형모델은 일반적으로는 정확도가 높다고 생각할 수 있지만 실제로 사용하기에는 조금 부족하다고 해석된다.\n",
        "\n",
        "두 번째로 중요한 지표는 Recall이다. 질병의 경우 실제 환자가 발병했을 때 그 병을 정확히 진단해야 하며 만약 그 병을 정상이라 진단할 경우 조기치료가 중요한 심장 질환의 경우 그 판단이 치명적일 수 있기 때문이다.\n",
        "\n",
        "Recall은 약 88퍼센트이다. 이는 Logistic Regression을 이용하여 HeartDisease가 실제로 발생한 경우 중 실제로 model이 발병했다고 추정한 비율이다. 총 81건의 실제 발병한 경우 중 70건을 정확히 추정하였기 때문에 Logisic Regression의 재현도가 70/81= 약 86퍼센트 인것이다. Recall의 경우도 Accuracy와 같이 일반적으로는 높다고 판단되나, 질병의 판단에 사용되기 때문에 조금 부족하다고 해석된다.\n",
        "\n",
        "세 번째로 중요한 지표는 Precision이다. 질병의 경우 모델이 발병했다고 판단했을 때 실제로 발병해야 할 확률 역시 중요하다.물론 실제로 발병하지 않았을 경우 환자가 정상이라는 것이기 때문에 Recall 보다는 중요하진 않지만, 환자의 스트레스 및 추가로 사용될 수 있는 병원비들을 고려할때, Precision 역시 중요하다.\n",
        "\n",
        "Precision은 약 86퍼센트이다. 이는 Logistic Regression을 이용하여 모델이 HeartDisease가 발생했다고 추정한 경우 중 실제로 발병한 비율이다. 총 79건의 발병했다고 추정한 경우 중 70건이 실제로 발병하였기 때문에 Logisic Regression의 정밀도가 70/79= 약 86퍼센트 인것이다. Precision의 경우도 Accuracy와 같이 일반적으로는 높다고 판단되나, 질병의 판단에 사용되기 때문에 조금 부족하다고 해석된다."
      ],
      "metadata": {
        "id": "XnvDaJ3ogMxn"
      }
    },
    {
      "cell_type": "code",
      "execution_count": null,
      "metadata": {
        "id": "xFuK0xD-9Unu",
        "colab": {
          "base_uri": "https://localhost:8080/",
          "height": 283
        },
        "outputId": "0ff046bd-5105-4188-fac3-a592d5652230"
      },
      "outputs": [
        {
          "output_type": "display_data",
          "data": {
            "text/plain": [
              "<Figure size 432x288 with 1 Axes>"
            ],
            "image/png": "[encoded data removed]"
          },
          "metadata": {
            "needs_background": "light"
          }
        }
      ],
      "source": [
        "from sklearn.metrics import roc_curve\n",
        "\n",
        "def roc_curve_plot(y_test , pred_proba_c1):\n",
        "    fprs , tprs , thresholds = roc_curve(y_test ,pred_proba_c1) # 임곗값에 따른 FPR, TPR 값을 반환 받음. \n",
        "\n",
        "    plt.plot(fprs , tprs, label='ROC')\n",
        "    plt.plot([0, 1], [0, 1], 'k--', label='Random')\n",
        "  \n",
        "    start, end = plt.xlim()\n",
        "    plt.xticks(np.round(np.arange(start, end, 0.1),2))\n",
        "    plt.xlim(0,1)\n",
        "    plt.ylim(0,1)\n",
        "    plt.xlabel('FPR( 1 - Sensitivity )')\n",
        "    plt.ylabel('TPR( Recall )')\n",
        "    plt.legend()\n",
        "    plt.show()\n",
        "  \n",
        "roc_curve_plot(y_valid, predict_prob)"
      ]
    },
    {
      "cell_type": "markdown",
      "source": [
        "ROC Curve가 좌측 상단에 붙은것으로 보이기 때문에 모델이 적합하다고 해석된다.\n",
        "\n",
        "https://angeloyeo.github.io/2020/08/05/ROC.html"
      ],
      "metadata": {
        "id": "0jyFAgGzmCTM"
      }
    },
    {
      "cell_type": "markdown",
      "metadata": {
        "id": "0o1Df1Jv9Wcb"
      },
      "source": [
        "## Interpretation"
      ]
    },
    {
      "cell_type": "code",
      "execution_count": null,
      "metadata": {
        "id": "8MeP2M-n9Zpu",
        "colab": {
          "base_uri": "https://localhost:8080/",
          "height": 439
        },
        "outputId": "281fd7d4-1c96-4b1e-9262-e56b23860dad"
      },
      "outputs": [
        {
          "output_type": "execute_result",
          "data": {
            "text/plain": [
              "<class 'statsmodels.iolib.summary.Summary'>\n",
              "\"\"\"\n",
              "                           Logit Regression Results                           \n",
              "==============================================================================\n",
              "Dep. Variable:           HeartDisease   No. Observations:                  532\n",
              "Model:                          Logit   Df Residuals:                      521\n",
              "Method:                           MLE   Df Model:                           10\n",
              "Date:                Fri, 29 Apr 2022   Pseudo R-squ.:                  0.5000\n",
              "Time:                        13:53:24   Log-Likelihood:                -184.38\n",
              "converged:                       True   LL-Null:                       -368.75\n",
              "Covariance Type:            nonrobust   LLR p-value:                 4.163e-73\n",
              "=====================================================================================\n",
              "                        coef    std err          z      P>|z|      [0.025      0.975]\n",
              "-------------------------------------------------------------------------------------\n",
              "const                 0.6971      0.736      0.947      0.343      -0.745       2.139\n",
              "Cholesterol          -0.0046      0.001     -3.434      0.001      -0.007      -0.002\n",
              "Oldpeak               0.3554      0.151      2.360      0.018       0.060       0.651\n",
              "Sex_M                 1.2687      0.345      3.679      0.000       0.593       1.945\n",
              "ChestPainType_ATA    -1.5745      0.401     -3.928      0.000      -2.360      -0.789\n",
              "ChestPainType_NAP    -1.6143      0.345     -4.684      0.000      -2.290      -0.939\n",
              "ChestPainType_TA     -1.0523      0.498     -2.112      0.035      -2.029      -0.076\n",
              "FastingBS_Low        -0.9801      0.338     -2.898      0.004      -1.643      -0.317\n",
              "ExerciseAngina_Y      1.0857      0.299      3.637      0.000       0.501       1.671\n",
              "ST_Slope_Flat         1.2611      0.556      2.269      0.023       0.172       2.350\n",
              "ST_Slope_Up          -1.1410      0.579     -1.970      0.049      -2.276      -0.006\n",
              "=====================================================================================\n",
              "\"\"\""
            ],
            "text/html": [
              "<table class=\"simpletable\">\n",
              "<caption>Logit Regression Results</caption>\n",
              "<tr>\n",
              "  <th>Dep. Variable:</th>     <td>HeartDisease</td>   <th>  No. Observations:  </th>  <td>   532</td>  \n",
              "</tr>\n",
              "<tr>\n",
              "  <th>Model:</th>                 <td>Logit</td>      <th>  Df Residuals:      </th>  <td>   521</td>  \n",
              "</tr>\n",
              "<tr>\n",
              "  <th>Method:</th>                 <td>MLE</td>       <th>  Df Model:          </th>  <td>    10</td>  \n",
              "</tr>\n",
              "<tr>\n",
              "  <th>Date:</th>            <td>Fri, 29 Apr 2022</td> <th>  Pseudo R-squ.:     </th>  <td>0.5000</td>  \n",
              "</tr>\n",
              "<tr>\n",
              "  <th>Time:</th>                <td>13:53:24</td>     <th>  Log-Likelihood:    </th> <td> -184.38</td> \n",
              "</tr>\n",
              "<tr>\n",
              "  <th>converged:</th>             <td>True</td>       <th>  LL-Null:           </th> <td> -368.75</td> \n",
              "</tr>\n",
              "<tr>\n",
              "  <th>Covariance Type:</th>     <td>nonrobust</td>    <th>  LLR p-value:       </th> <td>4.163e-73</td>\n",
              "</tr>\n",
              "</table>\n",
              "<table class=\"simpletable\">\n",
              "<tr>\n",
              "          <td></td>             <th>coef</th>     <th>std err</th>      <th>z</th>      <th>P>|z|</th>  <th>[0.025</th>    <th>0.975]</th>  \n",
              "</tr>\n",
              "<tr>\n",
              "  <th>const</th>             <td>    0.6971</td> <td>    0.736</td> <td>    0.947</td> <td> 0.343</td> <td>   -0.745</td> <td>    2.139</td>\n",
              "</tr>\n",
              "<tr>\n",
              "  <th>Cholesterol</th>       <td>   -0.0046</td> <td>    0.001</td> <td>   -3.434</td> <td> 0.001</td> <td>   -0.007</td> <td>   -0.002</td>\n",
              "</tr>\n",
              "<tr>\n",
              "  <th>Oldpeak</th>           <td>    0.3554</td> <td>    0.151</td> <td>    2.360</td> <td> 0.018</td> <td>    0.060</td> <td>    0.651</td>\n",
              "</tr>\n",
              "<tr>\n",
              "  <th>Sex_M</th>             <td>    1.2687</td> <td>    0.345</td> <td>    3.679</td> <td> 0.000</td> <td>    0.593</td> <td>    1.945</td>\n",
              "</tr>\n",
              "<tr>\n",
              "  <th>ChestPainType_ATA</th> <td>   -1.5745</td> <td>    0.401</td> <td>   -3.928</td> <td> 0.000</td> <td>   -2.360</td> <td>   -0.789</td>\n",
              "</tr>\n",
              "<tr>\n",
              "  <th>ChestPainType_NAP</th> <td>   -1.6143</td> <td>    0.345</td> <td>   -4.684</td> <td> 0.000</td> <td>   -2.290</td> <td>   -0.939</td>\n",
              "</tr>\n",
              "<tr>\n",
              "  <th>ChestPainType_TA</th>  <td>   -1.0523</td> <td>    0.498</td> <td>   -2.112</td> <td> 0.035</td> <td>   -2.029</td> <td>   -0.076</td>\n",
              "</tr>\n",
              "<tr>\n",
              "  <th>FastingBS_Low</th>     <td>   -0.9801</td> <td>    0.338</td> <td>   -2.898</td> <td> 0.004</td> <td>   -1.643</td> <td>   -0.317</td>\n",
              "</tr>\n",
              "<tr>\n",
              "  <th>ExerciseAngina_Y</th>  <td>    1.0857</td> <td>    0.299</td> <td>    3.637</td> <td> 0.000</td> <td>    0.501</td> <td>    1.671</td>\n",
              "</tr>\n",
              "<tr>\n",
              "  <th>ST_Slope_Flat</th>     <td>    1.2611</td> <td>    0.556</td> <td>    2.269</td> <td> 0.023</td> <td>    0.172</td> <td>    2.350</td>\n",
              "</tr>\n",
              "<tr>\n",
              "  <th>ST_Slope_Up</th>       <td>   -1.1410</td> <td>    0.579</td> <td>   -1.970</td> <td> 0.049</td> <td>   -2.276</td> <td>   -0.006</td>\n",
              "</tr>\n",
              "</table>"
            ]
          },
          "metadata": {},
          "execution_count": 71
        }
      ],
      "source": [
        "model_sm.summary()"
      ]
    },
    {
      "cell_type": "markdown",
      "source": [
        "Logistic Regression model의 요약은 위와같다.\n",
        "\n",
        "총 532개 observation, 잔차는 총 값이 521이였으며 모델의 Dataframe은 10가지 변수들로 이루어져 있다\n",
        "\n",
        "이때 10가지 변수들의 경우 5개의 변수들을 전처리 과정에서 지웠기 때문에 지웠던 변수들을 나타내면\n",
        "\n",
        "reference:(Sex = female, ChestPainType = ASY, FastingBS=High, ExerciseAngina= N,  ST_Slope=Down)\n",
        "\n",
        "10개의 변수의  p-value가 모두 유의수준 0.05 이하이기 때문에 모두 고려한다.\n",
        "\n",
        "Logit(HeartDisease=1,발병)=0.6971 -0.0046* Cholesterol +0.3554* Oldpeak+ 1.2687* Sex_M -1.5745* ChestPainType_ATA - 1.6143* ChestPainType_NAP -1.0523* ChestPainType_TA -0.9801* FastingBS_Low + 1.0857* ExerciseAngina_Y +1.2611 * ST_Slope_Flat -1.1410* ST_Slope_ Up\n",
        "\n",
        "즉 콜레스테롤이 낮고, Oldpeak가 높으며 , 성별의 경우는 남성이고 타입이 ATA,NAP,TA가 아니고(즉 ASY 일경우) FastingBS가 높고 ExcerciseAngina가 있고 ST_Slope가 Flat하지 않고 UP일 경우 HeartDisease가 발병한다고 해석할 수 있었다. "
      ],
      "metadata": {
        "id": "UXOFhW-aphBL"
      }
    },
    {
      "cell_type": "code",
      "execution_count": null,
      "metadata": {
        "id": "dMkTla7L9iyY",
        "colab": {
          "base_uri": "https://localhost:8080/"
        },
        "outputId": "661c5b77-4e39-4680-ab43-51e78354549e"
      },
      "outputs": [
        {
          "output_type": "execute_result",
          "data": {
            "text/plain": [
              "const                2.007898\n",
              "Cholesterol          0.995370\n",
              "Oldpeak              1.426797\n",
              "Sex_M                3.556270\n",
              "ChestPainType_ATA    0.207112\n",
              "ChestPainType_NAP    0.199020\n",
              "ChestPainType_TA     0.349146\n",
              "FastingBS_Low        0.375256\n",
              "ExerciseAngina_Y     2.961615\n",
              "ST_Slope_Flat        3.529233\n",
              "ST_Slope_Up          0.319489\n",
              "dtype: float64"
            ]
          },
          "metadata": {},
          "execution_count": 73
        }
      ],
      "source": [
        "# Odds ratio\n",
        "import numpy as np\n",
        "np.exp(model_sm.params) # reference: (Pclass = 1, Sex = Female)"
      ]
    },
    {
      "cell_type": "markdown",
      "source": [
        "reference:(Sex = female, ChestPainType = ASY, FastingBS=High, ExerciseAngina= N,  ST_Slope=Down) 임을 인지하고 odds ratio를 해석한다.\n",
        "\n",
        "Numerical 변수인 Cholesterol과 Oldpeak의 경우 그 자체의 Odds수치가 각각 0.9953/1.4267 이고 나머지 변수들과 비교할 수 없다.\n",
        "\n",
        "Sex_M의 경우 여성일때보다 Odds가 약 3.556배로 증가하였다. 즉 여성일 경우보다 발병하지 않을 확률 대비 발병할 확률이 3.556배로 증가했다것이다.(Odds가 255.6% 증가하였다)\n",
        "\n",
        "ChestPainType_ATA의 경우 ChestPainType이 ASY일 경우보다 Odds가 0.2071배로 증가 하였다. 즉 ASY일 경우보다 발병하지 않을 확률 대비 발병할 확률이 0.2071배로 증가했다것이다.(Odds가 79.83% 감소하였다)\n",
        "\n",
        "ChestPainType이 NAP일경우 ASY일 경우보다 Odds가 0.1990배(Odds가 80.1% 감소)\n",
        "\n",
        "ChestPainType이 TA일경우 ASY일 경우보다 Odds가 0.3491배(Odds가 65.09% 감소)\n",
        "\n",
        "FastingBs_Low의 경우 High일때보다 Odds가 약 0.3752배로 증가하였다. 즉 High일 경우보다 발병하지 않을 확률 대비 발병할 확률이 0.3752배로 증가했다것이다.(Odds가 62.48% 감소하였다)\n",
        "\n",
        "ExerciseAngina_Y의 경우 ExcerciseAngina가 NO(없을때)일때보다 Odds가 약 2.961배로 증가하였다. 즉 ExerciseAngina가 없을때와 비교하여 발병하지 않을 확률 대비 발병할 확률이 2.961배로 증가했다것이다.(Odds가 196.1% 증가하였다)\n",
        "\n",
        "ST_Slope_Flat의 경우 Down일때보다 Odds가 약 3.529배로 증가하였다. 즉 Down일 경우보다 발병하지 않을 확률 대비 발병할 확률이 3.529배로 증가했다것이다.(Odds가 252.9% 증가하였다)\n",
        "\n",
        "ST_Slope가 Up일경우 Down일 경우보다 Odds가 0.3194배(Odds가 68.06% 감소)\n"
      ],
      "metadata": {
        "id": "epnEPRaIuf7c"
      }
    },
    {
      "cell_type": "markdown",
      "metadata": {
        "id": "6Qgxf040_SYj"
      },
      "source": [
        "## Appendices"
      ]
    },
    {
      "cell_type": "markdown",
      "metadata": {
        "id": "dPjpPR2i_Uvw"
      },
      "source": [
        "SKlearn"
      ]
    },
    {
      "cell_type": "code",
      "execution_count": null,
      "metadata": {
        "id": "Dk3SdVDr_YUY"
      },
      "outputs": [],
      "source": [
        "from sklearn.linear_model import LogisticRegression\n",
        "model = LogisticRegression(C=1e9)\n",
        "model.fit(x_train, y_train)"
      ]
    },
    {
      "cell_type": "code",
      "execution_count": null,
      "metadata": {
        "id": "Gf44PRdG_ana"
      },
      "outputs": [],
      "source": [
        "print(model.intercept_) \n",
        "print(model.coef_)\n",
        "\n",
        "## reference: (Pclass=1, Sex=Female)"
      ]
    },
    {
      "cell_type": "code",
      "execution_count": null,
      "metadata": {
        "id": "JI_HJOhN_cYY"
      },
      "outputs": [],
      "source": [
        "print(model.predict_proba(x_train)[:5]) # 0=정상, 1=심장병 : 각 관측치별..[0(정상)일 확률, 1(심장병)일 확률]"
      ]
    },
    {
      "cell_type": "markdown",
      "source": [
        "다음과 같은 코드로 각 관측치별 정상일 확률과 심장병일 확률을 파악할 수 있다. 해당 모델에서는 0.5를 기준으로 낮으면 정상 높으면 심장병으로 파악할 수 있다. "
      ],
      "metadata": {
        "id": "88CYvhYabHi7"
      }
    },
    {
      "cell_type": "markdown",
      "metadata": {
        "id": "3LtpHktA_e8m"
      },
      "source": [
        "K-fold CV"
      ]
    },
    {
      "cell_type": "markdown",
      "source": [
        "https://blog.naver.com/PostView.naver?blogId=sjy5448&logNo=222427780700&parentCategoryNo=153&categoryNo=&viewDate=&isShowPopularPosts=true&from=search"
      ],
      "metadata": {
        "id": "kkQK5CCFcfFG"
      }
    },
    {
      "cell_type": "code",
      "execution_count": null,
      "metadata": {
        "id": "IhnnkTQz_iB8"
      },
      "outputs": [],
      "source": [
        "from sklearn.model_selection import cross_validate\n",
        "# from sklearn.model_selection import KFold\n",
        "from sklearn.model_selection import StratifiedKFold\n",
        "from sklearn.linear_model import LogisticRegression\n",
        "import numpy as np\n",
        "\n",
        "# kfold = KFold(n_splits=10, shuffle=True, random_state=312) # K-Fold 객체 생성\n",
        "kfold = StratifiedKFold(n_splits=10, shuffle=True, random_state=312) # stratified K-Fold 객체 생성\n",
        "\n",
        "# sklearn 관련 (cross-validation, measure) 추가 학습 링크:\n",
        "# https://scikit-learn.org/stable/modules/cross_validation.html\n",
        "# https://scikit-learn.org/stable/modules/generated/sklearn.model_selection.cross_validate.html#sklearn.model_selection.cross_validate\n",
        "# https://scikit-learn.org/stable/modules/generated/sklearn.model_selection.cross_val_score.html#sklearn.model_selection.cross_val_score"
      ]
    },
    {
      "cell_type": "code",
      "execution_count": null,
      "metadata": {
        "id": "HjJnUcD8_j0B"
      },
      "outputs": [],
      "source": [
        "'''\n",
        "https://scikit-learn.org/stable/modules/generated/sklearn.linear_model.LogisticRegression.html\n",
        "penalty: 'l1', 'l2', 'elasticnet', 'none' (default: l2)\n",
        "fit_intercept: True, False (default: True)\n",
        "'''\n",
        "from sklearn.linear_model import LogisticRegression\n",
        "model_cv = LogisticRegression()"
      ]
    },
    {
      "cell_type": "code",
      "execution_count": null,
      "metadata": {
        "id": "2f-F3-9__lob"
      },
      "outputs": [],
      "source": [
        "# Stratified k-fold CV\n",
        "# Accuracy 기준: cross_val_score(model, featrues, target, cross validation)\n",
        "scores = cross_validate(model_cv, train_features, train_target, cv=kfold, # (model, featrues, target, cross validation)\n",
        "                        scoring=['accuracy', 'recall', 'precision', 'f1', 'roc_auc']) \n",
        "                        # precision/recall macro/micro : https://datascience.stackexchange.com/questions/15989/micro-average-vs-macro-average-performance-in-a-multiclass-classification-settin\n",
        "{k: np.mean(v) for k, v in scores.items()}"
      ]
    },
    {
      "cell_type": "code",
      "execution_count": null,
      "metadata": {
        "id": "bigaAQo3_nd_"
      },
      "outputs": [],
      "source": [
        "from sklearn.model_selection import cross_val_predict\n",
        "y_pred = cross_val_predict(model_cv, train_features, train_target, cv=kfold)"
      ]
    }
  ],
  "metadata": {
    "colab": {
      "collapsed_sections": [],
      "name": "할수있조 HW6",
      "provenance": [],
      "toc_visible": true
    },
    "kernelspec": {
      "display_name": "Python 3",
      "name": "python3"
    },
    "language_info": {
      "name": "python"
    }
  },
  "nbformat": 4,
  "nbformat_minor": 0
}